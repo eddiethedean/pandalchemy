{
 "cells": [
  {
   "cell_type": "markdown",
   "metadata": {},
   "source": [
    "# 06_schema_evolution\n",
    "\n",
    "Schema Evolution\n",
    "\n",
    "This example demonstrates schema modification capabilities:\n",
    "- Adding columns with defaults\n",
    "- Dropping columns safely\n",
    "- Renaming columns\n",
    "- Changing column types\n",
    "- Best practices for schema changes"
   ]
  },
  {
   "cell_type": "code",
   "execution_count": 1,
   "metadata": {
    "execution": {
     "iopub.execute_input": "2025-10-21T14:32:55.525045Z",
     "iopub.status.busy": "2025-10-21T14:32:55.524814Z",
     "iopub.status.idle": "2025-10-21T14:32:55.896093Z",
     "shell.execute_reply": "2025-10-21T14:32:55.895652Z"
    }
   },
   "outputs": [],
   "source": [
    "import pandas as pd\n",
    "from sqlalchemy import create_engine\n",
    "import pandalchemy as pa"
   ]
  },
  {
   "cell_type": "code",
   "execution_count": 2,
   "metadata": {
    "execution": {
     "iopub.execute_input": "2025-10-21T14:32:55.897495Z",
     "iopub.status.busy": "2025-10-21T14:32:55.897395Z",
     "iopub.status.idle": "2025-10-21T14:32:55.902219Z",
     "shell.execute_reply": "2025-10-21T14:32:55.901898Z"
    }
   },
   "outputs": [],
   "source": [
    "# Setup\n",
    "engine = create_engine('sqlite:///:memory:')\n",
    "db = pa.DataBase(engine)"
   ]
  },
  {
   "cell_type": "code",
   "execution_count": 3,
   "metadata": {
    "execution": {
     "iopub.execute_input": "2025-10-21T14:32:55.903229Z",
     "iopub.status.busy": "2025-10-21T14:32:55.903174Z",
     "iopub.status.idle": "2025-10-21T14:32:55.904691Z",
     "shell.execute_reply": "2025-10-21T14:32:55.904376Z"
    }
   },
   "outputs": [
    {
     "name": "stdout",
     "output_type": "stream",
     "text": [
      "Schema Evolution Example\n"
     ]
    }
   ],
   "source": [
    "print(\"Schema Evolution Example\")"
   ]
  },
  {
   "cell_type": "code",
   "execution_count": 4,
   "metadata": {
    "execution": {
     "iopub.execute_input": "2025-10-21T14:32:55.919972Z",
     "iopub.status.busy": "2025-10-21T14:32:55.919883Z",
     "iopub.status.idle": "2025-10-21T14:32:55.926778Z",
     "shell.execute_reply": "2025-10-21T14:32:55.926375Z"
    }
   },
   "outputs": [],
   "source": [
    "# Create initial table\n",
    "users_data = pd.DataFrame({\n",
    "    'username': ['alice', 'bob', 'charlie'],\n",
    "    'email': ['alice@example.com', 'bob@example.com', 'charlie@example.com']\n",
    "}, index=[1, 2, 3])\n",
    "\n",
    "users = db.create_table('users', users_data, primary_key='id')"
   ]
  },
  {
   "cell_type": "markdown",
   "metadata": {},
   "source": [
    "### 1. Initial Schema"
   ]
  },
  {
   "cell_type": "code",
   "execution_count": 5,
   "metadata": {
    "execution": {
     "iopub.execute_input": "2025-10-21T14:32:55.928084Z",
     "iopub.status.busy": "2025-10-21T14:32:55.928017Z",
     "iopub.status.idle": "2025-10-21T14:32:55.930996Z",
     "shell.execute_reply": "2025-10-21T14:32:55.930635Z"
    }
   },
   "outputs": [
    {
     "name": "stdout",
     "output_type": "stream",
     "text": [
      "   username                email\n",
      "id                              \n",
      "1     alice    alice@example.com\n",
      "2       bob      bob@example.com\n",
      "3   charlie  charlie@example.com\n",
      "\n",
      "Columns: ['username', 'email']\n",
      "Dtypes:\n",
      "username    object\n",
      "email       object\n",
      "dtype: object\n"
     ]
    }
   ],
   "source": [
    "print(users.to_pandas())\n",
    "print(f\"\\nColumns: {list(users._data.columns)}\")\n",
    "print(f\"Dtypes:\\n{users._data.dtypes}\")"
   ]
  },
  {
   "cell_type": "markdown",
   "metadata": {},
   "source": [
    "### 2. Adding Columns"
   ]
  },
  {
   "cell_type": "code",
   "execution_count": 6,
   "metadata": {
    "execution": {
     "iopub.execute_input": "2025-10-21T14:32:55.931850Z",
     "iopub.status.busy": "2025-10-21T14:32:55.931803Z",
     "iopub.status.idle": "2025-10-21T14:32:55.933064Z",
     "shell.execute_reply": "2025-10-21T14:32:55.932750Z"
    }
   },
   "outputs": [],
   "source": [
    "# Add column with default value"
   ]
  },
  {
   "cell_type": "markdown",
   "metadata": {},
   "source": [
    "### \\n   a) Add 'active' column with default True:"
   ]
  },
  {
   "cell_type": "code",
   "execution_count": 7,
   "metadata": {
    "execution": {
     "iopub.execute_input": "2025-10-21T14:32:55.934041Z",
     "iopub.status.busy": "2025-10-21T14:32:55.933979Z",
     "iopub.status.idle": "2025-10-21T14:32:55.940538Z",
     "shell.execute_reply": "2025-10-21T14:32:55.940228Z"
    }
   },
   "outputs": [
    {
     "name": "stdout",
     "output_type": "stream",
     "text": [
      "      ✓ Column added\n",
      "   username                email  active\n",
      "id                                      \n",
      "1     alice    alice@example.com    True\n",
      "2       bob      bob@example.com    True\n",
      "3   charlie  charlie@example.com    True\n"
     ]
    }
   ],
   "source": [
    "users.add_column_with_default('active', True)\n",
    "users.push()\n",
    "\n",
    "print(\"      ✓ Column added\")\n",
    "print(users.to_pandas())\n",
    "\n",
    "# Add multiple columns"
   ]
  },
  {
   "cell_type": "markdown",
   "metadata": {},
   "source": [
    "### \\n   b) Add multiple columns:"
   ]
  },
  {
   "cell_type": "code",
   "execution_count": 8,
   "metadata": {
    "execution": {
     "iopub.execute_input": "2025-10-21T14:32:55.941493Z",
     "iopub.status.busy": "2025-10-21T14:32:55.941429Z",
     "iopub.status.idle": "2025-10-21T14:32:55.952480Z",
     "shell.execute_reply": "2025-10-21T14:32:55.952086Z"
    }
   },
   "outputs": [
    {
     "name": "stdout",
     "output_type": "stream",
     "text": [
      "      ✓ Added 'verified' and 'signup_date'\n",
      "   username                email  active signup_date  verified\n",
      "id                                                            \n",
      "1     alice    alice@example.com    True  2024-01-01     False\n",
      "2       bob      bob@example.com    True  2024-01-01     False\n",
      "3   charlie  charlie@example.com    True  2024-01-01     False\n"
     ]
    }
   ],
   "source": [
    "users.pull()  # Refresh first\n",
    "users.add_column_with_default('verified', False)\n",
    "users.add_column_with_default('signup_date', '2024-01-01')\n",
    "users.push()\n",
    "\n",
    "print(\"      ✓ Added 'verified' and 'signup_date'\")\n",
    "users.pull()\n",
    "print(users.to_pandas())\n",
    "\n",
    "# Add column with None/null default"
   ]
  },
  {
   "cell_type": "markdown",
   "metadata": {},
   "source": [
    "### \\n   c) Add nullable column:"
   ]
  },
  {
   "cell_type": "code",
   "execution_count": 9,
   "metadata": {
    "execution": {
     "iopub.execute_input": "2025-10-21T14:32:55.953379Z",
     "iopub.status.busy": "2025-10-21T14:32:55.953322Z",
     "iopub.status.idle": "2025-10-21T14:32:55.961761Z",
     "shell.execute_reply": "2025-10-21T14:32:55.961331Z"
    }
   },
   "outputs": [
    {
     "name": "stdout",
     "output_type": "stream",
     "text": [
      "      ✓ Added 'phone' (nullable)\n",
      "   username                email  active signup_date  verified  phone\n",
      "id                                                                   \n",
      "1     alice    alice@example.com    True  2024-01-01     False    NaN\n",
      "2       bob      bob@example.com    True  2024-01-01     False    NaN\n",
      "3   charlie  charlie@example.com    True  2024-01-01     False    NaN\n"
     ]
    }
   ],
   "source": [
    "users.add_column_with_default('phone', None)\n",
    "users.push()\n",
    "\n",
    "print(\"      ✓ Added 'phone' (nullable)\")\n",
    "users.pull()\n",
    "print(users.to_pandas())"
   ]
  },
  {
   "cell_type": "markdown",
   "metadata": {},
   "source": [
    "### 3. Renaming Columns"
   ]
  },
  {
   "cell_type": "code",
   "execution_count": 10,
   "metadata": {
    "execution": {
     "iopub.execute_input": "2025-10-21T14:32:55.962795Z",
     "iopub.status.busy": "2025-10-21T14:32:55.962739Z",
     "iopub.status.idle": "2025-10-21T14:32:55.964100Z",
     "shell.execute_reply": "2025-10-21T14:32:55.963807Z"
    }
   },
   "outputs": [],
   "source": [
    "# Rename single column"
   ]
  },
  {
   "cell_type": "markdown",
   "metadata": {},
   "source": [
    "### \\n   a) Rename 'username' to 'name':"
   ]
  },
  {
   "cell_type": "code",
   "execution_count": 11,
   "metadata": {
    "execution": {
     "iopub.execute_input": "2025-10-21T14:32:55.965069Z",
     "iopub.status.busy": "2025-10-21T14:32:55.965002Z",
     "iopub.status.idle": "2025-10-21T14:32:55.974719Z",
     "shell.execute_reply": "2025-10-21T14:32:55.974390Z"
    }
   },
   "outputs": [
    {
     "name": "stdout",
     "output_type": "stream",
     "text": [
      "      ✓ Column renamed\n",
      "       name                email  active signup_date  verified  phone\n",
      "id                                                                   \n",
      "1     alice    alice@example.com    True  2024-01-01     False    NaN\n",
      "2       bob      bob@example.com    True  2024-01-01     False    NaN\n",
      "3   charlie  charlie@example.com    True  2024-01-01     False    NaN\n"
     ]
    }
   ],
   "source": [
    "users.rename_column_safe('username', 'name')\n",
    "users.push()\n",
    "\n",
    "print(\"      ✓ Column renamed\")\n",
    "users.pull()\n",
    "print(users.to_pandas())\n",
    "\n",
    "# Rename multiple columns"
   ]
  },
  {
   "cell_type": "markdown",
   "metadata": {},
   "source": [
    "### \\n   b) Rename 'signup_date' to 'created_at':"
   ]
  },
  {
   "cell_type": "code",
   "execution_count": 12,
   "metadata": {
    "execution": {
     "iopub.execute_input": "2025-10-21T14:32:55.975835Z",
     "iopub.status.busy": "2025-10-21T14:32:55.975767Z",
     "iopub.status.idle": "2025-10-21T14:32:55.984723Z",
     "shell.execute_reply": "2025-10-21T14:32:55.984483Z"
    }
   },
   "outputs": [
    {
     "name": "stdout",
     "output_type": "stream",
     "text": [
      "      ✓ Column renamed\n",
      "      Columns: ['name', 'email', 'active', 'created_at', 'verified', 'phone']\n"
     ]
    }
   ],
   "source": [
    "users.rename_column_safe('signup_date', 'created_at')\n",
    "users.push()\n",
    "users.pull()\n",
    "\n",
    "print(\"      ✓ Column renamed\")\n",
    "print(f\"      Columns: {list(users._data.columns)}\")"
   ]
  },
  {
   "cell_type": "markdown",
   "metadata": {},
   "source": [
    "### 4. Dropping Columns"
   ]
  },
  {
   "cell_type": "code",
   "execution_count": 13,
   "metadata": {
    "execution": {
     "iopub.execute_input": "2025-10-21T14:32:55.985789Z",
     "iopub.status.busy": "2025-10-21T14:32:55.985732Z",
     "iopub.status.idle": "2025-10-21T14:32:55.987077Z",
     "shell.execute_reply": "2025-10-21T14:32:55.986799Z"
    }
   },
   "outputs": [],
   "source": [
    "# Drop single column"
   ]
  },
  {
   "cell_type": "markdown",
   "metadata": {},
   "source": [
    "### \\n   a) Drop 'phone' column:"
   ]
  },
  {
   "cell_type": "code",
   "execution_count": 14,
   "metadata": {
    "execution": {
     "iopub.execute_input": "2025-10-21T14:32:55.987950Z",
     "iopub.status.busy": "2025-10-21T14:32:55.987901Z",
     "iopub.status.idle": "2025-10-21T14:32:55.996477Z",
     "shell.execute_reply": "2025-10-21T14:32:55.996069Z"
    }
   },
   "outputs": [
    {
     "name": "stdout",
     "output_type": "stream",
     "text": [
      "      ✓ Column dropped\n",
      "       name                email  active  created_at  verified\n",
      "id                                                            \n",
      "1     alice    alice@example.com    True  2024-01-01     False\n",
      "2       bob      bob@example.com    True  2024-01-01     False\n",
      "3   charlie  charlie@example.com    True  2024-01-01     False\n"
     ]
    }
   ],
   "source": [
    "users.drop_column_safe('phone')\n",
    "users.push()\n",
    "\n",
    "print(\"      ✓ Column dropped\")\n",
    "users.pull()\n",
    "print(users.to_pandas())\n",
    "\n",
    "# Drop multiple columns in sequence"
   ]
  },
  {
   "cell_type": "markdown",
   "metadata": {},
   "source": [
    "### \\n   b) Clean up boolean flags:"
   ]
  },
  {
   "cell_type": "code",
   "execution_count": 15,
   "metadata": {
    "execution": {
     "iopub.execute_input": "2025-10-21T14:32:55.997407Z",
     "iopub.status.busy": "2025-10-21T14:32:55.997354Z",
     "iopub.status.idle": "2025-10-21T14:32:56.009331Z",
     "shell.execute_reply": "2025-10-21T14:32:56.008989Z"
    }
   },
   "outputs": [
    {
     "name": "stdout",
     "output_type": "stream",
     "text": [
      "      ✓ Dropped 'active' and 'verified'\n",
      "       name                email  created_at\n",
      "id                                          \n",
      "1     alice    alice@example.com  2024-01-01\n",
      "2       bob      bob@example.com  2024-01-01\n",
      "3   charlie  charlie@example.com  2024-01-01\n"
     ]
    }
   ],
   "source": [
    "users.drop_column_safe('active')\n",
    "users.push()\n",
    "users.pull()\n",
    "users.drop_column_safe('verified')\n",
    "users.push()\n",
    "\n",
    "print(\"      ✓ Dropped 'active' and 'verified'\")\n",
    "users.pull()\n",
    "print(users.to_pandas())"
   ]
  },
  {
   "cell_type": "markdown",
   "metadata": {},
   "source": [
    "### 5. Changing Column Types"
   ]
  },
  {
   "cell_type": "code",
   "execution_count": 16,
   "metadata": {
    "execution": {
     "iopub.execute_input": "2025-10-21T14:32:56.010485Z",
     "iopub.status.busy": "2025-10-21T14:32:56.010416Z",
     "iopub.status.idle": "2025-10-21T14:32:56.016798Z",
     "shell.execute_reply": "2025-10-21T14:32:56.016419Z"
    }
   },
   "outputs": [
    {
     "name": "stdout",
     "output_type": "stream",
     "text": [
      "\n",
      "   Initial types:\n",
      "order_number      int64\n",
      "amount          float64\n",
      "quantity        float64\n",
      "dtype: object\n"
     ]
    }
   ],
   "source": [
    "# Create table with type change needs\n",
    "orders_data = pd.DataFrame({\n",
    "    'order_number': ['1001', '1002', '1003'],  # String but should be int\n",
    "    'amount': [99.99, 149.50, 299.99],\n",
    "    'quantity': [1.0, 2.0, 1.0]  # Float but should be int\n",
    "}, index=[1, 2, 3])\n",
    "\n",
    "orders = db.create_table('orders', orders_data, primary_key='id')\n",
    "\n",
    "print(\"\\n   Initial types:\")\n",
    "print(orders._data.dtypes)\n",
    "\n",
    "# Convert string to int"
   ]
  },
  {
   "cell_type": "markdown",
   "metadata": {},
   "source": [
    "### \\n   a) Convert order_number to integer:"
   ]
  },
  {
   "cell_type": "code",
   "execution_count": 17,
   "metadata": {
    "execution": {
     "iopub.execute_input": "2025-10-21T14:32:56.017717Z",
     "iopub.status.busy": "2025-10-21T14:32:56.017666Z",
     "iopub.status.idle": "2025-10-21T14:32:56.024305Z",
     "shell.execute_reply": "2025-10-21T14:32:56.024014Z"
    }
   },
   "outputs": [
    {
     "name": "stdout",
     "output_type": "stream",
     "text": [
      "      ✓ Converted to int\n",
      "      New type: int64\n"
     ]
    }
   ],
   "source": [
    "orders.change_column_type('order_number', int)\n",
    "orders.push()\n",
    "orders.pull()\n",
    "\n",
    "print(\"      ✓ Converted to int\")\n",
    "print(f\"      New type: {orders._data['order_number'].dtype}\")\n",
    "\n",
    "# Convert float to int"
   ]
  },
  {
   "cell_type": "markdown",
   "metadata": {},
   "source": [
    "### \\n   b) Convert quantity to integer:"
   ]
  },
  {
   "cell_type": "code",
   "execution_count": 18,
   "metadata": {
    "execution": {
     "iopub.execute_input": "2025-10-21T14:32:56.025333Z",
     "iopub.status.busy": "2025-10-21T14:32:56.025240Z",
     "iopub.status.idle": "2025-10-21T14:32:56.032917Z",
     "shell.execute_reply": "2025-10-21T14:32:56.032536Z"
    }
   },
   "outputs": [
    {
     "name": "stdout",
     "output_type": "stream",
     "text": [
      "      ✓ Converted to int\n",
      "      New type: int64\n",
      "\n",
      "   Final types:\n",
      "order_number      int64\n",
      "amount          float64\n",
      "quantity          int64\n",
      "dtype: object\n"
     ]
    }
   ],
   "source": [
    "orders.change_column_type('quantity', int)\n",
    "orders.push()\n",
    "orders.pull()\n",
    "\n",
    "print(\"      ✓ Converted to int\")\n",
    "print(f\"      New type: {orders._data['quantity'].dtype}\")\n",
    "\n",
    "print(\"\\n   Final types:\")\n",
    "print(orders._data.dtypes)"
   ]
  },
  {
   "cell_type": "markdown",
   "metadata": {},
   "source": [
    "### 6. Complex Schema Evolution"
   ]
  },
  {
   "cell_type": "code",
   "execution_count": 19,
   "metadata": {
    "execution": {
     "iopub.execute_input": "2025-10-21T14:32:56.033834Z",
     "iopub.status.busy": "2025-10-21T14:32:56.033780Z",
     "iopub.status.idle": "2025-10-21T14:32:56.057538Z",
     "shell.execute_reply": "2025-10-21T14:32:56.057224Z"
    }
   },
   "outputs": [
    {
     "name": "stdout",
     "output_type": "stream",
     "text": [
      "\n",
      "   Starting schema:\n",
      "       name                email  created_at\n",
      "id                                          \n",
      "1     alice    alice@example.com  2024-01-01\n",
      "2       bob      bob@example.com  2024-01-01\n",
      "3   charlie  charlie@example.com  2024-01-01\n",
      "\n",
      "   Step 1: Add user profile fields\n",
      "\n",
      "   Step 2: Populate from 'name' column\n",
      "       name                email  created_at first_name last_name  age\n",
      "id                                                                    \n",
      "1     alice    alice@example.com  2024-01-01      Alice              0\n",
      "2       bob      bob@example.com  2024-01-01        Bob              0\n",
      "3   charlie  charlie@example.com  2024-01-01    Charlie              0\n",
      "\n",
      "   Step 3: Drop old 'name' column\n",
      "      ✓ Schema evolution complete\n",
      "                  email  created_at first_name last_name  age\n",
      "id                                                           \n",
      "1     alice@example.com  2024-01-01      Alice              0\n",
      "2       bob@example.com  2024-01-01        Bob              0\n",
      "3   charlie@example.com  2024-01-01    Charlie              0\n"
     ]
    }
   ],
   "source": [
    "# Real-world example: evolving user table\n",
    "print(\"\\n   Starting schema:\")\n",
    "print(users.to_pandas())\n",
    "\n",
    "# Step 1: Add new fields\n",
    "print(\"\\n   Step 1: Add user profile fields\")\n",
    "users.add_column_with_default('first_name', '')\n",
    "users.add_column_with_default('last_name', '')\n",
    "users.add_column_with_default('age', 0)\n",
    "users.push()\n",
    "users.pull()\n",
    "\n",
    "# Step 2: Populate from existing data\n",
    "print(\"\\n   Step 2: Populate from 'name' column\")\n",
    "for idx in users._data.index:\n",
    "    name = users.get_row(idx)['name']\n",
    "    # Simple split (in real code, handle edge cases)\n",
    "    parts = name.split()\n",
    "    if len(parts) >= 1:\n",
    "        users.update_row(idx, {'first_name': parts[0].capitalize()})\n",
    "    if len(parts) >= 2:\n",
    "        users.update_row(idx, {'last_name': parts[-1].capitalize()})\n",
    "\n",
    "users.push()\n",
    "users.pull()\n",
    "print(users.to_pandas())\n",
    "\n",
    "# Step 3: Drop old column\n",
    "print(\"\\n   Step 3: Drop old 'name' column\")\n",
    "users.drop_column_safe('name')\n",
    "users.push()\n",
    "users.pull()\n",
    "\n",
    "print(\"      ✓ Schema evolution complete\")\n",
    "print(users.to_pandas())"
   ]
  },
  {
   "cell_type": "markdown",
   "metadata": {},
   "source": [
    "### 7. Best Practices"
   ]
  },
  {
   "cell_type": "code",
   "execution_count": 20,
   "metadata": {
    "execution": {
     "iopub.execute_input": "2025-10-21T14:32:56.058635Z",
     "iopub.status.busy": "2025-10-21T14:32:56.058564Z",
     "iopub.status.idle": "2025-10-21T14:32:56.060666Z",
     "shell.execute_reply": "2025-10-21T14:32:56.060315Z"
    }
   },
   "outputs": [
    {
     "name": "stdout",
     "output_type": "stream",
     "text": [
      "\n",
      "   ✓ DO: Push schema changes separately from data changes\n",
      "      users.add_column_with_default('status', 'active')\n",
      "      users.push()  # Push schema\n",
      "      users.pull()  # Refresh\n",
      "      users.loc[0, 'status'] = 'inactive'\n",
      "      users.push()  # Push data\n",
      "\n",
      "   ❌ DON'T: Mix schema and data changes in same push\n",
      "      users.add_column_with_default('status', 'active')\n",
      "      users.loc[0, 'status'] = 'inactive'  # May not persist\n",
      "      users.push()\n"
     ]
    }
   ],
   "source": [
    "print(\"\\n   ✓ DO: Push schema changes separately from data changes\")\n",
    "print(\"      users.add_column_with_default('status', 'active')\")\n",
    "print(\"      users.push()  # Push schema\")\n",
    "print(\"      users.pull()  # Refresh\")\n",
    "print(\"      users.loc[0, 'status'] = 'inactive'\")\n",
    "print(\"      users.push()  # Push data\")\n",
    "print()\n",
    "print(\"   ❌ DON'T: Mix schema and data changes in same push\")\n",
    "print(\"      users.add_column_with_default('status', 'active')\")\n",
    "print(\"      users.loc[0, 'status'] = 'inactive'  # May not persist\")\n",
    "print(\"      users.push()\")"
   ]
  },
  {
   "cell_type": "markdown",
   "metadata": {},
   "source": [
    "### 8. Error Handling"
   ]
  },
  {
   "cell_type": "code",
   "execution_count": 21,
   "metadata": {
    "execution": {
     "iopub.execute_input": "2025-10-21T14:32:56.061568Z",
     "iopub.status.busy": "2025-10-21T14:32:56.061516Z",
     "iopub.status.idle": "2025-10-21T14:32:56.062741Z",
     "shell.execute_reply": "2025-10-21T14:32:56.062537Z"
    }
   },
   "outputs": [],
   "source": [
    "# Try to rename non-existent column"
   ]
  },
  {
   "cell_type": "markdown",
   "metadata": {},
   "source": [
    "### \\n   a) Rename non-existent column:"
   ]
  },
  {
   "cell_type": "code",
   "execution_count": 22,
   "metadata": {
    "execution": {
     "iopub.execute_input": "2025-10-21T14:32:56.063621Z",
     "iopub.status.busy": "2025-10-21T14:32:56.063573Z",
     "iopub.status.idle": "2025-10-21T14:32:56.065241Z",
     "shell.execute_reply": "2025-10-21T14:32:56.064877Z"
    }
   },
   "outputs": [
    {
     "name": "stdout",
     "output_type": "stream",
     "text": [
      "      ✓ Correctly prevented: SchemaError\n"
     ]
    }
   ],
   "source": [
    "try:\n",
    "    users.rename_column_safe('nonexistent', 'newname')\n",
    "    users.push()\n",
    "    print(\"      ❌ Should have failed\")\n",
    "except Exception as e:\n",
    "    print(f\"      ✓ Correctly prevented: {type(e).__name__}\")\n",
    "\n",
    "# Try to drop non-existent column"
   ]
  },
  {
   "cell_type": "markdown",
   "metadata": {},
   "source": [
    "### \\n   b) Drop non-existent column:"
   ]
  },
  {
   "cell_type": "code",
   "execution_count": 23,
   "metadata": {
    "execution": {
     "iopub.execute_input": "2025-10-21T14:32:56.066112Z",
     "iopub.status.busy": "2025-10-21T14:32:56.066038Z",
     "iopub.status.idle": "2025-10-21T14:32:56.067574Z",
     "shell.execute_reply": "2025-10-21T14:32:56.067242Z"
    }
   },
   "outputs": [
    {
     "name": "stdout",
     "output_type": "stream",
     "text": [
      "      ✓ Correctly prevented: SchemaError\n"
     ]
    }
   ],
   "source": [
    "try:\n",
    "    users.drop_column_safe('nonexistent')\n",
    "    users.push()\n",
    "    print(\"      ❌ Should have failed\")\n",
    "except Exception as e:\n",
    "    print(f\"      ✓ Correctly prevented: {type(e).__name__}\")"
   ]
  },
  {
   "cell_type": "markdown",
   "metadata": {},
   "source": [
    "### 9. Schema Change Workflow"
   ]
  },
  {
   "cell_type": "code",
   "execution_count": 24,
   "metadata": {
    "execution": {
     "iopub.execute_input": "2025-10-21T14:32:56.068397Z",
     "iopub.status.busy": "2025-10-21T14:32:56.068349Z",
     "iopub.status.idle": "2025-10-21T14:32:56.070243Z",
     "shell.execute_reply": "2025-10-21T14:32:56.069901Z"
    }
   },
   "outputs": [
    {
     "name": "stdout",
     "output_type": "stream",
     "text": [
      "\n",
      "   Recommended workflow for major changes:\n",
      "\n",
      "   1. Add new columns with defaults\n",
      "      → Push and verify\n",
      "\n",
      "   2. Populate new columns from old data\n",
      "      → Push and verify\n",
      "\n",
      "   3. Update application to use new columns\n",
      "      → Deploy and verify\n",
      "\n",
      "   4. Drop old columns\n",
      "      → Push and verify\n"
     ]
    }
   ],
   "source": [
    "print(\"\\n   Recommended workflow for major changes:\")\n",
    "print()\n",
    "print(\"   1. Add new columns with defaults\")\n",
    "print(\"      → Push and verify\")\n",
    "print()\n",
    "print(\"   2. Populate new columns from old data\")\n",
    "print(\"      → Push and verify\")\n",
    "print()\n",
    "print(\"   3. Update application to use new columns\")\n",
    "print(\"      → Deploy and verify\")\n",
    "print()\n",
    "print(\"   4. Drop old columns\")\n",
    "print(\"      → Push and verify\")"
   ]
  },
  {
   "cell_type": "markdown",
   "metadata": {},
   "source": [
    "### 10. Tracking Schema Changes"
   ]
  },
  {
   "cell_type": "code",
   "execution_count": 25,
   "metadata": {
    "execution": {
     "iopub.execute_input": "2025-10-21T14:32:56.071081Z",
     "iopub.status.busy": "2025-10-21T14:32:56.071030Z",
     "iopub.status.idle": "2025-10-21T14:32:56.084292Z",
     "shell.execute_reply": "2025-10-21T14:32:56.083847Z"
    }
   },
   "outputs": [
    {
     "name": "stdout",
     "output_type": "stream",
     "text": [
      "\n",
      "   Change summary:\n",
      "      total_operations: 2\n",
      "      columns_added: 1\n",
      "      columns_renamed: 1\n",
      "      has_changes: True\n",
      "\n",
      "   ✓ Schema changes committed\n",
      "\n",
      "======================================================================\n",
      "Example Complete!\n",
      "Key Takeaways:\n",
      "  • Use add_column_with_default() to add columns\n",
      "  • Use rename_column_safe() to rename columns\n",
      "  • Use drop_column_safe() to drop columns\n",
      "  • Use convert_column_type() to change types\n",
      "  • Always push schema changes separately\n",
      "  • Pull after schema push before data changes\n"
     ]
    }
   ],
   "source": [
    "# Schema changes appear in change summary\n",
    "products_data = pd.DataFrame({\n",
    "    'name': ['Widget', 'Gadget'],\n",
    "    'price': [9.99, 19.99]\n",
    "}, index=[1, 2])\n",
    "\n",
    "products = db.create_table('products', products_data, primary_key='id')\n",
    "\n",
    "# Make schema changes\n",
    "products.add_column_with_default('stock', 0)\n",
    "products.rename_column_safe('price', 'unit_price')\n",
    "\n",
    "# Check change summary\n",
    "summary = products.get_changes_summary()\n",
    "print(\"\\n   Change summary:\")\n",
    "for key, value in summary.items():\n",
    "    if value:\n",
    "        print(f\"      {key}: {value}\")\n",
    "\n",
    "products.push()\n",
    "print(\"\\n   ✓ Schema changes committed\")\n",
    "\n",
    "print(\"\\n\" + \"=\" * 70)\n",
    "print(\"Example Complete!\")\n",
    "print(\"Key Takeaways:\")\n",
    "print(\"  • Use add_column_with_default() to add columns\")\n",
    "print(\"  • Use rename_column_safe() to rename columns\")\n",
    "print(\"  • Use drop_column_safe() to drop columns\")\n",
    "print(\"  • Use convert_column_type() to change types\")\n",
    "print(\"  • Always push schema changes separately\")\n",
    "print(\"  • Pull after schema push before data changes\")"
   ]
  }
 ],
 "metadata": {
  "kernelspec": {
   "display_name": "Python 3",
   "language": "python",
   "name": "python3"
  },
  "language_info": {
   "codemirror_mode": {
    "name": "ipython",
    "version": 3
   },
   "file_extension": ".py",
   "mimetype": "text/x-python",
   "name": "python",
   "nbconvert_exporter": "python",
   "pygments_lexer": "ipython3",
   "version": "3.11.13"
  }
 },
 "nbformat": 4,
 "nbformat_minor": 4
}
