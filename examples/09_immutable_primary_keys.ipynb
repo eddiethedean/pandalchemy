{
 "cells": [
  {
   "cell_type": "markdown",
   "metadata": {},
   "source": [
    "# 09_immutable_primary_keys\n",
    "\n",
    "Immutable Primary Keys\n",
    "\n",
    "This example demonstrates primary key immutability:\n",
    "- Why primary keys can't be modified\n",
    "- How to handle PK changes\n",
    "- Working with PK as index\n",
    "- Best practices"
   ]
  },
  {
   "cell_type": "code",
   "execution_count": 1,
   "metadata": {
    "execution": {
     "iopub.execute_input": "2025-10-21T14:33:03.769260Z",
     "iopub.status.busy": "2025-10-21T14:33:03.769110Z",
     "iopub.status.idle": "2025-10-21T14:33:04.146384Z",
     "shell.execute_reply": "2025-10-21T14:33:04.145939Z"
    }
   },
   "outputs": [],
   "source": [
    "import pandas as pd\n",
    "from sqlalchemy import create_engine\n",
    "import pandalchemy as pa\n",
    "from pandalchemy.exceptions import DataValidationError"
   ]
  },
  {
   "cell_type": "code",
   "execution_count": 2,
   "metadata": {
    "execution": {
     "iopub.execute_input": "2025-10-21T14:33:04.147708Z",
     "iopub.status.busy": "2025-10-21T14:33:04.147612Z",
     "iopub.status.idle": "2025-10-21T14:33:04.152491Z",
     "shell.execute_reply": "2025-10-21T14:33:04.152087Z"
    }
   },
   "outputs": [],
   "source": [
    "# Setup\n",
    "engine = create_engine('sqlite:///:memory:')\n",
    "db = pa.DataBase(engine)"
   ]
  },
  {
   "cell_type": "code",
   "execution_count": 3,
   "metadata": {
    "execution": {
     "iopub.execute_input": "2025-10-21T14:33:04.153478Z",
     "iopub.status.busy": "2025-10-21T14:33:04.153422Z",
     "iopub.status.idle": "2025-10-21T14:33:04.154993Z",
     "shell.execute_reply": "2025-10-21T14:33:04.154639Z"
    }
   },
   "outputs": [
    {
     "name": "stdout",
     "output_type": "stream",
     "text": [
      "Immutable Primary Keys Example\n"
     ]
    }
   ],
   "source": [
    "print(\"Immutable Primary Keys Example\")"
   ]
  },
  {
   "cell_type": "code",
   "execution_count": 4,
   "metadata": {
    "execution": {
     "iopub.execute_input": "2025-10-21T14:33:04.170555Z",
     "iopub.status.busy": "2025-10-21T14:33:04.170469Z",
     "iopub.status.idle": "2025-10-21T14:33:04.178063Z",
     "shell.execute_reply": "2025-10-21T14:33:04.177532Z"
    }
   },
   "outputs": [],
   "source": [
    "# Create sample data\n",
    "users_data = pd.DataFrame({\n",
    "    'username': ['alice', 'bob', 'charlie'],\n",
    "    'email': ['alice@example.com', 'bob@example.com', 'charlie@example.com'],\n",
    "    'status': ['active', 'active', 'inactive']\n",
    "}, index=[1, 2, 3])\n",
    "\n",
    "users = db.create_table('users', users_data, primary_key='id')"
   ]
  },
  {
   "cell_type": "markdown",
   "metadata": {},
   "source": [
    "### 1. Primary Key as Index"
   ]
  },
  {
   "cell_type": "code",
   "execution_count": 5,
   "metadata": {
    "execution": {
     "iopub.execute_input": "2025-10-21T14:33:04.179437Z",
     "iopub.status.busy": "2025-10-21T14:33:04.179363Z",
     "iopub.status.idle": "2025-10-21T14:33:04.182190Z",
     "shell.execute_reply": "2025-10-21T14:33:04.181855Z"
    }
   },
   "outputs": [
    {
     "name": "stdout",
     "output_type": "stream",
     "text": [
      "\n",
      "   Table structure:\n",
      "   username                email    status\n",
      "id                                        \n",
      "1     alice    alice@example.com    active\n",
      "2       bob      bob@example.com    active\n",
      "3   charlie  charlie@example.com  inactive\n",
      "\n",
      "   Index (Primary Key): id\n",
      "   Index values: [1, 2, 3]\n",
      "   Columns: ['username', 'email', 'status']\n",
      "\n",
      "   ✓ Primary key is stored as DataFrame index\n"
     ]
    }
   ],
   "source": [
    "print(\"\\n   Table structure:\")\n",
    "print(users.to_pandas())\n",
    "print(f\"\\n   Index (Primary Key): {users._data.index.name}\")\n",
    "print(f\"   Index values: {list(users._data.index)}\")\n",
    "print(f\"   Columns: {list(users._data.columns)}\")\n",
    "print(\"\\n   ✓ Primary key is stored as DataFrame index\")"
   ]
  },
  {
   "cell_type": "markdown",
   "metadata": {},
   "source": [
    "### 2. Why Primary Keys Are Immutable"
   ]
  },
  {
   "cell_type": "code",
   "execution_count": 6,
   "metadata": {
    "execution": {
     "iopub.execute_input": "2025-10-21T14:33:04.183157Z",
     "iopub.status.busy": "2025-10-21T14:33:04.183090Z",
     "iopub.status.idle": "2025-10-21T14:33:04.184617Z",
     "shell.execute_reply": "2025-10-21T14:33:04.184344Z"
    }
   },
   "outputs": [
    {
     "name": "stdout",
     "output_type": "stream",
     "text": [
      "\n",
      "   Primary keys identify rows uniquely:\n",
      "   • Changing PK would break referential integrity\n",
      "   • Foreign keys would point to wrong rows\n",
      "   • Database constraints enforce this\n",
      "   • Pandas index provides natural immutability\n"
     ]
    }
   ],
   "source": [
    "print(\"\\n   Primary keys identify rows uniquely:\")\n",
    "print(\"   • Changing PK would break referential integrity\")\n",
    "print(\"   • Foreign keys would point to wrong rows\")\n",
    "print(\"   • Database constraints enforce this\")\n",
    "print(\"   • Pandas index provides natural immutability\")"
   ]
  },
  {
   "cell_type": "markdown",
   "metadata": {},
   "source": [
    "### 3. Attempting to Modify Primary Key"
   ]
  },
  {
   "cell_type": "code",
   "execution_count": 7,
   "metadata": {
    "execution": {
     "iopub.execute_input": "2025-10-21T14:33:04.185482Z",
     "iopub.status.busy": "2025-10-21T14:33:04.185432Z",
     "iopub.status.idle": "2025-10-21T14:33:04.186714Z",
     "shell.execute_reply": "2025-10-21T14:33:04.186473Z"
    }
   },
   "outputs": [],
   "source": [
    "# Try to update PK through update_row"
   ]
  },
  {
   "cell_type": "markdown",
   "metadata": {},
   "source": [
    "### \\n   a) Try to update PK via update_row:"
   ]
  },
  {
   "cell_type": "code",
   "execution_count": 8,
   "metadata": {
    "execution": {
     "iopub.execute_input": "2025-10-21T14:33:04.187692Z",
     "iopub.status.busy": "2025-10-21T14:33:04.187631Z",
     "iopub.status.idle": "2025-10-21T14:33:04.189356Z",
     "shell.execute_reply": "2025-10-21T14:33:04.189020Z"
    }
   },
   "outputs": [
    {
     "name": "stdout",
     "output_type": "stream",
     "text": [
      "      ✓ Prevented: Cannot update primary key column(s): ['id']. Primary keys ar...\n"
     ]
    }
   ],
   "source": [
    "try:\n",
    "    users.update_row(1, {'id': 999})\n",
    "    print(\"      ❌ Should have raised error\")\n",
    "except DataValidationError as e:\n",
    "    print(f\"      ✓ Prevented: {str(e)[:60]}...\")\n",
    "\n",
    "# Try to update PK in update dict"
   ]
  },
  {
   "cell_type": "markdown",
   "metadata": {},
   "source": [
    "### \\n   b) Try to include PK in updates:"
   ]
  },
  {
   "cell_type": "code",
   "execution_count": 9,
   "metadata": {
    "execution": {
     "iopub.execute_input": "2025-10-21T14:33:04.190155Z",
     "iopub.status.busy": "2025-10-21T14:33:04.190093Z",
     "iopub.status.idle": "2025-10-21T14:33:04.191682Z",
     "shell.execute_reply": "2025-10-21T14:33:04.191329Z"
    }
   },
   "outputs": [
    {
     "name": "stdout",
     "output_type": "stream",
     "text": [
      "      ✓ Prevented: PK cannot be updated\n"
     ]
    }
   ],
   "source": [
    "try:\n",
    "    users.update_row(2, {'username': 'robert', 'id': 888})\n",
    "    print(\"      ❌ Should have raised error\")\n",
    "except DataValidationError as e:\n",
    "    print(f\"      ✓ Prevented: PK cannot be updated\")\n",
    "\n",
    "# Try to modify index directly"
   ]
  },
  {
   "cell_type": "markdown",
   "metadata": {},
   "source": [
    "### \\n   c) Try to modify index directly:"
   ]
  },
  {
   "cell_type": "code",
   "execution_count": 10,
   "metadata": {
    "execution": {
     "iopub.execute_input": "2025-10-21T14:33:04.192649Z",
     "iopub.status.busy": "2025-10-21T14:33:04.192578Z",
     "iopub.status.idle": "2025-10-21T14:33:04.196979Z",
     "shell.execute_reply": "2025-10-21T14:33:04.196639Z"
    }
   },
   "outputs": [
    {
     "name": "stdout",
     "output_type": "stream",
     "text": [
      "      ✓ Prevented: SchemaError\n"
     ]
    }
   ],
   "source": [
    "try:\n",
    "    users._data.index = [10, 20, 30]\n",
    "    users.push()\n",
    "    print(\"      ❌ Should have raised error\")\n",
    "except Exception as e:\n",
    "    print(f\"      ✓ Prevented: {type(e).__name__}\")\n",
    "finally:\n",
    "    users.pull()  # Reset"
   ]
  },
  {
   "cell_type": "markdown",
   "metadata": {},
   "source": [
    "### 4. How to"
   ]
  },
  {
   "cell_type": "code",
   "execution_count": 11,
   "metadata": {
    "execution": {
     "iopub.execute_input": "2025-10-21T14:33:04.197879Z",
     "iopub.status.busy": "2025-10-21T14:33:04.197827Z",
     "iopub.status.idle": "2025-10-21T14:33:04.205118Z",
     "shell.execute_reply": "2025-10-21T14:33:04.204865Z"
    }
   },
   "outputs": [
    {
     "name": "stdout",
     "output_type": "stream",
     "text": [
      "\n",
      "   The correct approach: Delete old row + Insert new row\n",
      "\n",
      "   Step 1: Get the row data\n",
      "   Old row: {'username': 'charlie', 'email': 'charlie@example.com', 'status': 'inactive'}\n",
      "\n",
      "   Step 2: Delete the old row\n",
      "   ✓ Deleted row with ID=3\n",
      "\n",
      "   Step 3: Insert new row with new ID\n",
      "   ✓ Inserted row with ID=30\n",
      "\n",
      "   Result:\n",
      "   username                email    status\n",
      "id                                        \n",
      "1     alice    alice@example.com    active\n",
      "2       bob      bob@example.com    active\n",
      "30  charlie  charlie@example.com  inactive\n",
      "   ✓ Effectively 'changed' PK from 3 to 30\n"
     ]
    }
   ],
   "source": [
    "print(\"\\n   The correct approach: Delete old row + Insert new row\")\n",
    "print()\n",
    "print(\"   Step 1: Get the row data\")\n",
    "old_row = users.get_row(3)\n",
    "print(f\"   Old row: {old_row}\")\n",
    "\n",
    "print(\"\\n   Step 2: Delete the old row\")\n",
    "users.delete_row(3)\n",
    "print(\"   ✓ Deleted row with ID=3\")\n",
    "\n",
    "print(\"\\n   Step 3: Insert new row with new ID\")\n",
    "new_row = old_row.copy()\n",
    "new_row['id'] = 30  # New ID\n",
    "users.add_row(new_row)\n",
    "print(\"   ✓ Inserted row with ID=30\")\n",
    "\n",
    "users.push()\n",
    "print(\"\\n   Result:\")\n",
    "print(users.to_pandas())\n",
    "print(\"   ✓ Effectively 'changed' PK from 3 to 30\")"
   ]
  },
  {
   "cell_type": "markdown",
   "metadata": {},
   "source": [
    "### 5. Composite Primary Keys"
   ]
  },
  {
   "cell_type": "code",
   "execution_count": 12,
   "metadata": {
    "execution": {
     "iopub.execute_input": "2025-10-21T14:33:04.206231Z",
     "iopub.status.busy": "2025-10-21T14:33:04.206177Z",
     "iopub.status.idle": "2025-10-21T14:33:04.219819Z",
     "shell.execute_reply": "2025-10-21T14:33:04.219497Z"
    }
   },
   "outputs": [
    {
     "name": "stdout",
     "output_type": "stream",
     "text": [
      "\n",
      "   Composite PK table:\n",
      "                     grade  semester\n",
      "student_id course_id                \n",
      "101        CS101         A  Fall2024\n",
      "           MATH200      B+  Fall2024\n",
      "102        CS101        A-  Fall2024\n",
      "\n",
      "   Index names: ['student_id', 'course_id']\n",
      "   ✓ Both student_id and course_id are in index\n",
      "\n",
      "   Try to update composite PK:\n",
      "      ✓ Prevented: Cannot update PK components\n",
      "\n",
      "   Correct way: Delete + Insert\n",
      "   ✓ Changed student from 102 to 103\n",
      "                     grade  semester\n",
      "student_id course_id                \n",
      "101        CS101         A  Fall2024\n",
      "           MATH200      B+  Fall2024\n",
      "103        CS101        A-  Fall2024\n"
     ]
    }
   ],
   "source": [
    "# Create table with composite PK\n",
    "enrollments_data = pd.DataFrame({\n",
    "    'student_id': [101, 101, 102],\n",
    "    'course_id': ['CS101', 'MATH200', 'CS101'],\n",
    "    'grade': ['A', 'B+', 'A-'],\n",
    "    'semester': ['Fall2024', 'Fall2024', 'Fall2024']\n",
    "})\n",
    "\n",
    "enrollments = db.create_table('enrollments', enrollments_data,\n",
    "                               primary_key=['student_id', 'course_id'])\n",
    "\n",
    "print(\"\\n   Composite PK table:\")\n",
    "print(enrollments.to_pandas())\n",
    "print(f\"\\n   Index names: {enrollments._data.index.names}\")\n",
    "print(\"   ✓ Both student_id and course_id are in index\")\n",
    "\n",
    "# Try to update composite PK\n",
    "print(\"\\n   Try to update composite PK:\")\n",
    "try:\n",
    "    enrollments.update_row((101, 'CS101'), {\n",
    "        'student_id': 999,\n",
    "        'grade': 'A+'\n",
    "    })\n",
    "    print(\"      ❌ Should have raised error\")\n",
    "except DataValidationError as e:\n",
    "    print(f\"      ✓ Prevented: Cannot update PK components\")\n",
    "\n",
    "# Correct way for composite PK\n",
    "print(\"\\n   Correct way: Delete + Insert\")\n",
    "old_enrollment = enrollments.get_row((102, 'CS101'))\n",
    "enrollments.delete_row((102, 'CS101'))\n",
    "enrollments.add_row({\n",
    "    'student_id': 103,  # New student\n",
    "    'course_id': 'CS101',\n",
    "    'grade': old_enrollment['grade'],\n",
    "    'semester': old_enrollment['semester']\n",
    "})\n",
    "enrollments.push()\n",
    "\n",
    "print(\"   ✓ Changed student from 102 to 103\")\n",
    "print(enrollments.to_pandas())"
   ]
  },
  {
   "cell_type": "markdown",
   "metadata": {},
   "source": [
    "### 6. Working Safely with Primary Keys"
   ]
  },
  {
   "cell_type": "code",
   "execution_count": 13,
   "metadata": {
    "execution": {
     "iopub.execute_input": "2025-10-21T14:33:04.220972Z",
     "iopub.status.busy": "2025-10-21T14:33:04.220913Z",
     "iopub.status.idle": "2025-10-21T14:33:04.223405Z",
     "shell.execute_reply": "2025-10-21T14:33:04.223117Z"
    }
   },
   "outputs": [
    {
     "name": "stdout",
     "output_type": "stream",
     "text": [
      "\n",
      "   ✓ Safe operations (don't modify PK):\n",
      "\n",
      "   a) Update non-PK columns:\n",
      "      users.update_row(1, {'username': 'alice_updated'})\n"
     ]
    }
   ],
   "source": [
    "print(\"\\n   ✓ Safe operations (don't modify PK):\")\n",
    "print()\n",
    "print(\"   a) Update non-PK columns:\")\n",
    "users.update_row(1, {'username': 'alice_updated', 'status': 'active'})\n",
    "print(\"      users.update_row(1, {'username': 'alice_updated'})\")"
   ]
  },
  {
   "cell_type": "markdown",
   "metadata": {},
   "source": [
    "### \\n   b) Access by PK:"
   ]
  },
  {
   "cell_type": "code",
   "execution_count": 14,
   "metadata": {
    "execution": {
     "iopub.execute_input": "2025-10-21T14:33:04.224306Z",
     "iopub.status.busy": "2025-10-21T14:33:04.224257Z",
     "iopub.status.idle": "2025-10-21T14:33:04.225827Z",
     "shell.execute_reply": "2025-10-21T14:33:04.225506Z"
    }
   },
   "outputs": [
    {
     "name": "stdout",
     "output_type": "stream",
     "text": [
      "      user = users.get_row(1)\n",
      "      Result: {'username': 'alice_updated', 'email': 'alice@example.com', 'status': 'active'}\n"
     ]
    }
   ],
   "source": [
    "user = users.get_row(1)\n",
    "print(f\"      user = users.get_row(1)\")\n",
    "print(f\"      Result: {user}\")"
   ]
  },
  {
   "cell_type": "markdown",
   "metadata": {},
   "source": [
    "### \\n   c) Delete by PK:"
   ]
  },
  {
   "cell_type": "code",
   "execution_count": 15,
   "metadata": {
    "execution": {
     "iopub.execute_input": "2025-10-21T14:33:04.226718Z",
     "iopub.status.busy": "2025-10-21T14:33:04.226649Z",
     "iopub.status.idle": "2025-10-21T14:33:04.228217Z",
     "shell.execute_reply": "2025-10-21T14:33:04.227846Z"
    }
   },
   "outputs": [
    {
     "name": "stdout",
     "output_type": "stream",
     "text": [
      "      users.delete_row(30)\n"
     ]
    }
   ],
   "source": [
    "print(\"      users.delete_row(30)\")"
   ]
  },
  {
   "cell_type": "markdown",
   "metadata": {},
   "source": [
    "### \\n   d) Insert with explicit PK:"
   ]
  },
  {
   "cell_type": "code",
   "execution_count": 16,
   "metadata": {
    "execution": {
     "iopub.execute_input": "2025-10-21T14:33:04.229203Z",
     "iopub.status.busy": "2025-10-21T14:33:04.229126Z",
     "iopub.status.idle": "2025-10-21T14:33:04.234069Z",
     "shell.execute_reply": "2025-10-21T14:33:04.233731Z"
    }
   },
   "outputs": [
    {
     "name": "stdout",
     "output_type": "stream",
     "text": [
      "      users.add_row({'id': 4, 'username': 'diana', ...})\n"
     ]
    }
   ],
   "source": [
    "print(\"      users.add_row({'id': 4, 'username': 'diana', ...})\")\n",
    "\n",
    "users.push()"
   ]
  },
  {
   "cell_type": "markdown",
   "metadata": {},
   "source": [
    "### 7. Primary Key in Calculations"
   ]
  },
  {
   "cell_type": "code",
   "execution_count": 17,
   "metadata": {
    "execution": {
     "iopub.execute_input": "2025-10-21T14:33:04.234932Z",
     "iopub.status.busy": "2025-10-21T14:33:04.234882Z",
     "iopub.status.idle": "2025-10-21T14:33:04.242897Z",
     "shell.execute_reply": "2025-10-21T14:33:04.242532Z"
    }
   },
   "outputs": [
    {
     "name": "stdout",
     "output_type": "stream",
     "text": [
      "\n",
      "   Orders table:\n",
      "          customer_id  amount   status\n",
      "order_id                              \n",
      "1001                1   99.99     paid\n",
      "1002                1  149.50     paid\n",
      "1003                2  299.99     paid\n",
      "1004                2   49.99  pending\n"
     ]
    }
   ],
   "source": [
    "# Create orders table\n",
    "orders_data = pd.DataFrame({\n",
    "    'customer_id': [1, 1, 2, 2],\n",
    "    'amount': [99.99, 149.50, 299.99, 49.99],\n",
    "    'status': ['paid', 'paid', 'paid', 'pending']\n",
    "}, index=[1001, 1002, 1003, 1004])\n",
    "\n",
    "orders = db.create_table('orders', orders_data, primary_key='order_id')\n",
    "\n",
    "print(\"\\n   Orders table:\")\n",
    "print(orders.to_pandas())\n",
    "\n",
    "# Access PK in calculations"
   ]
  },
  {
   "cell_type": "markdown",
   "metadata": {},
   "source": [
    "### \\n   a) Use index (PK) in filtering:"
   ]
  },
  {
   "cell_type": "code",
   "execution_count": 18,
   "metadata": {
    "execution": {
     "iopub.execute_input": "2025-10-21T14:33:04.243951Z",
     "iopub.status.busy": "2025-10-21T14:33:04.243889Z",
     "iopub.status.idle": "2025-10-21T14:33:04.245996Z",
     "shell.execute_reply": "2025-10-21T14:33:04.245626Z"
    }
   },
   "outputs": [
    {
     "name": "stdout",
     "output_type": "stream",
     "text": [
      "      Orders > 1002: [1003, 1004]\n"
     ]
    }
   ],
   "source": [
    "recent_orders = orders._data[orders._data.index > 1002]\n",
    "print(f\"      Orders > 1002: {list(recent_orders.index)}\")"
   ]
  },
  {
   "cell_type": "markdown",
   "metadata": {},
   "source": [
    "### \\n   b) Access PK values:"
   ]
  },
  {
   "cell_type": "code",
   "execution_count": 19,
   "metadata": {
    "execution": {
     "iopub.execute_input": "2025-10-21T14:33:04.246893Z",
     "iopub.status.busy": "2025-10-21T14:33:04.246843Z",
     "iopub.status.idle": "2025-10-21T14:33:04.248332Z",
     "shell.execute_reply": "2025-10-21T14:33:04.247983Z"
    }
   },
   "outputs": [
    {
     "name": "stdout",
     "output_type": "stream",
     "text": [
      "      All order IDs: [1001, 1002, 1003, 1004]\n"
     ]
    }
   ],
   "source": [
    "print(f\"      All order IDs: {list(orders._data.index)}\")"
   ]
  },
  {
   "cell_type": "markdown",
   "metadata": {},
   "source": [
    "### \\n   c) Reset index to use PK in computation:"
   ]
  },
  {
   "cell_type": "code",
   "execution_count": 20,
   "metadata": {
    "execution": {
     "iopub.execute_input": "2025-10-21T14:33:04.249188Z",
     "iopub.status.busy": "2025-10-21T14:33:04.249138Z",
     "iopub.status.idle": "2025-10-21T14:33:04.250861Z",
     "shell.execute_reply": "2025-10-21T14:33:04.250571Z"
    }
   },
   "outputs": [
    {
     "name": "stdout",
     "output_type": "stream",
     "text": [
      "      df_with_id = orders._data.reset_index()\n",
      "      Now 'order_id' is a column: True\n",
      "\n",
      "      ⚠ Don't push after reset_index (PK structure changed)\n"
     ]
    }
   ],
   "source": [
    "df_with_id = orders._data.reset_index()\n",
    "print(\"      df_with_id = orders._data.reset_index()\")\n",
    "print(f\"      Now 'order_id' is a column: {'order_id' in df_with_id.columns}\")\n",
    "\n",
    "# But don't push after reset_index!\n",
    "print(\"\\n      ⚠ Don't push after reset_index (PK structure changed)\")"
   ]
  },
  {
   "cell_type": "markdown",
   "metadata": {},
   "source": [
    "### 8. Foreign Key Relationships"
   ]
  },
  {
   "cell_type": "code",
   "execution_count": 21,
   "metadata": {
    "execution": {
     "iopub.execute_input": "2025-10-21T14:33:04.251719Z",
     "iopub.status.busy": "2025-10-21T14:33:04.251657Z",
     "iopub.status.idle": "2025-10-21T14:33:04.268886Z",
     "shell.execute_reply": "2025-10-21T14:33:04.268564Z"
    }
   },
   "outputs": [
    {
     "name": "stdout",
     "output_type": "stream",
     "text": [
      "\n",
      "   Why PK immutability matters:\n",
      "\n",
      "   Products table:\n",
      "                 name  price\n",
      "product_id                  \n",
      "100            Widget   9.99\n",
      "101            Gadget  19.99\n",
      "102         Doohickey  29.99\n",
      "\n",
      "   Order Items (references products):\n",
      "         order_id  product_id  quantity\n",
      "item_id                                \n",
      "1            1001         100         2\n",
      "2            1001         101         1\n",
      "3            1002         102         3\n",
      "\n",
      "   If we could change product_id=100 to product_id=999:\n",
      "   • Order items would reference wrong product\n",
      "   • Data integrity would be broken\n",
      "   • Hence: PRIMARY KEYs are IMMUTABLE\n"
     ]
    }
   ],
   "source": [
    "print(\"\\n   Why PK immutability matters:\")\n",
    "\n",
    "print(\"\\n   Products table:\")\n",
    "products_data = pd.DataFrame({\n",
    "    'name': ['Widget', 'Gadget', 'Doohickey'],\n",
    "    'price': [9.99, 19.99, 29.99]\n",
    "}, index=[100, 101, 102])\n",
    "\n",
    "products = db.create_table('products', products_data, primary_key='product_id')\n",
    "print(products.to_pandas())\n",
    "\n",
    "print(\"\\n   Order Items (references products):\")\n",
    "items_data = pd.DataFrame({\n",
    "    'order_id': [1001, 1001, 1002],\n",
    "    'product_id': [100, 101, 102],  # Foreign keys\n",
    "    'quantity': [2, 1, 3]\n",
    "}, index=[1, 2, 3])\n",
    "\n",
    "items = db.create_table('order_items', items_data, primary_key='item_id')\n",
    "print(items.to_pandas())\n",
    "\n",
    "print(\"\\n   If we could change product_id=100 to product_id=999:\")\n",
    "print(\"   • Order items would reference wrong product\")\n",
    "print(\"   • Data integrity would be broken\")\n",
    "print(\"   • Hence: PRIMARY KEYs are IMMUTABLE\")"
   ]
  },
  {
   "cell_type": "markdown",
   "metadata": {},
   "source": [
    "### 9. Auto-Increment and Immutability"
   ]
  },
  {
   "cell_type": "code",
   "execution_count": 22,
   "metadata": {
    "execution": {
     "iopub.execute_input": "2025-10-21T14:33:04.269939Z",
     "iopub.status.busy": "2025-10-21T14:33:04.269879Z",
     "iopub.status.idle": "2025-10-21T14:33:04.278463Z",
     "shell.execute_reply": "2025-10-21T14:33:04.278057Z"
    }
   },
   "outputs": [
    {
     "name": "stdout",
     "output_type": "stream",
     "text": [
      "\n",
      "   Posts with auto-increment:\n",
      "          title    content\n",
      "post_id                   \n",
      "1        Post 1  Content 1\n",
      "2        Post 2  Content 2\n",
      "\n",
      "   New post ID: 3\n",
      "   ✓ Auto-generated IDs are also immutable\n",
      "   ✓ Can't change auto-generated ID after creation\n"
     ]
    }
   ],
   "source": [
    "posts_data = pd.DataFrame({\n",
    "    'title': ['Post 1', 'Post 2'],\n",
    "    'content': ['Content 1', 'Content 2']\n",
    "}, index=[1, 2])\n",
    "\n",
    "posts = pa.TableDataFrame('posts', posts_data, 'post_id', engine,\n",
    "                           auto_increment=True)\n",
    "posts.push()\n",
    "\n",
    "print(\"\\n   Posts with auto-increment:\")\n",
    "print(posts.to_pandas())\n",
    "\n",
    "# Add new post\n",
    "posts.add_row({'title': 'Post 3', 'content': 'Content 3'}, \n",
    "              auto_increment=True)\n",
    "posts.push()\n",
    "\n",
    "print(f\"\\n   New post ID: {posts._data.index.max()}\")\n",
    "print(\"   ✓ Auto-generated IDs are also immutable\")\n",
    "print(\"   ✓ Can't change auto-generated ID after creation\")"
   ]
  },
  {
   "cell_type": "markdown",
   "metadata": {},
   "source": [
    "### 10. Best Practices"
   ]
  },
  {
   "cell_type": "code",
   "execution_count": 23,
   "metadata": {
    "execution": {
     "iopub.execute_input": "2025-10-21T14:33:04.279560Z",
     "iopub.status.busy": "2025-10-21T14:33:04.279497Z",
     "iopub.status.idle": "2025-10-21T14:33:04.281807Z",
     "shell.execute_reply": "2025-10-21T14:33:04.281436Z"
    }
   },
   "outputs": [
    {
     "name": "stdout",
     "output_type": "stream",
     "text": [
      "\n",
      "   ✓ DO:\n",
      "      • Use surrogate keys (auto-increment) for mutable data\n",
      "      • Delete + Insert when you need to 'change' a PK\n",
      "      • Keep PK as index (natural in pandalchemy)\n",
      "      • Use PK for lookups: table.get_row(pk)\n",
      "\n",
      "   ❌ DON'T:\n",
      "      • Try to update PK values\n",
      "      • Use mutable data as natural keys\n",
      "      • Reset index then push (breaks PK structure)\n",
      "      • Expect PK to be in columns (it's in index)\n",
      "\n",
      "======================================================================\n",
      "Example Complete!\n",
      "Key Takeaways:\n",
      "  • Primary keys are stored as DataFrame index\n",
      "  • Primary keys cannot be modified (immutable)\n",
      "  • To 'change' PK: delete old row + insert new row\n",
      "  • PK immutability protects referential integrity\n",
      "  • Works with single and composite keys\n"
     ]
    }
   ],
   "source": [
    "print(\"\\n   ✓ DO:\")\n",
    "print(\"      • Use surrogate keys (auto-increment) for mutable data\")\n",
    "print(\"      • Delete + Insert when you need to 'change' a PK\")\n",
    "print(\"      • Keep PK as index (natural in pandalchemy)\")\n",
    "print(\"      • Use PK for lookups: table.get_row(pk)\")\n",
    "\n",
    "print(\"\\n   ❌ DON'T:\")\n",
    "print(\"      • Try to update PK values\")\n",
    "print(\"      • Use mutable data as natural keys\")\n",
    "print(\"      • Reset index then push (breaks PK structure)\")\n",
    "print(\"      • Expect PK to be in columns (it's in index)\")\n",
    "\n",
    "print(\"\\n\" + \"=\" * 70)\n",
    "print(\"Example Complete!\")\n",
    "print(\"Key Takeaways:\")\n",
    "print(\"  • Primary keys are stored as DataFrame index\")\n",
    "print(\"  • Primary keys cannot be modified (immutable)\")\n",
    "print(\"  • To 'change' PK: delete old row + insert new row\")\n",
    "print(\"  • PK immutability protects referential integrity\")\n",
    "print(\"  • Works with single and composite keys\")"
   ]
  }
 ],
 "metadata": {
  "kernelspec": {
   "display_name": "Python 3",
   "language": "python",
   "name": "python3"
  },
  "language_info": {
   "codemirror_mode": {
    "name": "ipython",
    "version": 3
   },
   "file_extension": ".py",
   "mimetype": "text/x-python",
   "name": "python",
   "nbconvert_exporter": "python",
   "pygments_lexer": "ipython3",
   "version": "3.11.13"
  }
 },
 "nbformat": 4,
 "nbformat_minor": 4
}
