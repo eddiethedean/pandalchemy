{
 "cells": [
  {
   "cell_type": "markdown",
   "metadata": {},
   "source": [
    "# Pandas Integration\n",
    "\n",
    "This notebook demonstrates full pandas API compatibility:\n",
    "- Using pandas DataFrame operations\n",
    "- Filtering and selection\n",
    "- Grouping and aggregation\n",
    "- All operations are tracked automatically"
   ]
  },
  {
   "cell_type": "code",
   "execution_count": 1,
   "metadata": {
    "execution": {
     "iopub.execute_input": "2025-10-21T14:33:06.531217Z",
     "iopub.status.busy": "2025-10-21T14:33:06.530937Z",
     "iopub.status.idle": "2025-10-21T14:33:06.902522Z",
     "shell.execute_reply": "2025-10-21T14:33:06.902100Z"
    }
   },
   "outputs": [],
   "source": [
    "import pandas as pd\n",
    "import numpy as np\n",
    "from sqlalchemy import create_engine\n",
    "import pandalchemy as pa"
   ]
  },
  {
   "cell_type": "markdown",
   "metadata": {},
   "source": [
    "## Setup"
   ]
  },
  {
   "cell_type": "code",
   "execution_count": 2,
   "metadata": {
    "execution": {
     "iopub.execute_input": "2025-10-21T14:33:06.904114Z",
     "iopub.status.busy": "2025-10-21T14:33:06.904013Z",
     "iopub.status.idle": "2025-10-21T14:33:06.920232Z",
     "shell.execute_reply": "2025-10-21T14:33:06.919839Z"
    }
   },
   "outputs": [
    {
     "name": "stdout",
     "output_type": "stream",
     "text": [
      "Sample data (first 5 rows):\n"
     ]
    },
    {
     "data": {
      "text/html": [
       "<div>\n",
       "<style scoped>\n",
       "    .dataframe tbody tr th:only-of-type {\n",
       "        vertical-align: middle;\n",
       "    }\n",
       "\n",
       "    .dataframe tbody tr th {\n",
       "        vertical-align: top;\n",
       "    }\n",
       "\n",
       "    .dataframe thead th {\n",
       "        text-align: right;\n",
       "    }\n",
       "</style>\n",
       "<table border=\"1\" class=\"dataframe\">\n",
       "  <thead>\n",
       "    <tr style=\"text-align: right;\">\n",
       "      <th></th>\n",
       "      <th>date</th>\n",
       "      <th>product</th>\n",
       "      <th>region</th>\n",
       "      <th>quantity</th>\n",
       "      <th>unit_price</th>\n",
       "    </tr>\n",
       "    <tr>\n",
       "      <th>id</th>\n",
       "      <th></th>\n",
       "      <th></th>\n",
       "      <th></th>\n",
       "      <th></th>\n",
       "      <th></th>\n",
       "    </tr>\n",
       "  </thead>\n",
       "  <tbody>\n",
       "    <tr>\n",
       "      <th>1</th>\n",
       "      <td>2024-01-01</td>\n",
       "      <td>Doohickey</td>\n",
       "      <td>South</td>\n",
       "      <td>13</td>\n",
       "      <td>9.99</td>\n",
       "    </tr>\n",
       "    <tr>\n",
       "      <th>2</th>\n",
       "      <td>2024-01-02</td>\n",
       "      <td>Widget</td>\n",
       "      <td>North</td>\n",
       "      <td>18</td>\n",
       "      <td>29.99</td>\n",
       "    </tr>\n",
       "    <tr>\n",
       "      <th>3</th>\n",
       "      <td>2024-01-03</td>\n",
       "      <td>Doohickey</td>\n",
       "      <td>South</td>\n",
       "      <td>15</td>\n",
       "      <td>29.99</td>\n",
       "    </tr>\n",
       "    <tr>\n",
       "      <th>4</th>\n",
       "      <td>2024-01-04</td>\n",
       "      <td>Doohickey</td>\n",
       "      <td>North</td>\n",
       "      <td>13</td>\n",
       "      <td>29.99</td>\n",
       "    </tr>\n",
       "    <tr>\n",
       "      <th>5</th>\n",
       "      <td>2024-01-05</td>\n",
       "      <td>Widget</td>\n",
       "      <td>South</td>\n",
       "      <td>9</td>\n",
       "      <td>9.99</td>\n",
       "    </tr>\n",
       "  </tbody>\n",
       "</table>\n",
       "</div>"
      ],
      "text/plain": [
       "          date    product region  quantity  unit_price\n",
       "id                                                    \n",
       "1   2024-01-01  Doohickey  South        13        9.99\n",
       "2   2024-01-02     Widget  North        18       29.99\n",
       "3   2024-01-03  Doohickey  South        15       29.99\n",
       "4   2024-01-04  Doohickey  North        13       29.99\n",
       "5   2024-01-05     Widget  South         9        9.99"
      ]
     },
     "execution_count": 2,
     "metadata": {},
     "output_type": "execute_result"
    }
   ],
   "source": [
    "engine = create_engine('sqlite:///:memory:')\n",
    "db = pa.DataBase(engine)\n",
    "\n",
    "# Create sample sales data\n",
    "np.random.seed(42)\n",
    "sales_data = pd.DataFrame({\n",
    "    'date': pd.date_range('2024-01-01', periods=50, freq='D').astype(str),\n",
    "    'product': np.random.choice(['Widget', 'Gadget', 'Doohickey'], 50),\n",
    "    'region': np.random.choice(['North', 'South', 'East', 'West'], 50),\n",
    "    'quantity': np.random.randint(1, 20, 50),\n",
    "    'unit_price': np.random.choice([9.99, 19.99, 29.99], 50)\n",
    "})\n",
    "sales_data.index = range(1, 51)\n",
    "\n",
    "sales = db.create_table('sales', sales_data, primary_key='id')\n",
    "\n",
    "print(\"Sample data (first 5 rows):\")\n",
    "sales._data.head()"
   ]
  },
  {
   "cell_type": "markdown",
   "metadata": {},
   "source": [
    "## Column Operations"
   ]
  },
  {
   "cell_type": "markdown",
   "metadata": {},
   "source": [
    "### Add calculated column"
   ]
  },
  {
   "cell_type": "code",
   "execution_count": 3,
   "metadata": {
    "execution": {
     "iopub.execute_input": "2025-10-21T14:33:06.935631Z",
     "iopub.status.busy": "2025-10-21T14:33:06.935536Z",
     "iopub.status.idle": "2025-10-21T14:33:06.973576Z",
     "shell.execute_reply": "2025-10-21T14:33:06.973204Z"
    }
   },
   "outputs": [
    {
     "name": "stdout",
     "output_type": "stream",
     "text": [
      "✓ Added total = quantity × unit_price\n"
     ]
    },
    {
     "data": {
      "text/html": [
       "<div>\n",
       "<style scoped>\n",
       "    .dataframe tbody tr th:only-of-type {\n",
       "        vertical-align: middle;\n",
       "    }\n",
       "\n",
       "    .dataframe tbody tr th {\n",
       "        vertical-align: top;\n",
       "    }\n",
       "\n",
       "    .dataframe thead th {\n",
       "        text-align: right;\n",
       "    }\n",
       "</style>\n",
       "<table border=\"1\" class=\"dataframe\">\n",
       "  <thead>\n",
       "    <tr style=\"text-align: right;\">\n",
       "      <th></th>\n",
       "      <th>quantity</th>\n",
       "      <th>unit_price</th>\n",
       "      <th>total</th>\n",
       "    </tr>\n",
       "    <tr>\n",
       "      <th>id</th>\n",
       "      <th></th>\n",
       "      <th></th>\n",
       "      <th></th>\n",
       "    </tr>\n",
       "  </thead>\n",
       "  <tbody>\n",
       "    <tr>\n",
       "      <th>1</th>\n",
       "      <td>13</td>\n",
       "      <td>9.99</td>\n",
       "      <td>129.87</td>\n",
       "    </tr>\n",
       "    <tr>\n",
       "      <th>2</th>\n",
       "      <td>18</td>\n",
       "      <td>29.99</td>\n",
       "      <td>539.82</td>\n",
       "    </tr>\n",
       "    <tr>\n",
       "      <th>3</th>\n",
       "      <td>15</td>\n",
       "      <td>29.99</td>\n",
       "      <td>449.85</td>\n",
       "    </tr>\n",
       "    <tr>\n",
       "      <th>4</th>\n",
       "      <td>13</td>\n",
       "      <td>29.99</td>\n",
       "      <td>389.87</td>\n",
       "    </tr>\n",
       "    <tr>\n",
       "      <th>5</th>\n",
       "      <td>9</td>\n",
       "      <td>9.99</td>\n",
       "      <td>89.91</td>\n",
       "    </tr>\n",
       "  </tbody>\n",
       "</table>\n",
       "</div>"
      ],
      "text/plain": [
       "    quantity  unit_price   total\n",
       "id                              \n",
       "1         13        9.99  129.87\n",
       "2         18       29.99  539.82\n",
       "3         15       29.99  449.85\n",
       "4         13       29.99  389.87\n",
       "5          9        9.99   89.91"
      ]
     },
     "execution_count": 3,
     "metadata": {},
     "output_type": "execute_result"
    }
   ],
   "source": [
    "# Add total column using proper schema change\n",
    "sales.add_column_with_default('total', 0.0)\n",
    "sales.push()\n",
    "sales.pull()\n",
    "\n",
    "# Calculate total values\n",
    "sales._data['total'] = sales._data['quantity'] * sales._data['unit_price']\n",
    "sales.push()\n",
    "\n",
    "print(\"✓ Added total = quantity × unit_price\")\n",
    "sales._data[['quantity', 'unit_price', 'total']].head()"
   ]
  },
  {
   "cell_type": "markdown",
   "metadata": {},
   "source": [
    "### Apply function to categorize"
   ]
  },
  {
   "cell_type": "code",
   "execution_count": 4,
   "metadata": {
    "execution": {
     "iopub.execute_input": "2025-10-21T14:33:06.974644Z",
     "iopub.status.busy": "2025-10-21T14:33:06.974586Z",
     "iopub.status.idle": "2025-10-21T14:33:07.011240Z",
     "shell.execute_reply": "2025-10-21T14:33:07.010761Z"
    }
   },
   "outputs": [
    {
     "name": "stdout",
     "output_type": "stream",
     "text": [
      "✓ Categorized prices into tiers\n"
     ]
    },
    {
     "data": {
      "text/html": [
       "<div>\n",
       "<style scoped>\n",
       "    .dataframe tbody tr th:only-of-type {\n",
       "        vertical-align: middle;\n",
       "    }\n",
       "\n",
       "    .dataframe tbody tr th {\n",
       "        vertical-align: top;\n",
       "    }\n",
       "\n",
       "    .dataframe thead th {\n",
       "        text-align: right;\n",
       "    }\n",
       "</style>\n",
       "<table border=\"1\" class=\"dataframe\">\n",
       "  <thead>\n",
       "    <tr style=\"text-align: right;\">\n",
       "      <th></th>\n",
       "      <th>unit_price</th>\n",
       "      <th>price_tier</th>\n",
       "    </tr>\n",
       "    <tr>\n",
       "      <th>id</th>\n",
       "      <th></th>\n",
       "      <th></th>\n",
       "    </tr>\n",
       "  </thead>\n",
       "  <tbody>\n",
       "    <tr>\n",
       "      <th>1</th>\n",
       "      <td>9.99</td>\n",
       "      <td>Low</td>\n",
       "    </tr>\n",
       "    <tr>\n",
       "      <th>2</th>\n",
       "      <td>29.99</td>\n",
       "      <td>High</td>\n",
       "    </tr>\n",
       "    <tr>\n",
       "      <th>3</th>\n",
       "      <td>29.99</td>\n",
       "      <td>High</td>\n",
       "    </tr>\n",
       "    <tr>\n",
       "      <th>4</th>\n",
       "      <td>29.99</td>\n",
       "      <td>High</td>\n",
       "    </tr>\n",
       "    <tr>\n",
       "      <th>5</th>\n",
       "      <td>9.99</td>\n",
       "      <td>Low</td>\n",
       "    </tr>\n",
       "  </tbody>\n",
       "</table>\n",
       "</div>"
      ],
      "text/plain": [
       "    unit_price price_tier\n",
       "id                       \n",
       "1         9.99        Low\n",
       "2        29.99       High\n",
       "3        29.99       High\n",
       "4        29.99       High\n",
       "5         9.99        Low"
      ]
     },
     "execution_count": 4,
     "metadata": {},
     "output_type": "execute_result"
    }
   ],
   "source": [
    "# Add price_tier column\n",
    "sales.add_column_with_default('price_tier', 'Medium')\n",
    "sales.push()\n",
    "sales.pull()\n",
    "\n",
    "sales._data['price_tier'] = sales._data['unit_price'].apply(\n",
    "    lambda x: 'Low' if x < 15 else 'Medium' if x < 25 else 'High'\n",
    ")\n",
    "sales.push()\n",
    "\n",
    "print(\"✓ Categorized prices into tiers\")\n",
    "sales._data[['unit_price', 'price_tier']].head()"
   ]
  },
  {
   "cell_type": "markdown",
   "metadata": {},
   "source": [
    "## Filtering and Selection"
   ]
  },
  {
   "cell_type": "markdown",
   "metadata": {},
   "source": [
    "### Filter by condition"
   ]
  },
  {
   "cell_type": "code",
   "execution_count": 5,
   "metadata": {
    "execution": {
     "iopub.execute_input": "2025-10-21T14:33:07.012407Z",
     "iopub.status.busy": "2025-10-21T14:33:07.012328Z",
     "iopub.status.idle": "2025-10-21T14:33:07.015831Z",
     "shell.execute_reply": "2025-10-21T14:33:07.015512Z"
    }
   },
   "outputs": [
    {
     "name": "stdout",
     "output_type": "stream",
     "text": [
      "Sales with quantity > 10: 18\n"
     ]
    },
    {
     "data": {
      "text/html": [
       "<div>\n",
       "<style scoped>\n",
       "    .dataframe tbody tr th:only-of-type {\n",
       "        vertical-align: middle;\n",
       "    }\n",
       "\n",
       "    .dataframe tbody tr th {\n",
       "        vertical-align: top;\n",
       "    }\n",
       "\n",
       "    .dataframe thead th {\n",
       "        text-align: right;\n",
       "    }\n",
       "</style>\n",
       "<table border=\"1\" class=\"dataframe\">\n",
       "  <thead>\n",
       "    <tr style=\"text-align: right;\">\n",
       "      <th></th>\n",
       "      <th>product</th>\n",
       "      <th>quantity</th>\n",
       "      <th>total</th>\n",
       "    </tr>\n",
       "    <tr>\n",
       "      <th>id</th>\n",
       "      <th></th>\n",
       "      <th></th>\n",
       "      <th></th>\n",
       "    </tr>\n",
       "  </thead>\n",
       "  <tbody>\n",
       "    <tr>\n",
       "      <th>1</th>\n",
       "      <td>Doohickey</td>\n",
       "      <td>13</td>\n",
       "      <td>129.87</td>\n",
       "    </tr>\n",
       "    <tr>\n",
       "      <th>2</th>\n",
       "      <td>Widget</td>\n",
       "      <td>18</td>\n",
       "      <td>539.82</td>\n",
       "    </tr>\n",
       "    <tr>\n",
       "      <th>3</th>\n",
       "      <td>Doohickey</td>\n",
       "      <td>15</td>\n",
       "      <td>449.85</td>\n",
       "    </tr>\n",
       "    <tr>\n",
       "      <th>4</th>\n",
       "      <td>Doohickey</td>\n",
       "      <td>13</td>\n",
       "      <td>389.87</td>\n",
       "    </tr>\n",
       "    <tr>\n",
       "      <th>6</th>\n",
       "      <td>Widget</td>\n",
       "      <td>15</td>\n",
       "      <td>149.85</td>\n",
       "    </tr>\n",
       "  </tbody>\n",
       "</table>\n",
       "</div>"
      ],
      "text/plain": [
       "      product  quantity   total\n",
       "id                             \n",
       "1   Doohickey        13  129.87\n",
       "2      Widget        18  539.82\n",
       "3   Doohickey        15  449.85\n",
       "4   Doohickey        13  389.87\n",
       "6      Widget        15  149.85"
      ]
     },
     "execution_count": 5,
     "metadata": {},
     "output_type": "execute_result"
    }
   ],
   "source": [
    "high_quantity = sales._data[sales._data['quantity'] > 10]\n",
    "print(f\"Sales with quantity > 10: {len(high_quantity)}\")\n",
    "high_quantity[['product', 'quantity', 'total']].head()"
   ]
  },
  {
   "cell_type": "markdown",
   "metadata": {},
   "source": [
    "### Multiple conditions"
   ]
  },
  {
   "cell_type": "code",
   "execution_count": 6,
   "metadata": {
    "execution": {
     "iopub.execute_input": "2025-10-21T14:33:07.016700Z",
     "iopub.status.busy": "2025-10-21T14:33:07.016644Z",
     "iopub.status.idle": "2025-10-21T14:33:07.019538Z",
     "shell.execute_reply": "2025-10-21T14:33:07.019245Z"
    }
   },
   "outputs": [
    {
     "name": "stdout",
     "output_type": "stream",
     "text": [
      "Widgets sold in North: 1\n"
     ]
    },
    {
     "data": {
      "text/html": [
       "<div>\n",
       "<style scoped>\n",
       "    .dataframe tbody tr th:only-of-type {\n",
       "        vertical-align: middle;\n",
       "    }\n",
       "\n",
       "    .dataframe tbody tr th {\n",
       "        vertical-align: top;\n",
       "    }\n",
       "\n",
       "    .dataframe thead th {\n",
       "        text-align: right;\n",
       "    }\n",
       "</style>\n",
       "<table border=\"1\" class=\"dataframe\">\n",
       "  <thead>\n",
       "    <tr style=\"text-align: right;\">\n",
       "      <th></th>\n",
       "      <th>product</th>\n",
       "      <th>region</th>\n",
       "      <th>quantity</th>\n",
       "    </tr>\n",
       "    <tr>\n",
       "      <th>id</th>\n",
       "      <th></th>\n",
       "      <th></th>\n",
       "      <th></th>\n",
       "    </tr>\n",
       "  </thead>\n",
       "  <tbody>\n",
       "    <tr>\n",
       "      <th>2</th>\n",
       "      <td>Widget</td>\n",
       "      <td>North</td>\n",
       "      <td>18</td>\n",
       "    </tr>\n",
       "  </tbody>\n",
       "</table>\n",
       "</div>"
      ],
      "text/plain": [
       "   product region  quantity\n",
       "id                         \n",
       "2   Widget  North        18"
      ]
     },
     "execution_count": 6,
     "metadata": {},
     "output_type": "execute_result"
    }
   ],
   "source": [
    "complex_filter = (sales._data['product'] == 'Widget') & (sales._data['region'] == 'North')\n",
    "filtered = sales._data[complex_filter]\n",
    "print(f\"Widgets sold in North: {len(filtered)}\")\n",
    "filtered[['product', 'region', 'quantity']].head()"
   ]
  },
  {
   "cell_type": "markdown",
   "metadata": {},
   "source": [
    "### Use isin for multiple values"
   ]
  },
  {
   "cell_type": "code",
   "execution_count": 7,
   "metadata": {
    "execution": {
     "iopub.execute_input": "2025-10-21T14:33:07.020462Z",
     "iopub.status.busy": "2025-10-21T14:33:07.020410Z",
     "iopub.status.idle": "2025-10-21T14:33:07.022907Z",
     "shell.execute_reply": "2025-10-21T14:33:07.022562Z"
    }
   },
   "outputs": [
    {
     "name": "stdout",
     "output_type": "stream",
     "text": [
      "Widget or Gadget sales: 30\n"
     ]
    }
   ],
   "source": [
    "selected = sales._data[sales._data['product'].isin(['Widget', 'Gadget'])]\n",
    "print(f\"Widget or Gadget sales: {len(selected)}\")"
   ]
  },
  {
   "cell_type": "markdown",
   "metadata": {},
   "source": [
    "## Grouping and Aggregation"
   ]
  },
  {
   "cell_type": "markdown",
   "metadata": {},
   "source": [
    "### Group by product"
   ]
  },
  {
   "cell_type": "code",
   "execution_count": 8,
   "metadata": {
    "execution": {
     "iopub.execute_input": "2025-10-21T14:33:07.023814Z",
     "iopub.status.busy": "2025-10-21T14:33:07.023761Z",
     "iopub.status.idle": "2025-10-21T14:33:07.027279Z",
     "shell.execute_reply": "2025-10-21T14:33:07.026923Z"
    }
   },
   "outputs": [
    {
     "name": "stdout",
     "output_type": "stream",
     "text": [
      "Total sales by product:\n"
     ]
    },
    {
     "data": {
      "text/plain": [
       "product\n",
       "Doohickey    3158.48\n",
       "Gadget       2018.81\n",
       "Widget       3108.41\n",
       "Name: total, dtype: float64"
      ]
     },
     "execution_count": 8,
     "metadata": {},
     "output_type": "execute_result"
    }
   ],
   "source": [
    "by_product = sales._data.groupby('product')['total'].sum()\n",
    "print(\"Total sales by product:\")\n",
    "by_product"
   ]
  },
  {
   "cell_type": "markdown",
   "metadata": {},
   "source": [
    "### Group by multiple columns"
   ]
  },
  {
   "cell_type": "code",
   "execution_count": 9,
   "metadata": {
    "execution": {
     "iopub.execute_input": "2025-10-21T14:33:07.028257Z",
     "iopub.status.busy": "2025-10-21T14:33:07.028188Z",
     "iopub.status.idle": "2025-10-21T14:33:07.032648Z",
     "shell.execute_reply": "2025-10-21T14:33:07.032307Z"
    }
   },
   "outputs": [
    {
     "name": "stdout",
     "output_type": "stream",
     "text": [
      "Sales by product and region:\n"
     ]
    },
    {
     "data": {
      "text/html": [
       "<div>\n",
       "<style scoped>\n",
       "    .dataframe tbody tr th:only-of-type {\n",
       "        vertical-align: middle;\n",
       "    }\n",
       "\n",
       "    .dataframe tbody tr th {\n",
       "        vertical-align: top;\n",
       "    }\n",
       "\n",
       "    .dataframe thead th {\n",
       "        text-align: right;\n",
       "    }\n",
       "</style>\n",
       "<table border=\"1\" class=\"dataframe\">\n",
       "  <thead>\n",
       "    <tr style=\"text-align: right;\">\n",
       "      <th></th>\n",
       "      <th></th>\n",
       "      <th>sum</th>\n",
       "      <th>mean</th>\n",
       "      <th>count</th>\n",
       "    </tr>\n",
       "    <tr>\n",
       "      <th>product</th>\n",
       "      <th>region</th>\n",
       "      <th></th>\n",
       "      <th></th>\n",
       "      <th></th>\n",
       "    </tr>\n",
       "  </thead>\n",
       "  <tbody>\n",
       "    <tr>\n",
       "      <th rowspan=\"4\" valign=\"top\">Doohickey</th>\n",
       "      <th>East</th>\n",
       "      <td>399.79</td>\n",
       "      <td>133.263333</td>\n",
       "      <td>3</td>\n",
       "    </tr>\n",
       "    <tr>\n",
       "      <th>North</th>\n",
       "      <td>1019.66</td>\n",
       "      <td>254.915000</td>\n",
       "      <td>4</td>\n",
       "    </tr>\n",
       "    <tr>\n",
       "      <th>South</th>\n",
       "      <td>1069.43</td>\n",
       "      <td>152.775714</td>\n",
       "      <td>7</td>\n",
       "    </tr>\n",
       "    <tr>\n",
       "      <th>West</th>\n",
       "      <td>669.60</td>\n",
       "      <td>111.600000</td>\n",
       "      <td>6</td>\n",
       "    </tr>\n",
       "    <tr>\n",
       "      <th rowspan=\"4\" valign=\"top\">Gadget</th>\n",
       "      <th>East</th>\n",
       "      <td>199.80</td>\n",
       "      <td>99.900000</td>\n",
       "      <td>2</td>\n",
       "    </tr>\n",
       "    <tr>\n",
       "      <th>North</th>\n",
       "      <td>389.77</td>\n",
       "      <td>194.885000</td>\n",
       "      <td>2</td>\n",
       "    </tr>\n",
       "    <tr>\n",
       "      <th>South</th>\n",
       "      <td>1129.41</td>\n",
       "      <td>161.344286</td>\n",
       "      <td>7</td>\n",
       "    </tr>\n",
       "    <tr>\n",
       "      <th>West</th>\n",
       "      <td>299.83</td>\n",
       "      <td>74.957500</td>\n",
       "      <td>4</td>\n",
       "    </tr>\n",
       "    <tr>\n",
       "      <th rowspan=\"2\" valign=\"top\">Widget</th>\n",
       "      <th>East</th>\n",
       "      <td>389.76</td>\n",
       "      <td>129.920000</td>\n",
       "      <td>3</td>\n",
       "    </tr>\n",
       "    <tr>\n",
       "      <th>North</th>\n",
       "      <td>539.82</td>\n",
       "      <td>539.820000</td>\n",
       "      <td>1</td>\n",
       "    </tr>\n",
       "  </tbody>\n",
       "</table>\n",
       "</div>"
      ],
      "text/plain": [
       "                      sum        mean  count\n",
       "product   region                            \n",
       "Doohickey East     399.79  133.263333      3\n",
       "          North   1019.66  254.915000      4\n",
       "          South   1069.43  152.775714      7\n",
       "          West     669.60  111.600000      6\n",
       "Gadget    East     199.80   99.900000      2\n",
       "          North    389.77  194.885000      2\n",
       "          South   1129.41  161.344286      7\n",
       "          West     299.83   74.957500      4\n",
       "Widget    East     389.76  129.920000      3\n",
       "          North    539.82  539.820000      1"
      ]
     },
     "execution_count": 9,
     "metadata": {},
     "output_type": "execute_result"
    }
   ],
   "source": [
    "by_product_region = sales._data.groupby(['product', 'region'])['total'].agg(['sum', 'mean', 'count'])\n",
    "print(\"Sales by product and region:\")\n",
    "by_product_region.head(10)"
   ]
  },
  {
   "cell_type": "markdown",
   "metadata": {},
   "source": [
    "### Multiple statistics"
   ]
  },
  {
   "cell_type": "code",
   "execution_count": 10,
   "metadata": {
    "execution": {
     "iopub.execute_input": "2025-10-21T14:33:07.033541Z",
     "iopub.status.busy": "2025-10-21T14:33:07.033472Z",
     "iopub.status.idle": "2025-10-21T14:33:07.037499Z",
     "shell.execute_reply": "2025-10-21T14:33:07.037258Z"
    }
   },
   "outputs": [
    {
     "name": "stdout",
     "output_type": "stream",
     "text": [
      "Statistics by region:\n"
     ]
    },
    {
     "data": {
      "text/html": [
       "<div>\n",
       "<style scoped>\n",
       "    .dataframe tbody tr th:only-of-type {\n",
       "        vertical-align: middle;\n",
       "    }\n",
       "\n",
       "    .dataframe tbody tr th {\n",
       "        vertical-align: top;\n",
       "    }\n",
       "\n",
       "    .dataframe thead tr th {\n",
       "        text-align: left;\n",
       "    }\n",
       "\n",
       "    .dataframe thead tr:last-of-type th {\n",
       "        text-align: right;\n",
       "    }\n",
       "</style>\n",
       "<table border=\"1\" class=\"dataframe\">\n",
       "  <thead>\n",
       "    <tr>\n",
       "      <th></th>\n",
       "      <th colspan=\"3\" halign=\"left\">total</th>\n",
       "      <th colspan=\"2\" halign=\"left\">quantity</th>\n",
       "    </tr>\n",
       "    <tr>\n",
       "      <th></th>\n",
       "      <th>sum</th>\n",
       "      <th>mean</th>\n",
       "      <th>count</th>\n",
       "      <th>sum</th>\n",
       "      <th>mean</th>\n",
       "    </tr>\n",
       "    <tr>\n",
       "      <th>region</th>\n",
       "      <th></th>\n",
       "      <th></th>\n",
       "      <th></th>\n",
       "      <th></th>\n",
       "      <th></th>\n",
       "    </tr>\n",
       "  </thead>\n",
       "  <tbody>\n",
       "    <tr>\n",
       "      <th>East</th>\n",
       "      <td>989.35</td>\n",
       "      <td>123.668750</td>\n",
       "      <td>8</td>\n",
       "      <td>65</td>\n",
       "      <td>8.125000</td>\n",
       "    </tr>\n",
       "    <tr>\n",
       "      <th>North</th>\n",
       "      <td>1949.25</td>\n",
       "      <td>278.464286</td>\n",
       "      <td>7</td>\n",
       "      <td>75</td>\n",
       "      <td>10.714286</td>\n",
       "    </tr>\n",
       "    <tr>\n",
       "      <th>South</th>\n",
       "      <td>3148.32</td>\n",
       "      <td>165.701053</td>\n",
       "      <td>19</td>\n",
       "      <td>168</td>\n",
       "      <td>8.842105</td>\n",
       "    </tr>\n",
       "    <tr>\n",
       "      <th>West</th>\n",
       "      <td>2198.78</td>\n",
       "      <td>137.423750</td>\n",
       "      <td>16</td>\n",
       "      <td>122</td>\n",
       "      <td>7.625000</td>\n",
       "    </tr>\n",
       "  </tbody>\n",
       "</table>\n",
       "</div>"
      ],
      "text/plain": [
       "          total                   quantity           \n",
       "            sum        mean count      sum       mean\n",
       "region                                               \n",
       "East     989.35  123.668750     8       65   8.125000\n",
       "North   1949.25  278.464286     7       75  10.714286\n",
       "South   3148.32  165.701053    19      168   8.842105\n",
       "West    2198.78  137.423750    16      122   7.625000"
      ]
     },
     "execution_count": 10,
     "metadata": {},
     "output_type": "execute_result"
    }
   ],
   "source": [
    "stats = sales._data.groupby('region').agg({\n",
    "    'total': ['sum', 'mean', 'count'],\n",
    "    'quantity': ['sum', 'mean']\n",
    "})\n",
    "print(\"Statistics by region:\")\n",
    "stats"
   ]
  },
  {
   "cell_type": "markdown",
   "metadata": {},
   "source": [
    "## Sorting"
   ]
  },
  {
   "cell_type": "markdown",
   "metadata": {},
   "source": [
    "### Top sales"
   ]
  },
  {
   "cell_type": "code",
   "execution_count": 11,
   "metadata": {
    "execution": {
     "iopub.execute_input": "2025-10-21T14:33:07.038613Z",
     "iopub.status.busy": "2025-10-21T14:33:07.038556Z",
     "iopub.status.idle": "2025-10-21T14:33:07.042363Z",
     "shell.execute_reply": "2025-10-21T14:33:07.042097Z"
    }
   },
   "outputs": [
    {
     "name": "stdout",
     "output_type": "stream",
     "text": [
      "Top 5 sales by total:\n"
     ]
    },
    {
     "data": {
      "text/html": [
       "<div>\n",
       "<style scoped>\n",
       "    .dataframe tbody tr th:only-of-type {\n",
       "        vertical-align: middle;\n",
       "    }\n",
       "\n",
       "    .dataframe tbody tr th {\n",
       "        vertical-align: top;\n",
       "    }\n",
       "\n",
       "    .dataframe thead th {\n",
       "        text-align: right;\n",
       "    }\n",
       "</style>\n",
       "<table border=\"1\" class=\"dataframe\">\n",
       "  <thead>\n",
       "    <tr style=\"text-align: right;\">\n",
       "      <th></th>\n",
       "      <th>product</th>\n",
       "      <th>region</th>\n",
       "      <th>quantity</th>\n",
       "      <th>total</th>\n",
       "    </tr>\n",
       "    <tr>\n",
       "      <th>id</th>\n",
       "      <th></th>\n",
       "      <th></th>\n",
       "      <th></th>\n",
       "      <th></th>\n",
       "    </tr>\n",
       "  </thead>\n",
       "  <tbody>\n",
       "    <tr>\n",
       "      <th>2</th>\n",
       "      <td>Widget</td>\n",
       "      <td>North</td>\n",
       "      <td>18</td>\n",
       "      <td>539.82</td>\n",
       "    </tr>\n",
       "    <tr>\n",
       "      <th>16</th>\n",
       "      <td>Widget</td>\n",
       "      <td>South</td>\n",
       "      <td>17</td>\n",
       "      <td>509.83</td>\n",
       "    </tr>\n",
       "    <tr>\n",
       "      <th>31</th>\n",
       "      <td>Gadget</td>\n",
       "      <td>South</td>\n",
       "      <td>16</td>\n",
       "      <td>479.84</td>\n",
       "    </tr>\n",
       "    <tr>\n",
       "      <th>3</th>\n",
       "      <td>Doohickey</td>\n",
       "      <td>South</td>\n",
       "      <td>15</td>\n",
       "      <td>449.85</td>\n",
       "    </tr>\n",
       "    <tr>\n",
       "      <th>4</th>\n",
       "      <td>Doohickey</td>\n",
       "      <td>North</td>\n",
       "      <td>13</td>\n",
       "      <td>389.87</td>\n",
       "    </tr>\n",
       "  </tbody>\n",
       "</table>\n",
       "</div>"
      ],
      "text/plain": [
       "      product region  quantity   total\n",
       "id                                    \n",
       "2      Widget  North        18  539.82\n",
       "16     Widget  South        17  509.83\n",
       "31     Gadget  South        16  479.84\n",
       "3   Doohickey  South        15  449.85\n",
       "4   Doohickey  North        13  389.87"
      ]
     },
     "execution_count": 11,
     "metadata": {},
     "output_type": "execute_result"
    }
   ],
   "source": [
    "top_sales = sales._data.nlargest(5, 'total')\n",
    "print(\"Top 5 sales by total:\")\n",
    "top_sales[['product', 'region', 'quantity', 'total']]"
   ]
  },
  {
   "cell_type": "markdown",
   "metadata": {},
   "source": [
    "### Sort by multiple columns"
   ]
  },
  {
   "cell_type": "code",
   "execution_count": 12,
   "metadata": {
    "execution": {
     "iopub.execute_input": "2025-10-21T14:33:07.043411Z",
     "iopub.status.busy": "2025-10-21T14:33:07.043343Z",
     "iopub.status.idle": "2025-10-21T14:33:07.048108Z",
     "shell.execute_reply": "2025-10-21T14:33:07.047735Z"
    }
   },
   "outputs": [
    {
     "name": "stdout",
     "output_type": "stream",
     "text": [
      "Sorted by product then total (desc):\n"
     ]
    },
    {
     "data": {
      "text/html": [
       "<div>\n",
       "<style scoped>\n",
       "    .dataframe tbody tr th:only-of-type {\n",
       "        vertical-align: middle;\n",
       "    }\n",
       "\n",
       "    .dataframe tbody tr th {\n",
       "        vertical-align: top;\n",
       "    }\n",
       "\n",
       "    .dataframe thead th {\n",
       "        text-align: right;\n",
       "    }\n",
       "</style>\n",
       "<table border=\"1\" class=\"dataframe\">\n",
       "  <thead>\n",
       "    <tr style=\"text-align: right;\">\n",
       "      <th></th>\n",
       "      <th>product</th>\n",
       "      <th>total</th>\n",
       "    </tr>\n",
       "    <tr>\n",
       "      <th>id</th>\n",
       "      <th></th>\n",
       "      <th></th>\n",
       "    </tr>\n",
       "  </thead>\n",
       "  <tbody>\n",
       "    <tr>\n",
       "      <th>3</th>\n",
       "      <td>Doohickey</td>\n",
       "      <td>449.85</td>\n",
       "    </tr>\n",
       "    <tr>\n",
       "      <th>4</th>\n",
       "      <td>Doohickey</td>\n",
       "      <td>389.87</td>\n",
       "    </tr>\n",
       "    <tr>\n",
       "      <th>12</th>\n",
       "      <td>Doohickey</td>\n",
       "      <td>359.88</td>\n",
       "    </tr>\n",
       "    <tr>\n",
       "      <th>10</th>\n",
       "      <td>Doohickey</td>\n",
       "      <td>269.91</td>\n",
       "    </tr>\n",
       "    <tr>\n",
       "      <th>7</th>\n",
       "      <td>Doohickey</td>\n",
       "      <td>259.87</td>\n",
       "    </tr>\n",
       "    <tr>\n",
       "      <th>28</th>\n",
       "      <td>Doohickey</td>\n",
       "      <td>239.88</td>\n",
       "    </tr>\n",
       "    <tr>\n",
       "      <th>9</th>\n",
       "      <td>Doohickey</td>\n",
       "      <td>209.93</td>\n",
       "    </tr>\n",
       "    <tr>\n",
       "      <th>46</th>\n",
       "      <td>Doohickey</td>\n",
       "      <td>209.93</td>\n",
       "    </tr>\n",
       "    <tr>\n",
       "      <th>40</th>\n",
       "      <td>Doohickey</td>\n",
       "      <td>149.85</td>\n",
       "    </tr>\n",
       "    <tr>\n",
       "      <th>1</th>\n",
       "      <td>Doohickey</td>\n",
       "      <td>129.87</td>\n",
       "    </tr>\n",
       "  </tbody>\n",
       "</table>\n",
       "</div>"
      ],
      "text/plain": [
       "      product   total\n",
       "id                   \n",
       "3   Doohickey  449.85\n",
       "4   Doohickey  389.87\n",
       "12  Doohickey  359.88\n",
       "10  Doohickey  269.91\n",
       "7   Doohickey  259.87\n",
       "28  Doohickey  239.88\n",
       "9   Doohickey  209.93\n",
       "46  Doohickey  209.93\n",
       "40  Doohickey  149.85\n",
       "1   Doohickey  129.87"
      ]
     },
     "execution_count": 12,
     "metadata": {},
     "output_type": "execute_result"
    }
   ],
   "source": [
    "sorted_sales = sales._data.sort_values(['product', 'total'], ascending=[True, False])\n",
    "print(\"Sorted by product then total (desc):\")\n",
    "sorted_sales[['product', 'total']].head(10)"
   ]
  },
  {
   "cell_type": "markdown",
   "metadata": {},
   "source": [
    "## Data Transformation"
   ]
  },
  {
   "cell_type": "markdown",
   "metadata": {},
   "source": [
    "### Use assign() to add columns"
   ]
  },
  {
   "cell_type": "code",
   "execution_count": 13,
   "metadata": {
    "execution": {
     "iopub.execute_input": "2025-10-21T14:33:07.049049Z",
     "iopub.status.busy": "2025-10-21T14:33:07.048992Z",
     "iopub.status.idle": "2025-10-21T14:33:07.052241Z",
     "shell.execute_reply": "2025-10-21T14:33:07.051991Z"
    }
   },
   "outputs": [
    {
     "name": "stdout",
     "output_type": "stream",
     "text": [
      "✓ Added discount and final_price columns\n"
     ]
    },
    {
     "data": {
      "text/html": [
       "<div>\n",
       "<style scoped>\n",
       "    .dataframe tbody tr th:only-of-type {\n",
       "        vertical-align: middle;\n",
       "    }\n",
       "\n",
       "    .dataframe tbody tr th {\n",
       "        vertical-align: top;\n",
       "    }\n",
       "\n",
       "    .dataframe thead th {\n",
       "        text-align: right;\n",
       "    }\n",
       "</style>\n",
       "<table border=\"1\" class=\"dataframe\">\n",
       "  <thead>\n",
       "    <tr style=\"text-align: right;\">\n",
       "      <th></th>\n",
       "      <th>total</th>\n",
       "      <th>discount</th>\n",
       "      <th>final_price</th>\n",
       "    </tr>\n",
       "    <tr>\n",
       "      <th>id</th>\n",
       "      <th></th>\n",
       "      <th></th>\n",
       "      <th></th>\n",
       "    </tr>\n",
       "  </thead>\n",
       "  <tbody>\n",
       "    <tr>\n",
       "      <th>1</th>\n",
       "      <td>129.87</td>\n",
       "      <td>0.1</td>\n",
       "      <td>116.883</td>\n",
       "    </tr>\n",
       "    <tr>\n",
       "      <th>2</th>\n",
       "      <td>539.82</td>\n",
       "      <td>0.1</td>\n",
       "      <td>485.838</td>\n",
       "    </tr>\n",
       "    <tr>\n",
       "      <th>3</th>\n",
       "      <td>449.85</td>\n",
       "      <td>0.1</td>\n",
       "      <td>404.865</td>\n",
       "    </tr>\n",
       "    <tr>\n",
       "      <th>4</th>\n",
       "      <td>389.87</td>\n",
       "      <td>0.1</td>\n",
       "      <td>350.883</td>\n",
       "    </tr>\n",
       "    <tr>\n",
       "      <th>5</th>\n",
       "      <td>89.91</td>\n",
       "      <td>0.1</td>\n",
       "      <td>80.919</td>\n",
       "    </tr>\n",
       "  </tbody>\n",
       "</table>\n",
       "</div>"
      ],
      "text/plain": [
       "     total  discount  final_price\n",
       "id                               \n",
       "1   129.87       0.1      116.883\n",
       "2   539.82       0.1      485.838\n",
       "3   449.85       0.1      404.865\n",
       "4   389.87       0.1      350.883\n",
       "5    89.91       0.1       80.919"
      ]
     },
     "execution_count": 13,
     "metadata": {},
     "output_type": "execute_result"
    }
   ],
   "source": [
    "sales._data = sales._data.assign(\n",
    "    discount=0.1,\n",
    "    final_price=lambda x: x['total'] * 0.9\n",
    ")\n",
    "print(\"✓ Added discount and final_price columns\")\n",
    "sales._data[['total', 'discount', 'final_price']].head()"
   ]
  },
  {
   "cell_type": "markdown",
   "metadata": {},
   "source": [
    "### Transform by groups"
   ]
  },
  {
   "cell_type": "code",
   "execution_count": 14,
   "metadata": {
    "execution": {
     "iopub.execute_input": "2025-10-21T14:33:07.053246Z",
     "iopub.status.busy": "2025-10-21T14:33:07.053176Z",
     "iopub.status.idle": "2025-10-21T14:33:07.056818Z",
     "shell.execute_reply": "2025-10-21T14:33:07.056482Z"
    }
   },
   "outputs": [
    {
     "name": "stdout",
     "output_type": "stream",
     "text": [
      "✓ Calculated percentage of product total\n"
     ]
    },
    {
     "data": {
      "text/html": [
       "<div>\n",
       "<style scoped>\n",
       "    .dataframe tbody tr th:only-of-type {\n",
       "        vertical-align: middle;\n",
       "    }\n",
       "\n",
       "    .dataframe tbody tr th {\n",
       "        vertical-align: top;\n",
       "    }\n",
       "\n",
       "    .dataframe thead th {\n",
       "        text-align: right;\n",
       "    }\n",
       "</style>\n",
       "<table border=\"1\" class=\"dataframe\">\n",
       "  <thead>\n",
       "    <tr style=\"text-align: right;\">\n",
       "      <th></th>\n",
       "      <th>product</th>\n",
       "      <th>total</th>\n",
       "      <th>pct_of_product_total</th>\n",
       "    </tr>\n",
       "    <tr>\n",
       "      <th>id</th>\n",
       "      <th></th>\n",
       "      <th></th>\n",
       "      <th></th>\n",
       "    </tr>\n",
       "  </thead>\n",
       "  <tbody>\n",
       "    <tr>\n",
       "      <th>1</th>\n",
       "      <td>Doohickey</td>\n",
       "      <td>129.87</td>\n",
       "      <td>4.111788</td>\n",
       "    </tr>\n",
       "    <tr>\n",
       "      <th>2</th>\n",
       "      <td>Widget</td>\n",
       "      <td>539.82</td>\n",
       "      <td>17.366435</td>\n",
       "    </tr>\n",
       "    <tr>\n",
       "      <th>3</th>\n",
       "      <td>Doohickey</td>\n",
       "      <td>449.85</td>\n",
       "      <td>14.242610</td>\n",
       "    </tr>\n",
       "    <tr>\n",
       "      <th>4</th>\n",
       "      <td>Doohickey</td>\n",
       "      <td>389.87</td>\n",
       "      <td>12.343596</td>\n",
       "    </tr>\n",
       "    <tr>\n",
       "      <th>5</th>\n",
       "      <td>Widget</td>\n",
       "      <td>89.91</td>\n",
       "      <td>2.892476</td>\n",
       "    </tr>\n",
       "  </tbody>\n",
       "</table>\n",
       "</div>"
      ],
      "text/plain": [
       "      product   total  pct_of_product_total\n",
       "id                                         \n",
       "1   Doohickey  129.87              4.111788\n",
       "2      Widget  539.82             17.366435\n",
       "3   Doohickey  449.85             14.242610\n",
       "4   Doohickey  389.87             12.343596\n",
       "5      Widget   89.91              2.892476"
      ]
     },
     "execution_count": 14,
     "metadata": {},
     "output_type": "execute_result"
    }
   ],
   "source": [
    "sales._data['pct_of_product_total'] = sales._data.groupby('product')['total'].transform(\n",
    "    lambda x: x / x.sum() * 100\n",
    ")\n",
    "print(\"✓ Calculated percentage of product total\")\n",
    "sales._data[['product', 'total', 'pct_of_product_total']].head()"
   ]
  },
  {
   "cell_type": "code",
   "execution_count": 15,
   "metadata": {
    "execution": {
     "iopub.execute_input": "2025-10-21T14:33:07.057649Z",
     "iopub.status.busy": "2025-10-21T14:33:07.057601Z",
     "iopub.status.idle": "2025-10-21T14:33:07.070119Z",
     "shell.execute_reply": "2025-10-21T14:33:07.069816Z"
    }
   },
   "outputs": [],
   "source": [
    "sales.push()"
   ]
  },
  {
   "cell_type": "markdown",
   "metadata": {},
   "source": [
    "## Summary\n",
    "\n",
    "**Key Takeaways:**\n",
    "- Full pandas DataFrame API is available\n",
    "- All operations are automatically tracked\n",
    "- Use `.loc[]`, `.iloc[]`, `.at[]`, `.iat[]` for indexing\n",
    "- `groupby()`, `merge()`, `pivot_table()` all work\n",
    "- String and datetime operations supported\n",
    "- Changes tracked regardless of operation type"
   ]
  }
 ],
 "metadata": {
  "kernelspec": {
   "display_name": "Python 3",
   "language": "python",
   "name": "python3"
  },
  "language_info": {
   "codemirror_mode": {
    "name": "ipython",
    "version": 3
   },
   "file_extension": ".py",
   "mimetype": "text/x-python",
   "name": "python",
   "nbconvert_exporter": "python",
   "pygments_lexer": "ipython3",
   "version": "3.11.13"
  }
 },
 "nbformat": 4,
 "nbformat_minor": 4
}
