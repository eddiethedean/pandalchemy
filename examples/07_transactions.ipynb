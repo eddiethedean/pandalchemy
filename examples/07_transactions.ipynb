{
 "cells": [
  {
   "cell_type": "markdown",
   "metadata": {},
   "source": [
    "# 07_transactions\n",
    "\n",
    "Transaction Safety\n",
    "\n",
    "This example demonstrates ACID transaction guarantees:\n",
    "- All-or-nothing execution\n",
    "- Automatic rollback on errors\n",
    "- Multi-table transactions\n",
    "- Error recovery"
   ]
  },
  {
   "cell_type": "code",
   "execution_count": 1,
   "metadata": {
    "execution": {
     "iopub.execute_input": "2025-10-21T14:32:58.304300Z",
     "iopub.status.busy": "2025-10-21T14:32:58.304132Z",
     "iopub.status.idle": "2025-10-21T14:32:58.670696Z",
     "shell.execute_reply": "2025-10-21T14:32:58.670101Z"
    }
   },
   "outputs": [],
   "source": [
    "import pandas as pd\n",
    "from sqlalchemy import create_engine\n",
    "import pandalchemy as pa"
   ]
  },
  {
   "cell_type": "code",
   "execution_count": 2,
   "metadata": {
    "execution": {
     "iopub.execute_input": "2025-10-21T14:32:58.671977Z",
     "iopub.status.busy": "2025-10-21T14:32:58.671839Z",
     "iopub.status.idle": "2025-10-21T14:32:58.677019Z",
     "shell.execute_reply": "2025-10-21T14:32:58.676621Z"
    }
   },
   "outputs": [],
   "source": [
    "# Setup\n",
    "engine = create_engine('sqlite:///:memory:')\n",
    "db = pa.DataBase(engine)"
   ]
  },
  {
   "cell_type": "code",
   "execution_count": 3,
   "metadata": {
    "execution": {
     "iopub.execute_input": "2025-10-21T14:32:58.678307Z",
     "iopub.status.busy": "2025-10-21T14:32:58.678242Z",
     "iopub.status.idle": "2025-10-21T14:32:58.680079Z",
     "shell.execute_reply": "2025-10-21T14:32:58.679702Z"
    }
   },
   "outputs": [
    {
     "name": "stdout",
     "output_type": "stream",
     "text": [
      "Transaction Safety Example\n"
     ]
    }
   ],
   "source": [
    "print(\"Transaction Safety Example\")"
   ]
  },
  {
   "cell_type": "code",
   "execution_count": 4,
   "metadata": {
    "execution": {
     "iopub.execute_input": "2025-10-21T14:32:58.696502Z",
     "iopub.status.busy": "2025-10-21T14:32:58.696379Z",
     "iopub.status.idle": "2025-10-21T14:32:58.705451Z",
     "shell.execute_reply": "2025-10-21T14:32:58.705054Z"
    }
   },
   "outputs": [
    {
     "data": {
      "text/html": [
       "<div>\n",
       "<style scoped>\n",
       "    .dataframe tbody tr th:only-of-type {\n",
       "        vertical-align: middle;\n",
       "    }\n",
       "\n",
       "    .dataframe tbody tr th {\n",
       "        vertical-align: top;\n",
       "    }\n",
       "\n",
       "    .dataframe thead th {\n",
       "        text-align: right;\n",
       "    }\n",
       "</style>\n",
       "<table border=\"1\" class=\"dataframe\">\n",
       "  <thead>\n",
       "    <tr style=\"text-align: right;\">\n",
       "      <th></th>\n",
       "      <th>name</th>\n",
       "      <th>balance</th>\n",
       "    </tr>\n",
       "    <tr>\n",
       "      <th>id</th>\n",
       "      <th></th>\n",
       "      <th></th>\n",
       "    </tr>\n",
       "  </thead>\n",
       "  <tbody>\n",
       "    <tr>\n",
       "      <th>1</th>\n",
       "      <td>Alice</td>\n",
       "      <td>1000.0</td>\n",
       "    </tr>\n",
       "    <tr>\n",
       "      <th>2</th>\n",
       "      <td>Bob</td>\n",
       "      <td>500.0</td>\n",
       "    </tr>\n",
       "  </tbody>\n",
       "</table>\n",
       "</div>"
      ],
      "text/plain": [
       "TableDataFrame(\n",
       "     name  balance\n",
       "id                \n",
       "1   Alice   1000.0\n",
       "2     Bob    500.0\n",
       ")"
      ]
     },
     "execution_count": 4,
     "metadata": {},
     "output_type": "execute_result"
    }
   ],
   "source": [
    "# Create test tables\n",
    "users_data = pd.DataFrame({\n",
    "    'name': ['Alice', 'Bob'],\n",
    "    'balance': [1000.00, 500.00]\n",
    "}, index=[1, 2])\n",
    "\n",
    "db.create_table('users', users_data, primary_key='id')"
   ]
  },
  {
   "cell_type": "markdown",
   "metadata": {},
   "source": [
    "### 1. Basic Transaction"
   ]
  },
  {
   "cell_type": "code",
   "execution_count": 5,
   "metadata": {
    "execution": {
     "iopub.execute_input": "2025-10-21T14:32:58.706455Z",
     "iopub.status.busy": "2025-10-21T14:32:58.706398Z",
     "iopub.status.idle": "2025-10-21T14:32:58.714208Z",
     "shell.execute_reply": "2025-10-21T14:32:58.713923Z"
    }
   },
   "outputs": [
    {
     "name": "stdout",
     "output_type": "stream",
     "text": [
      "\n",
      "   Initial state:\n",
      "     name  balance\n",
      "id                \n",
      "1   Alice   1000.0\n",
      "2     Bob    500.0\n",
      "\n",
      "   Making changes:\n",
      "   Changes tracked (not yet committed)\n",
      "   Has changes: True\n",
      "\n",
      "   ✓ Transaction committed\n",
      "     name  balance\n",
      "id                \n",
      "1   Alice   1100.0\n",
      "2     Bob    600.0\n"
     ]
    }
   ],
   "source": [
    "users = db['users']\n",
    "print(\"\\n   Initial state:\")\n",
    "print(users.to_pandas())\n",
    "\n",
    "# Make changes\n",
    "print(\"\\n   Making changes:\")\n",
    "users.update_row(1, {'balance': 1100.00})\n",
    "users.update_row(2, {'balance': 600.00})\n",
    "\n",
    "print(\"   Changes tracked (not yet committed)\")\n",
    "print(f\"   Has changes: {users.has_changes()}\")\n",
    "\n",
    "# Commit\n",
    "users.push()\n",
    "print(\"\\n   ✓ Transaction committed\")\n",
    "print(users.to_pandas())"
   ]
  },
  {
   "cell_type": "markdown",
   "metadata": {},
   "source": [
    "### 2. Rollback on Error"
   ]
  },
  {
   "cell_type": "code",
   "execution_count": 6,
   "metadata": {
    "execution": {
     "iopub.execute_input": "2025-10-21T14:32:58.715288Z",
     "iopub.status.busy": "2025-10-21T14:32:58.715234Z",
     "iopub.status.idle": "2025-10-21T14:32:58.720511Z",
     "shell.execute_reply": "2025-10-21T14:32:58.720159Z"
    }
   },
   "outputs": [
    {
     "name": "stdout",
     "output_type": "stream",
     "text": [
      "\n",
      "   Initial balance:\n",
      "     name  balance\n",
      "id                \n",
      "1   Alice   1100.0\n",
      "2     Bob    600.0\n",
      "\n",
      "   Attempting invalid operation:\n",
      "   ✓ Transaction failed: DataValidationError\n",
      "   ✓ All changes rolled back\n",
      "\n",
      "   After rollback:\n",
      "     name  balance\n",
      "id                \n",
      "1   Alice   1100.0\n",
      "2     Bob    600.0\n",
      "   ✓ Data unchanged from before transaction\n"
     ]
    }
   ],
   "source": [
    "print(\"\\n   Initial balance:\")\n",
    "print(users.to_pandas()[['name', 'balance']])\n",
    "\n",
    "# Make changes that will fail\n",
    "print(\"\\n   Attempting invalid operation:\")\n",
    "try:\n",
    "    users.update_row(1, {'balance': 1200.00})\n",
    "    users.update_row(2, {'balance': 700.00})\n",
    "    # This will cause an error (trying to update PK)\n",
    "    users.update_row(1, {'id': 999})\n",
    "    users.push()\n",
    "    print(\"   ❌ Should have failed\")\n",
    "except Exception as e:\n",
    "    print(f\"   ✓ Transaction failed: {type(e).__name__}\")\n",
    "    print(\"   ✓ All changes rolled back\")\n",
    "\n",
    "# Verify rollback\n",
    "users.pull()\n",
    "print(\"\\n   After rollback:\")\n",
    "print(users.to_pandas()[['name', 'balance']])\n",
    "print(\"   ✓ Data unchanged from before transaction\")"
   ]
  },
  {
   "cell_type": "markdown",
   "metadata": {},
   "source": [
    "### 3. Multi-Table Transactions"
   ]
  },
  {
   "cell_type": "code",
   "execution_count": 7,
   "metadata": {
    "execution": {
     "iopub.execute_input": "2025-10-21T14:32:58.721518Z",
     "iopub.status.busy": "2025-10-21T14:32:58.721461Z",
     "iopub.status.idle": "2025-10-21T14:32:58.743343Z",
     "shell.execute_reply": "2025-10-21T14:32:58.742967Z"
    }
   },
   "outputs": [
    {
     "name": "stdout",
     "output_type": "stream",
     "text": [
      "\n",
      "   Initial state:\n",
      "   Accounts:\n",
      "    user_id account_number  balance\n",
      "id                                 \n",
      "1         1         ACC001   1100.0\n",
      "2         2         ACC002    600.0\n",
      "\n",
      "   Transferring $200 from Alice to Bob:\n",
      "   ✓ Transfer complete (all tables updated atomically)\n",
      "\n",
      "   Final state:\n",
      "   Accounts:\n",
      "    user_id account_number  balance\n",
      "id                                 \n",
      "1         1         ACC001    900.0\n",
      "2         2         ACC002    800.0\n",
      "\n",
      "   Transactions:\n",
      "   from_account to_account  amount     status\n",
      "id                                           \n",
      "1        ACC001     ACC002   200.0  completed\n"
     ]
    }
   ],
   "source": [
    "# Create accounts and transactions tables\n",
    "accounts_data = pd.DataFrame({\n",
    "    'user_id': [1, 2],\n",
    "    'account_number': ['ACC001', 'ACC002'],\n",
    "    'balance': [1100.00, 600.00]\n",
    "}, index=[1, 2])\n",
    "\n",
    "transactions_data = pd.DataFrame({\n",
    "    'from_account': [],\n",
    "    'to_account': [],\n",
    "    'amount': [],\n",
    "    'status': []\n",
    "}, dtype=object)\n",
    "transactions_data.index.name = 'id'\n",
    "\n",
    "db.create_table('accounts', accounts_data, primary_key='id')\n",
    "db.create_table('transactions', transactions_data, primary_key='id')\n",
    "\n",
    "print(\"\\n   Initial state:\")\n",
    "print(\"   Accounts:\")\n",
    "print(db['accounts'].to_pandas())\n",
    "\n",
    "# Perform money transfer (multi-table)\n",
    "print(\"\\n   Transferring $200 from Alice to Bob:\")\n",
    "\n",
    "# Deduct from Alice\n",
    "db['accounts'].update_row(1, {'balance': 900.00})\n",
    "\n",
    "# Add to Bob\n",
    "db['accounts'].update_row(2, {'balance': 800.00})\n",
    "\n",
    "# Record transaction\n",
    "db['transactions'].add_row({\n",
    "    'id': 1,\n",
    "    'from_account': 'ACC001',\n",
    "    'to_account': 'ACC002',\n",
    "    'amount': 200.00,\n",
    "    'status': 'completed'\n",
    "})\n",
    "\n",
    "# Commit all changes in one transaction\n",
    "db.push()\n",
    "print(\"   ✓ Transfer complete (all tables updated atomically)\")\n",
    "\n",
    "print(\"\\n   Final state:\")\n",
    "print(\"   Accounts:\")\n",
    "print(db['accounts'].to_pandas())\n",
    "print(\"\\n   Transactions:\")\n",
    "print(db['transactions'].to_pandas())"
   ]
  },
  {
   "cell_type": "markdown",
   "metadata": {},
   "source": [
    "### 4. Failed Multi-Table Transaction"
   ]
  },
  {
   "cell_type": "code",
   "execution_count": 8,
   "metadata": {
    "execution": {
     "iopub.execute_input": "2025-10-21T14:32:58.744567Z",
     "iopub.status.busy": "2025-10-21T14:32:58.744495Z",
     "iopub.status.idle": "2025-10-21T14:32:58.752946Z",
     "shell.execute_reply": "2025-10-21T14:32:58.752627Z"
    }
   },
   "outputs": [
    {
     "name": "stdout",
     "output_type": "stream",
     "text": [
      "\n",
      "   Attempting invalid transfer:\n",
      "   ✓ Transaction failed: DataValidationError\n",
      "\n",
      "   Account 1: $900.00 → $900.00 (unchanged)\n",
      "   Account 2: $800.00 → $800.00 (unchanged)\n",
      "   Transactions: 1 (unchanged)\n"
     ]
    }
   ],
   "source": [
    "print(\"\\n   Attempting invalid transfer:\")\n",
    "\n",
    "initial_acc1 = db['accounts'].get_row(1)['balance']\n",
    "initial_acc2 = db['accounts'].get_row(2)['balance']\n",
    "\n",
    "try:\n",
    "    # Try to transfer more than available\n",
    "    db['accounts'].update_row(1, {'balance': initial_acc1 - 1000.00})  # Would go negative\n",
    "    db['accounts'].update_row(2, {'balance': initial_acc2 + 1000.00})\n",
    "    \n",
    "    # Add invalid transaction record (duplicate ID)\n",
    "    db['transactions'].add_row({\n",
    "        'id': 1,  # Already exists!\n",
    "        'from_account': 'ACC001',\n",
    "        'to_account': 'ACC002',\n",
    "        'amount': 1000.00,\n",
    "        'status': 'completed'\n",
    "    })\n",
    "    \n",
    "    db.push()\n",
    "    print(\"   ❌ Should have failed\")\n",
    "except Exception as e:\n",
    "    print(f\"   ✓ Transaction failed: {type(e).__name__}\")\n",
    "\n",
    "# Verify everything rolled back\n",
    "db.pull()\n",
    "final_acc1 = db['accounts'].get_row(1)['balance']\n",
    "final_acc2 = db['accounts'].get_row(2)['balance']\n",
    "\n",
    "print(f\"\\n   Account 1: ${initial_acc1:.2f} → ${final_acc1:.2f} (unchanged)\")\n",
    "print(f\"   Account 2: ${initial_acc2:.2f} → ${final_acc2:.2f} (unchanged)\")\n",
    "print(f\"   Transactions: {len(db['transactions']._data)} (unchanged)\")"
   ]
  },
  {
   "cell_type": "markdown",
   "metadata": {},
   "source": [
    "### 5. Isolation and Consistency"
   ]
  },
  {
   "cell_type": "code",
   "execution_count": 9,
   "metadata": {
    "execution": {
     "iopub.execute_input": "2025-10-21T14:32:58.753907Z",
     "iopub.status.busy": "2025-10-21T14:32:58.753857Z",
     "iopub.status.idle": "2025-10-21T14:32:58.765050Z",
     "shell.execute_reply": "2025-10-21T14:32:58.764670Z"
    }
   },
   "outputs": [
    {
     "name": "stdout",
     "output_type": "stream",
     "text": [
      "\n",
      "   Demonstrating consistency:\n",
      "   Total balance before: $1700.00\n",
      "   Total balance after: $1700.00\n",
      "   ✓ Consistency maintained: True\n"
     ]
    }
   ],
   "source": [
    "print(\"\\n   Demonstrating consistency:\")\n",
    "\n",
    "# Get total balance before\n",
    "total_before = db['accounts']._data['balance'].sum()\n",
    "print(f\"   Total balance before: ${total_before:.2f}\")\n",
    "\n",
    "# Transfer within system\n",
    "db['accounts'].update_row(1, {'balance': 850.00})\n",
    "db['accounts'].update_row(2, {'balance': 850.00})\n",
    "\n",
    "db['transactions'].add_row({\n",
    "    'id': 2,\n",
    "    'from_account': 'ACC001',\n",
    "    'to_account': 'ACC002',\n",
    "    'amount': 50.00,\n",
    "    'status': 'completed'\n",
    "})\n",
    "\n",
    "db.push()\n",
    "\n",
    "# Get total balance after\n",
    "total_after = db['accounts']._data['balance'].sum()\n",
    "print(f\"   Total balance after: ${total_after:.2f}\")\n",
    "print(f\"   ✓ Consistency maintained: {total_before == total_after}\")"
   ]
  },
  {
   "cell_type": "markdown",
   "metadata": {},
   "source": [
    "### 6. Error Recovery Patterns"
   ]
  },
  {
   "cell_type": "code",
   "execution_count": 10,
   "metadata": {
    "execution": {
     "iopub.execute_input": "2025-10-21T14:32:58.766039Z",
     "iopub.status.busy": "2025-10-21T14:32:58.765978Z",
     "iopub.status.idle": "2025-10-21T14:32:58.768201Z",
     "shell.execute_reply": "2025-10-21T14:32:58.767824Z"
    }
   },
   "outputs": [
    {
     "name": "stdout",
     "output_type": "stream",
     "text": [
      "\n",
      "   Pattern 1: Try-except with pull\n",
      "   ```python\n",
      "   try:\n",
      "       table.update_row(1, {...})\n",
      "       table.push()\n",
      "   except Exception as e:\n",
      "       table.pull()  # Refresh to clean state\n",
      "       # Handle error\n",
      "   ```\n",
      "\n",
      "   Pattern 2: Validate before push\n",
      "   ```python\n",
      "   table.update_row(1, {...})\n",
      "   if table.has_changes():\n",
      "       # Validate changes\n",
      "       if validation_ok:\n",
      "           table.push()\n",
      "       else:\n",
      "           table.pull()  # Discard\n",
      "   ```\n"
     ]
    }
   ],
   "source": [
    "print(\"\\n   Pattern 1: Try-except with pull\")\n",
    "print(\"   ```python\")\n",
    "print(\"   try:\")\n",
    "print(\"       table.update_row(1, {...})\")\n",
    "print(\"       table.push()\")\n",
    "print(\"   except Exception as e:\")\n",
    "print(\"       table.pull()  # Refresh to clean state\")\n",
    "print(\"       # Handle error\")\n",
    "print(\"   ```\")\n",
    "\n",
    "print(\"\\n   Pattern 2: Validate before push\")\n",
    "print(\"   ```python\")\n",
    "print(\"   table.update_row(1, {...})\")\n",
    "print(\"   if table.has_changes():\")\n",
    "print(\"       # Validate changes\")\n",
    "print(\"       if validation_ok:\")\n",
    "print(\"           table.push()\")\n",
    "print(\"       else:\")\n",
    "print(\"           table.pull()  # Discard\")\n",
    "print(\"   ```\")"
   ]
  },
  {
   "cell_type": "markdown",
   "metadata": {},
   "source": [
    "### 7. Single-Table Transaction"
   ]
  },
  {
   "cell_type": "code",
   "execution_count": 11,
   "metadata": {
    "execution": {
     "iopub.execute_input": "2025-10-21T14:32:58.769095Z",
     "iopub.status.busy": "2025-10-21T14:32:58.769043Z",
     "iopub.status.idle": "2025-10-21T14:32:58.778294Z",
     "shell.execute_reply": "2025-10-21T14:32:58.777872Z"
    }
   },
   "outputs": [
    {
     "name": "stdout",
     "output_type": "stream",
     "text": [
      "\n",
      "   Initial inventory:\n",
      "      name  stock  reserved\n",
      "id                         \n",
      "1   Widget    100         0\n",
      "2   Gadget     50         0\n",
      "\n",
      "   Processing order (reserve 10 widgets):\n",
      "   ✓ Order processed\n",
      "\n",
      "   After order:\n",
      "      name  stock  reserved\n",
      "id                         \n",
      "1   Widget     90        10\n",
      "2   Gadget     50         0\n"
     ]
    }
   ],
   "source": [
    "products_data = pd.DataFrame({\n",
    "    'name': ['Widget', 'Gadget'],\n",
    "    'stock': [100, 50],\n",
    "    'reserved': [0, 0]\n",
    "}, index=[1, 2])\n",
    "\n",
    "products = pa.TableDataFrame('products', products_data, 'id', engine)\n",
    "products.push()\n",
    "\n",
    "print(\"\\n   Initial inventory:\")\n",
    "print(products.to_pandas())\n",
    "\n",
    "# Simulate order processing\n",
    "print(\"\\n   Processing order (reserve 10 widgets):\")\n",
    "try:\n",
    "    current = products.get_row(1)\n",
    "    if current['stock'] >= 10:\n",
    "        products.update_row(1, {\n",
    "            'stock': current['stock'] - 10,\n",
    "            'reserved': current['reserved'] + 10\n",
    "        })\n",
    "        products.push()\n",
    "        print(\"   ✓ Order processed\")\n",
    "    else:\n",
    "        print(\"   ✗ Insufficient stock\")\n",
    "except Exception as e:\n",
    "    products.pull()\n",
    "    print(f\"   ✗ Order failed: {e}\")\n",
    "\n",
    "print(\"\\n   After order:\")\n",
    "print(products.to_pandas())"
   ]
  },
  {
   "cell_type": "markdown",
   "metadata": {},
   "source": [
    "### 8. Transaction with Validation"
   ]
  },
  {
   "cell_type": "code",
   "execution_count": 12,
   "metadata": {
    "execution": {
     "iopub.execute_input": "2025-10-21T14:32:58.779497Z",
     "iopub.status.busy": "2025-10-21T14:32:58.779412Z",
     "iopub.status.idle": "2025-10-21T14:32:58.792129Z",
     "shell.execute_reply": "2025-10-21T14:32:58.791724Z"
    }
   },
   "outputs": [
    {
     "name": "stdout",
     "output_type": "stream",
     "text": [
      "\n",
      "   Transfer with validation:\n",
      "   Result: Transfer successful\n",
      "   Success: True\n",
      "\n",
      "   Balances after transfer:\n",
      "   account_number  balance\n",
      "id                        \n",
      "1          ACC001    750.0\n",
      "2          ACC002    950.0\n",
      "\n",
      "======================================================================\n",
      "Example Complete!\n",
      "Key Takeaways:\n",
      "  • All push() operations are transactional\n",
      "  • Errors trigger automatic rollback\n",
      "  • db.push() commits all tables atomically\n",
      "  • Use try-except with pull() for error recovery\n",
      "  • Validate before push() when possible\n"
     ]
    }
   ],
   "source": [
    "print(\"\\n   Transfer with validation:\")\n",
    "\n",
    "def safe_transfer(db, from_id, to_id, amount):\n",
    "    \"\"\"Safe money transfer with validation.\"\"\"\n",
    "    try:\n",
    "        # Get current balances\n",
    "        from_account = db['accounts'].get_row(from_id)\n",
    "        to_account = db['accounts'].get_row(to_id)\n",
    "        \n",
    "        # Validate\n",
    "        if from_account['balance'] < amount:\n",
    "            return False, \"Insufficient funds\"\n",
    "        \n",
    "        if amount <= 0:\n",
    "            return False, \"Invalid amount\"\n",
    "        \n",
    "        # Perform transfer\n",
    "        db['accounts'].update_row(from_id, {\n",
    "            'balance': from_account['balance'] - amount\n",
    "        })\n",
    "        db['accounts'].update_row(to_id, {\n",
    "            'balance': to_account['balance'] + amount\n",
    "        })\n",
    "        \n",
    "        # Commit\n",
    "        db.push()\n",
    "        return True, \"Transfer successful\"\n",
    "        \n",
    "    except Exception as e:\n",
    "        db.pull()  # Rollback\n",
    "        return False, f\"Transfer failed: {e}\"\n",
    "\n",
    "# Try transfer\n",
    "success, message = safe_transfer(db, 1, 2, 100.00)\n",
    "print(f\"   Result: {message}\")\n",
    "print(f\"   Success: {success}\")\n",
    "\n",
    "print(\"\\n   Balances after transfer:\")\n",
    "print(db['accounts'].to_pandas()[['account_number', 'balance']])\n",
    "\n",
    "print(\"\\n\" + \"=\" * 70)\n",
    "print(\"Example Complete!\")\n",
    "print(\"Key Takeaways:\")\n",
    "print(\"  • All push() operations are transactional\")\n",
    "print(\"  • Errors trigger automatic rollback\")\n",
    "print(\"  • db.push() commits all tables atomically\")\n",
    "print(\"  • Use try-except with pull() for error recovery\")\n",
    "print(\"  • Validate before push() when possible\")"
   ]
  }
 ],
 "metadata": {
  "kernelspec": {
   "display_name": "Python 3",
   "language": "python",
   "name": "python3"
  },
  "language_info": {
   "codemirror_mode": {
    "name": "ipython",
    "version": 3
   },
   "file_extension": ".py",
   "mimetype": "text/x-python",
   "name": "python",
   "nbconvert_exporter": "python",
   "pygments_lexer": "ipython3",
   "version": "3.11.13"
  }
 },
 "nbformat": 4,
 "nbformat_minor": 4
}
