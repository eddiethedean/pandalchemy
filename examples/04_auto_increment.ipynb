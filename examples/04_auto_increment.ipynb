{
 "cells": [
  {
   "cell_type": "markdown",
   "metadata": {},
   "source": [
    "# Auto-Increment Primary Keys\n",
    "\n",
    "This notebook demonstrates auto-increment functionality:\n",
    "- Setting up auto-increment tables\n",
    "- Adding rows without specifying PKs\n",
    "- Getting next available PK value\n",
    "- Combining manual and auto-generated IDs"
   ]
  },
  {
   "cell_type": "code",
   "execution_count": 1,
   "metadata": {
    "execution": {
     "iopub.execute_input": "2025-10-21T14:32:50.057097Z",
     "iopub.status.busy": "2025-10-21T14:32:50.056887Z",
     "iopub.status.idle": "2025-10-21T14:32:50.432641Z",
     "shell.execute_reply": "2025-10-21T14:32:50.432188Z"
    }
   },
   "outputs": [],
   "source": [
    "import pandas as pd\n",
    "from sqlalchemy import create_engine\n",
    "import pandalchemy as pa"
   ]
  },
  {
   "cell_type": "markdown",
   "metadata": {},
   "source": [
    "## Setup"
   ]
  },
  {
   "cell_type": "code",
   "execution_count": 2,
   "metadata": {
    "execution": {
     "iopub.execute_input": "2025-10-21T14:32:50.433895Z",
     "iopub.status.busy": "2025-10-21T14:32:50.433805Z",
     "iopub.status.idle": "2025-10-21T14:32:50.438207Z",
     "shell.execute_reply": "2025-10-21T14:32:50.437827Z"
    }
   },
   "outputs": [],
   "source": [
    "engine = create_engine('sqlite:///:memory:')"
   ]
  },
  {
   "cell_type": "markdown",
   "metadata": {},
   "source": [
    "## Creating Auto-Increment Table"
   ]
  },
  {
   "cell_type": "code",
   "execution_count": 3,
   "metadata": {
    "execution": {
     "iopub.execute_input": "2025-10-21T14:32:50.439279Z",
     "iopub.status.busy": "2025-10-21T14:32:50.439225Z",
     "iopub.status.idle": "2025-10-21T14:32:50.450032Z",
     "shell.execute_reply": "2025-10-21T14:32:50.449579Z"
    }
   },
   "outputs": [
    {
     "name": "stdout",
     "output_type": "stream",
     "text": [
      "✓ Created posts table with auto_increment=True\n",
      "Current max ID: 3\n"
     ]
    },
    {
     "data": {
      "text/html": [
       "<div>\n",
       "<style scoped>\n",
       "    .dataframe tbody tr th:only-of-type {\n",
       "        vertical-align: middle;\n",
       "    }\n",
       "\n",
       "    .dataframe tbody tr th {\n",
       "        vertical-align: top;\n",
       "    }\n",
       "\n",
       "    .dataframe thead th {\n",
       "        text-align: right;\n",
       "    }\n",
       "</style>\n",
       "<table border=\"1\" class=\"dataframe\">\n",
       "  <thead>\n",
       "    <tr style=\"text-align: right;\">\n",
       "      <th></th>\n",
       "      <th>title</th>\n",
       "      <th>content</th>\n",
       "      <th>author</th>\n",
       "    </tr>\n",
       "    <tr>\n",
       "      <th>id</th>\n",
       "      <th></th>\n",
       "      <th></th>\n",
       "      <th></th>\n",
       "    </tr>\n",
       "  </thead>\n",
       "  <tbody>\n",
       "    <tr>\n",
       "      <th>1</th>\n",
       "      <td>First Post</td>\n",
       "      <td>Content 1</td>\n",
       "      <td>Alice</td>\n",
       "    </tr>\n",
       "    <tr>\n",
       "      <th>2</th>\n",
       "      <td>Second Post</td>\n",
       "      <td>Content 2</td>\n",
       "      <td>Bob</td>\n",
       "    </tr>\n",
       "    <tr>\n",
       "      <th>3</th>\n",
       "      <td>Third Post</td>\n",
       "      <td>Content 3</td>\n",
       "      <td>Alice</td>\n",
       "    </tr>\n",
       "  </tbody>\n",
       "</table>\n",
       "</div>"
      ],
      "text/plain": [
       "          title    content author\n",
       "id                               \n",
       "1    First Post  Content 1  Alice\n",
       "2   Second Post  Content 2    Bob\n",
       "3    Third Post  Content 3  Alice"
      ]
     },
     "execution_count": 3,
     "metadata": {},
     "output_type": "execute_result"
    }
   ],
   "source": [
    "initial_data = pd.DataFrame({\n",
    "    'title': ['First Post', 'Second Post', 'Third Post'],\n",
    "    'content': ['Content 1', 'Content 2', 'Content 3'],\n",
    "    'author': ['Alice', 'Bob', 'Alice']\n",
    "}, index=[1, 2, 3])\n",
    "\n",
    "posts = pa.TableDataFrame('posts', initial_data, 'id', engine, auto_increment=True)\n",
    "posts.push()\n",
    "\n",
    "print(\"✓ Created posts table with auto_increment=True\")\n",
    "print(f\"Current max ID: {posts._data.index.max()}\")\n",
    "\n",
    "posts.to_pandas()"
   ]
  },
  {
   "cell_type": "markdown",
   "metadata": {},
   "source": [
    "## Adding Rows with Auto-Increment"
   ]
  },
  {
   "cell_type": "markdown",
   "metadata": {},
   "source": [
    "### Add without specifying ID"
   ]
  },
  {
   "cell_type": "code",
   "execution_count": 4,
   "metadata": {
    "execution": {
     "iopub.execute_input": "2025-10-21T14:32:50.465658Z",
     "iopub.status.busy": "2025-10-21T14:32:50.465558Z",
     "iopub.status.idle": "2025-10-21T14:32:50.469130Z",
     "shell.execute_reply": "2025-10-21T14:32:50.468759Z"
    }
   },
   "outputs": [
    {
     "name": "stdout",
     "output_type": "stream",
     "text": [
      "✓ Added (ID will be 4)\n"
     ]
    }
   ],
   "source": [
    "posts.add_row({\n",
    "    'title': 'Auto Post 1',\n",
    "    'content': 'This ID was auto-generated',\n",
    "    'author': 'Charlie'\n",
    "}, auto_increment=True)\n",
    "\n",
    "print(\"✓ Added (ID will be 4)\")"
   ]
  },
  {
   "cell_type": "markdown",
   "metadata": {},
   "source": [
    "### Add multiple rows"
   ]
  },
  {
   "cell_type": "code",
   "execution_count": 5,
   "metadata": {
    "execution": {
     "iopub.execute_input": "2025-10-21T14:32:50.470101Z",
     "iopub.status.busy": "2025-10-21T14:32:50.470049Z",
     "iopub.status.idle": "2025-10-21T14:32:50.478320Z",
     "shell.execute_reply": "2025-10-21T14:32:50.477917Z"
    }
   },
   "outputs": [
    {
     "name": "stdout",
     "output_type": "stream",
     "text": [
      "✓ Added posts with IDs 5, 6\n"
     ]
    },
    {
     "data": {
      "text/html": [
       "<div>\n",
       "<style scoped>\n",
       "    .dataframe tbody tr th:only-of-type {\n",
       "        vertical-align: middle;\n",
       "    }\n",
       "\n",
       "    .dataframe tbody tr th {\n",
       "        vertical-align: top;\n",
       "    }\n",
       "\n",
       "    .dataframe thead th {\n",
       "        text-align: right;\n",
       "    }\n",
       "</style>\n",
       "<table border=\"1\" class=\"dataframe\">\n",
       "  <thead>\n",
       "    <tr style=\"text-align: right;\">\n",
       "      <th></th>\n",
       "      <th>title</th>\n",
       "      <th>content</th>\n",
       "      <th>author</th>\n",
       "    </tr>\n",
       "    <tr>\n",
       "      <th>id</th>\n",
       "      <th></th>\n",
       "      <th></th>\n",
       "      <th></th>\n",
       "    </tr>\n",
       "  </thead>\n",
       "  <tbody>\n",
       "    <tr>\n",
       "      <th>1</th>\n",
       "      <td>First Post</td>\n",
       "      <td>Content 1</td>\n",
       "      <td>Alice</td>\n",
       "    </tr>\n",
       "    <tr>\n",
       "      <th>2</th>\n",
       "      <td>Second Post</td>\n",
       "      <td>Content 2</td>\n",
       "      <td>Bob</td>\n",
       "    </tr>\n",
       "    <tr>\n",
       "      <th>3</th>\n",
       "      <td>Third Post</td>\n",
       "      <td>Content 3</td>\n",
       "      <td>Alice</td>\n",
       "    </tr>\n",
       "    <tr>\n",
       "      <th>4</th>\n",
       "      <td>Auto Post 1</td>\n",
       "      <td>This ID was auto-generated</td>\n",
       "      <td>Charlie</td>\n",
       "    </tr>\n",
       "    <tr>\n",
       "      <th>5</th>\n",
       "      <td>Auto Post 2</td>\n",
       "      <td>Content</td>\n",
       "      <td>Diana</td>\n",
       "    </tr>\n",
       "    <tr>\n",
       "      <th>6</th>\n",
       "      <td>Auto Post 3</td>\n",
       "      <td>Content</td>\n",
       "      <td>Eve</td>\n",
       "    </tr>\n",
       "  </tbody>\n",
       "</table>\n",
       "</div>"
      ],
      "text/plain": [
       "          title                     content   author\n",
       "id                                                  \n",
       "1    First Post                   Content 1    Alice\n",
       "2   Second Post                   Content 2      Bob\n",
       "3    Third Post                   Content 3    Alice\n",
       "4   Auto Post 1  This ID was auto-generated  Charlie\n",
       "5   Auto Post 2                     Content    Diana\n",
       "6   Auto Post 3                     Content      Eve"
      ]
     },
     "execution_count": 5,
     "metadata": {},
     "output_type": "execute_result"
    }
   ],
   "source": [
    "posts.add_row({'title': 'Auto Post 2', 'content': 'Content', 'author': 'Diana'}, \n",
    "              auto_increment=True)\n",
    "posts.add_row({'title': 'Auto Post 3', 'content': 'Content', 'author': 'Eve'}, \n",
    "              auto_increment=True)\n",
    "\n",
    "posts.push()\n",
    "print(\"✓ Added posts with IDs 5, 6\")\n",
    "\n",
    "posts.to_pandas()"
   ]
  },
  {
   "cell_type": "markdown",
   "metadata": {},
   "source": [
    "## Getting Next PK Value"
   ]
  },
  {
   "cell_type": "code",
   "execution_count": 6,
   "metadata": {
    "execution": {
     "iopub.execute_input": "2025-10-21T14:32:50.479337Z",
     "iopub.status.busy": "2025-10-21T14:32:50.479269Z",
     "iopub.status.idle": "2025-10-21T14:32:50.481335Z",
     "shell.execute_reply": "2025-10-21T14:32:50.480979Z"
    }
   },
   "outputs": [
    {
     "name": "stdout",
     "output_type": "stream",
     "text": [
      "Next available ID: 7\n",
      "If I add 3 more posts, they will have IDs: 7, 8, 9\n"
     ]
    }
   ],
   "source": [
    "next_id = posts.get_next_pk_value()\n",
    "print(f\"Next available ID: {next_id}\")\n",
    "print(f\"If I add 3 more posts, they will have IDs: {next_id}, {next_id+1}, {next_id+2}\")"
   ]
  },
  {
   "cell_type": "markdown",
   "metadata": {},
   "source": [
    "## Mixing Manual and Auto IDs"
   ]
  },
  {
   "cell_type": "markdown",
   "metadata": {},
   "source": [
    "### Add with manual ID"
   ]
  },
  {
   "cell_type": "code",
   "execution_count": 7,
   "metadata": {
    "execution": {
     "iopub.execute_input": "2025-10-21T14:32:50.482222Z",
     "iopub.status.busy": "2025-10-21T14:32:50.482169Z",
     "iopub.status.idle": "2025-10-21T14:32:50.487991Z",
     "shell.execute_reply": "2025-10-21T14:32:50.487654Z"
    }
   },
   "outputs": [
    {
     "name": "stdout",
     "output_type": "stream",
     "text": [
      "✓ Added with ID 100\n"
     ]
    }
   ],
   "source": [
    "posts.add_row({\n",
    "    'id': 100,\n",
    "    'title': 'Manual ID Post',\n",
    "    'content': 'I chose this ID',\n",
    "    'author': 'Frank'\n",
    "})\n",
    "posts.push()\n",
    "\n",
    "print(\"✓ Added with ID 100\")"
   ]
  },
  {
   "cell_type": "markdown",
   "metadata": {},
   "source": [
    "### Next auto-increment continues from max"
   ]
  },
  {
   "cell_type": "code",
   "execution_count": 8,
   "metadata": {
    "execution": {
     "iopub.execute_input": "2025-10-21T14:32:50.488928Z",
     "iopub.status.busy": "2025-10-21T14:32:50.488874Z",
     "iopub.status.idle": "2025-10-21T14:32:50.497163Z",
     "shell.execute_reply": "2025-10-21T14:32:50.496810Z"
    }
   },
   "outputs": [
    {
     "name": "stdout",
     "output_type": "stream",
     "text": [
      "Next ID after manual: 101\n",
      "✓ New auto ID: 101\n"
     ]
    },
    {
     "data": {
      "text/html": [
       "<div>\n",
       "<style scoped>\n",
       "    .dataframe tbody tr th:only-of-type {\n",
       "        vertical-align: middle;\n",
       "    }\n",
       "\n",
       "    .dataframe tbody tr th {\n",
       "        vertical-align: top;\n",
       "    }\n",
       "\n",
       "    .dataframe thead th {\n",
       "        text-align: right;\n",
       "    }\n",
       "</style>\n",
       "<table border=\"1\" class=\"dataframe\">\n",
       "  <thead>\n",
       "    <tr style=\"text-align: right;\">\n",
       "      <th></th>\n",
       "      <th>title</th>\n",
       "      <th>content</th>\n",
       "      <th>author</th>\n",
       "    </tr>\n",
       "    <tr>\n",
       "      <th>id</th>\n",
       "      <th></th>\n",
       "      <th></th>\n",
       "      <th></th>\n",
       "    </tr>\n",
       "  </thead>\n",
       "  <tbody>\n",
       "    <tr>\n",
       "      <th>1</th>\n",
       "      <td>First Post</td>\n",
       "      <td>Content 1</td>\n",
       "      <td>Alice</td>\n",
       "    </tr>\n",
       "    <tr>\n",
       "      <th>2</th>\n",
       "      <td>Second Post</td>\n",
       "      <td>Content 2</td>\n",
       "      <td>Bob</td>\n",
       "    </tr>\n",
       "    <tr>\n",
       "      <th>3</th>\n",
       "      <td>Third Post</td>\n",
       "      <td>Content 3</td>\n",
       "      <td>Alice</td>\n",
       "    </tr>\n",
       "    <tr>\n",
       "      <th>4</th>\n",
       "      <td>Auto Post 1</td>\n",
       "      <td>This ID was auto-generated</td>\n",
       "      <td>Charlie</td>\n",
       "    </tr>\n",
       "    <tr>\n",
       "      <th>5</th>\n",
       "      <td>Auto Post 2</td>\n",
       "      <td>Content</td>\n",
       "      <td>Diana</td>\n",
       "    </tr>\n",
       "    <tr>\n",
       "      <th>6</th>\n",
       "      <td>Auto Post 3</td>\n",
       "      <td>Content</td>\n",
       "      <td>Eve</td>\n",
       "    </tr>\n",
       "    <tr>\n",
       "      <th>100</th>\n",
       "      <td>Manual ID Post</td>\n",
       "      <td>I chose this ID</td>\n",
       "      <td>Frank</td>\n",
       "    </tr>\n",
       "    <tr>\n",
       "      <th>101</th>\n",
       "      <td>After Manual</td>\n",
       "      <td>Content</td>\n",
       "      <td>Grace</td>\n",
       "    </tr>\n",
       "  </tbody>\n",
       "</table>\n",
       "</div>"
      ],
      "text/plain": [
       "              title                     content   author\n",
       "id                                                      \n",
       "1        First Post                   Content 1    Alice\n",
       "2       Second Post                   Content 2      Bob\n",
       "3        Third Post                   Content 3    Alice\n",
       "4       Auto Post 1  This ID was auto-generated  Charlie\n",
       "5       Auto Post 2                     Content    Diana\n",
       "6       Auto Post 3                     Content      Eve\n",
       "100  Manual ID Post             I chose this ID    Frank\n",
       "101    After Manual                     Content    Grace"
      ]
     },
     "execution_count": 8,
     "metadata": {},
     "output_type": "execute_result"
    }
   ],
   "source": [
    "next_id_after = posts.get_next_pk_value()\n",
    "print(f\"Next ID after manual: {next_id_after}\")\n",
    "\n",
    "posts.add_row({'title': 'After Manual', 'content': 'Content', 'author': 'Grace'}, \n",
    "              auto_increment=True)\n",
    "posts.push()\n",
    "\n",
    "print(f\"✓ New auto ID: {posts._data.index.max()}\")\n",
    "posts.to_pandas()"
   ]
  },
  {
   "cell_type": "markdown",
   "metadata": {},
   "source": [
    "## Bulk Insert with Auto-Increment"
   ]
  },
  {
   "cell_type": "code",
   "execution_count": 9,
   "metadata": {
    "execution": {
     "iopub.execute_input": "2025-10-21T14:32:50.498106Z",
     "iopub.status.busy": "2025-10-21T14:32:50.498050Z",
     "iopub.status.idle": "2025-10-21T14:32:50.510977Z",
     "shell.execute_reply": "2025-10-21T14:32:50.510657Z"
    }
   },
   "outputs": [
    {
     "name": "stdout",
     "output_type": "stream",
     "text": [
      "✓ Added 5 posts, total: 13\n",
      "ID range: 1 - 106\n"
     ]
    }
   ],
   "source": [
    "for i in range(5):\n",
    "    posts.add_row({\n",
    "        'title': f'Bulk Post {i+1}',\n",
    "        'content': f'Bulk content {i+1}',\n",
    "        'author': 'System'\n",
    "    }, auto_increment=True)\n",
    "\n",
    "posts.push()\n",
    "print(f\"✓ Added 5 posts, total: {len(posts._data)}\")\n",
    "print(f\"ID range: {posts._data.index.min()} - {posts._data.index.max()}\")"
   ]
  },
  {
   "cell_type": "markdown",
   "metadata": {},
   "source": [
    "## Real-World Example: Blog with Comments"
   ]
  },
  {
   "cell_type": "code",
   "execution_count": 10,
   "metadata": {
    "execution": {
     "iopub.execute_input": "2025-10-21T14:32:50.512048Z",
     "iopub.status.busy": "2025-10-21T14:32:50.511986Z",
     "iopub.status.idle": "2025-10-21T14:32:50.518613Z",
     "shell.execute_reply": "2025-10-21T14:32:50.518229Z"
    }
   },
   "outputs": [
    {
     "name": "stdout",
     "output_type": "stream",
     "text": [
      "✓ Created comments table\n"
     ]
    }
   ],
   "source": [
    "db = pa.DataBase(engine)\n",
    "\n",
    "# Comments table with auto-increment\n",
    "comments_data = pd.DataFrame({\n",
    "    'post_id': [1, 1, 2],\n",
    "    'user': ['Bob', 'Charlie', 'Alice'],\n",
    "    'comment': ['Great post!', 'Thanks for sharing', 'Interesting read']\n",
    "}, index=[1, 2, 3])\n",
    "\n",
    "comments = pa.TableDataFrame('comments', comments_data, 'id', engine, \n",
    "                              auto_increment=True)\n",
    "comments.push()\n",
    "db.db['comments'] = comments\n",
    "\n",
    "print(\"✓ Created comments table\")"
   ]
  },
  {
   "cell_type": "code",
   "execution_count": 11,
   "metadata": {
    "execution": {
     "iopub.execute_input": "2025-10-21T14:32:50.519472Z",
     "iopub.status.busy": "2025-10-21T14:32:50.519420Z",
     "iopub.status.idle": "2025-10-21T14:32:50.526490Z",
     "shell.execute_reply": "2025-10-21T14:32:50.526087Z"
    }
   },
   "outputs": [
    {
     "name": "stdout",
     "output_type": "stream",
     "text": [
      "Comments on post 1:\n"
     ]
    },
    {
     "data": {
      "text/html": [
       "<div>\n",
       "<style scoped>\n",
       "    .dataframe tbody tr th:only-of-type {\n",
       "        vertical-align: middle;\n",
       "    }\n",
       "\n",
       "    .dataframe tbody tr th {\n",
       "        vertical-align: top;\n",
       "    }\n",
       "\n",
       "    .dataframe thead th {\n",
       "        text-align: right;\n",
       "    }\n",
       "</style>\n",
       "<table border=\"1\" class=\"dataframe\">\n",
       "  <thead>\n",
       "    <tr style=\"text-align: right;\">\n",
       "      <th></th>\n",
       "      <th>user</th>\n",
       "      <th>comment</th>\n",
       "    </tr>\n",
       "    <tr>\n",
       "      <th>id</th>\n",
       "      <th></th>\n",
       "      <th></th>\n",
       "    </tr>\n",
       "  </thead>\n",
       "  <tbody>\n",
       "    <tr>\n",
       "      <th>1</th>\n",
       "      <td>Bob</td>\n",
       "      <td>Great post!</td>\n",
       "    </tr>\n",
       "    <tr>\n",
       "      <th>2</th>\n",
       "      <td>Charlie</td>\n",
       "      <td>Thanks for sharing</td>\n",
       "    </tr>\n",
       "    <tr>\n",
       "      <th>4</th>\n",
       "      <td>Diana</td>\n",
       "      <td>Love this!</td>\n",
       "    </tr>\n",
       "  </tbody>\n",
       "</table>\n",
       "</div>"
      ],
      "text/plain": [
       "       user             comment\n",
       "id                             \n",
       "1       Bob         Great post!\n",
       "2   Charlie  Thanks for sharing\n",
       "4     Diana          Love this!"
      ]
     },
     "execution_count": 11,
     "metadata": {},
     "output_type": "execute_result"
    }
   ],
   "source": [
    "# Add new comment with auto ID\n",
    "comments.add_row({\n",
    "    'post_id': 1,\n",
    "    'user': 'Diana',\n",
    "    'comment': 'Love this!'\n",
    "}, auto_increment=True)\n",
    "\n",
    "comments.push()\n",
    "\n",
    "print(\"Comments on post 1:\")\n",
    "post_1_comments = comments._data[comments._data['post_id'] == 1]\n",
    "post_1_comments[['user', 'comment']]"
   ]
  },
  {
   "cell_type": "markdown",
   "metadata": {},
   "source": [
    "## Custom ID Sequences\n",
    "Start from a specific ID"
   ]
  },
  {
   "cell_type": "code",
   "execution_count": 12,
   "metadata": {
    "execution": {
     "iopub.execute_input": "2025-10-21T14:32:50.527581Z",
     "iopub.status.busy": "2025-10-21T14:32:50.527508Z",
     "iopub.status.idle": "2025-10-21T14:32:50.533963Z",
     "shell.execute_reply": "2025-10-21T14:32:50.533605Z"
    }
   },
   "outputs": [
    {
     "name": "stdout",
     "output_type": "stream",
     "text": [
      "✓ Created products with IDs starting at 1000\n"
     ]
    },
    {
     "data": {
      "text/html": [
       "<div>\n",
       "<style scoped>\n",
       "    .dataframe tbody tr th:only-of-type {\n",
       "        vertical-align: middle;\n",
       "    }\n",
       "\n",
       "    .dataframe tbody tr th {\n",
       "        vertical-align: top;\n",
       "    }\n",
       "\n",
       "    .dataframe thead th {\n",
       "        text-align: right;\n",
       "    }\n",
       "</style>\n",
       "<table border=\"1\" class=\"dataframe\">\n",
       "  <thead>\n",
       "    <tr style=\"text-align: right;\">\n",
       "      <th></th>\n",
       "      <th>name</th>\n",
       "      <th>price</th>\n",
       "    </tr>\n",
       "    <tr>\n",
       "      <th>id</th>\n",
       "      <th></th>\n",
       "      <th></th>\n",
       "    </tr>\n",
       "  </thead>\n",
       "  <tbody>\n",
       "    <tr>\n",
       "      <th>1000</th>\n",
       "      <td>Widget</td>\n",
       "      <td>9.99</td>\n",
       "    </tr>\n",
       "    <tr>\n",
       "      <th>1001</th>\n",
       "      <td>Gadget</td>\n",
       "      <td>19.99</td>\n",
       "    </tr>\n",
       "    <tr>\n",
       "      <th>1002</th>\n",
       "      <td>Doohickey</td>\n",
       "      <td>29.99</td>\n",
       "    </tr>\n",
       "  </tbody>\n",
       "</table>\n",
       "</div>"
      ],
      "text/plain": [
       "           name  price\n",
       "id                    \n",
       "1000     Widget   9.99\n",
       "1001     Gadget  19.99\n",
       "1002  Doohickey  29.99"
      ]
     },
     "execution_count": 12,
     "metadata": {},
     "output_type": "execute_result"
    }
   ],
   "source": [
    "products_data = pd.DataFrame({\n",
    "    'name': ['Widget', 'Gadget', 'Doohickey'],\n",
    "    'price': [9.99, 19.99, 29.99]\n",
    "}, index=[1000, 1001, 1002])  # Start from 1000\n",
    "\n",
    "products = pa.TableDataFrame('products', products_data, 'id', engine, \n",
    "                              auto_increment=True)\n",
    "products.push()\n",
    "\n",
    "print(\"✓ Created products with IDs starting at 1000\")\n",
    "products.to_pandas()"
   ]
  },
  {
   "cell_type": "code",
   "execution_count": 13,
   "metadata": {
    "execution": {
     "iopub.execute_input": "2025-10-21T14:32:50.534818Z",
     "iopub.status.busy": "2025-10-21T14:32:50.534747Z",
     "iopub.status.idle": "2025-10-21T14:32:50.539407Z",
     "shell.execute_reply": "2025-10-21T14:32:50.539080Z"
    }
   },
   "outputs": [
    {
     "name": "stdout",
     "output_type": "stream",
     "text": [
      "New product ID: 1003\n"
     ]
    }
   ],
   "source": [
    "# Auto-increment continues from max\n",
    "products.add_row({'name': 'Thingamajig', 'price': 39.99}, auto_increment=True)\n",
    "products.push()\n",
    "\n",
    "print(f\"New product ID: {products._data.index.max()}\")"
   ]
  },
  {
   "cell_type": "markdown",
   "metadata": {},
   "source": [
    "## Error Handling"
   ]
  },
  {
   "cell_type": "markdown",
   "metadata": {},
   "source": [
    "### Try to add duplicate ID"
   ]
  },
  {
   "cell_type": "code",
   "execution_count": 14,
   "metadata": {
    "execution": {
     "iopub.execute_input": "2025-10-21T14:32:50.540370Z",
     "iopub.status.busy": "2025-10-21T14:32:50.540321Z",
     "iopub.status.idle": "2025-10-21T14:32:50.542047Z",
     "shell.execute_reply": "2025-10-21T14:32:50.541673Z"
    }
   },
   "outputs": [
    {
     "name": "stdout",
     "output_type": "stream",
     "text": [
      "✓ Correctly prevented: DataValidationError\n"
     ]
    }
   ],
   "source": [
    "try:\n",
    "    posts.add_row({\n",
    "        'id': 1,  # Already exists\n",
    "        'title': 'Duplicate',\n",
    "        'content': 'Should fail',\n",
    "        'author': 'Test'\n",
    "    })\n",
    "    posts.push()\n",
    "except Exception as e:\n",
    "    print(f\"✓ Correctly prevented: {type(e).__name__}\")"
   ]
  },
  {
   "cell_type": "markdown",
   "metadata": {},
   "source": [
    "### Adding without auto_increment flag"
   ]
  },
  {
   "cell_type": "code",
   "execution_count": 15,
   "metadata": {
    "execution": {
     "iopub.execute_input": "2025-10-21T14:32:50.543010Z",
     "iopub.status.busy": "2025-10-21T14:32:50.542951Z",
     "iopub.status.idle": "2025-10-21T14:32:50.544810Z",
     "shell.execute_reply": "2025-10-21T14:32:50.544417Z"
    }
   },
   "outputs": [
    {
     "name": "stdout",
     "output_type": "stream",
     "text": [
      "✓ Correctly failed: DataValidationError\n"
     ]
    }
   ],
   "source": [
    "try:\n",
    "    posts.add_row({\n",
    "        'title': 'No ID provided',\n",
    "        'content': 'Missing ID',\n",
    "        'author': 'Test'\n",
    "    })  # Note: no auto_increment=True\n",
    "    posts.push()\n",
    "except Exception as e:\n",
    "    print(f\"✓ Correctly failed: {type(e).__name__}\")"
   ]
  },
  {
   "cell_type": "markdown",
   "metadata": {},
   "source": [
    "## Auto-Increment Requirements\n",
    "\n",
    "Auto-increment requires:\n",
    "- ✓ Single-column primary key (not composite)\n",
    "- ✓ Integer-type primary key\n",
    "- ✓ `auto_increment=True` in TableDataFrame constructor\n",
    "- ✓ `auto_increment=True` in add_row() call\n",
    "\n",
    "❌ Won't work with composite keys"
   ]
  },
  {
   "cell_type": "markdown",
   "metadata": {},
   "source": [
    "## Best Practices\n",
    "\n",
    "- ✓ Use auto-increment for user-generated content (posts, comments, orders)\n",
    "- ✓ Use manual IDs for reference data (countries, categories)\n",
    "- ✓ Check `get_next_pk_value()` when you need to know the next ID\n",
    "- ✓ Don't mix auto and manual IDs unless necessary\n",
    "- ✓ Always use `auto_increment=True` flag in add_row()"
   ]
  },
  {
   "cell_type": "markdown",
   "metadata": {},
   "source": [
    "## Summary\n",
    "\n",
    "**Key Takeaways:**\n",
    "- Auto-increment generates IDs automatically\n",
    "- Set `auto_increment=True` in TableDataFrame constructor\n",
    "- Use `auto_increment=True` in add_row() call\n",
    "- `get_next_pk_value()` returns next available ID\n",
    "- Can mix manual and auto IDs (auto continues from max)\n",
    "- Only works with single-column integer primary keys"
   ]
  }
 ],
 "metadata": {
  "kernelspec": {
   "display_name": "Python 3",
   "language": "python",
   "name": "python3"
  },
  "language_info": {
   "codemirror_mode": {
    "name": "ipython",
    "version": 3
   },
   "file_extension": ".py",
   "mimetype": "text/x-python",
   "name": "python",
   "nbconvert_exporter": "python",
   "pygments_lexer": "ipython3",
   "version": "3.11.13"
  }
 },
 "nbformat": 4,
 "nbformat_minor": 4
}
