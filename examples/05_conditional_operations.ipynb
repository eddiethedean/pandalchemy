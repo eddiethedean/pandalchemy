{
 "cells": [
  {
   "cell_type": "markdown",
   "metadata": {},
   "source": [
    "# 05_conditional_operations\n",
    "\n",
    "Conditional Updates and Deletes\n",
    "\n",
    "This example demonstrates bulk conditional operations:\n",
    "- update_where() for conditional updates\n",
    "- delete_where() for conditional deletes\n",
    "- Working with pandas boolean masks\n",
    "- Bulk data transformations"
   ]
  },
  {
   "cell_type": "code",
   "execution_count": 1,
   "metadata": {
    "execution": {
     "iopub.execute_input": "2025-10-21T14:32:52.766976Z",
     "iopub.status.busy": "2025-10-21T14:32:52.766845Z",
     "iopub.status.idle": "2025-10-21T14:32:53.135011Z",
     "shell.execute_reply": "2025-10-21T14:32:53.134505Z"
    }
   },
   "outputs": [],
   "source": [
    "import pandas as pd\n",
    "from sqlalchemy import create_engine\n",
    "import pandalchemy as pa"
   ]
  },
  {
   "cell_type": "code",
   "execution_count": 2,
   "metadata": {
    "execution": {
     "iopub.execute_input": "2025-10-21T14:32:53.136241Z",
     "iopub.status.busy": "2025-10-21T14:32:53.136145Z",
     "iopub.status.idle": "2025-10-21T14:32:53.141106Z",
     "shell.execute_reply": "2025-10-21T14:32:53.140659Z"
    }
   },
   "outputs": [],
   "source": [
    "# Setup\n",
    "engine = create_engine('sqlite:///:memory:')\n",
    "db = pa.DataBase(engine)"
   ]
  },
  {
   "cell_type": "code",
   "execution_count": 3,
   "metadata": {
    "execution": {
     "iopub.execute_input": "2025-10-21T14:32:53.142245Z",
     "iopub.status.busy": "2025-10-21T14:32:53.142168Z",
     "iopub.status.idle": "2025-10-21T14:32:53.143952Z",
     "shell.execute_reply": "2025-10-21T14:32:53.143690Z"
    }
   },
   "outputs": [
    {
     "name": "stdout",
     "output_type": "stream",
     "text": [
      "Conditional Operations Example\n"
     ]
    }
   ],
   "source": [
    "print(\"Conditional Operations Example\")"
   ]
  },
  {
   "cell_type": "code",
   "execution_count": 4,
   "metadata": {
    "execution": {
     "iopub.execute_input": "2025-10-21T14:32:53.159220Z",
     "iopub.status.busy": "2025-10-21T14:32:53.159125Z",
     "iopub.status.idle": "2025-10-21T14:32:53.167641Z",
     "shell.execute_reply": "2025-10-21T14:32:53.167194Z"
    }
   },
   "outputs": [],
   "source": [
    "# Create sample employee data\n",
    "employees_data = pd.DataFrame({\n",
    "    'name': ['Alice', 'Bob', 'Charlie', 'Diana', 'Eve', 'Frank', 'Grace', 'Henry'],\n",
    "    'department': ['Engineering', 'Sales', 'Engineering', 'Marketing', \n",
    "                   'Sales', 'Engineering', 'Marketing', 'Sales'],\n",
    "    'salary': [80000, 60000, 75000, 70000, 62000, 85000, 72000, 58000],\n",
    "    'years': [5, 3, 4, 2, 3, 6, 2, 1],\n",
    "    'performance': ['excellent', 'good', 'excellent', 'good', \n",
    "                    'average', 'excellent', 'good', 'average']\n",
    "}, index=range(1, 9))\n",
    "\n",
    "employees = db.create_table('employees', employees_data, primary_key='id')"
   ]
  },
  {
   "cell_type": "markdown",
   "metadata": {},
   "source": [
    "### 1. Initial Employee Data"
   ]
  },
  {
   "cell_type": "code",
   "execution_count": 5,
   "metadata": {
    "execution": {
     "iopub.execute_input": "2025-10-21T14:32:53.168693Z",
     "iopub.status.busy": "2025-10-21T14:32:53.168639Z",
     "iopub.status.idle": "2025-10-21T14:32:53.171003Z",
     "shell.execute_reply": "2025-10-21T14:32:53.170728Z"
    }
   },
   "outputs": [
    {
     "name": "stdout",
     "output_type": "stream",
     "text": [
      "       name   department  salary  years performance\n",
      "id                                                 \n",
      "1     Alice  Engineering   80000      5   excellent\n",
      "2       Bob        Sales   60000      3        good\n",
      "3   Charlie  Engineering   75000      4   excellent\n",
      "4     Diana    Marketing   70000      2        good\n",
      "5       Eve        Sales   62000      3     average\n",
      "6     Frank  Engineering   85000      6   excellent\n",
      "7     Grace    Marketing   72000      2        good\n",
      "8     Henry        Sales   58000      1     average\n"
     ]
    }
   ],
   "source": [
    "print(employees.to_pandas())"
   ]
  },
  {
   "cell_type": "markdown",
   "metadata": {},
   "source": [
    "### 2. update_where() - Conditional Updates"
   ]
  },
  {
   "cell_type": "code",
   "execution_count": 6,
   "metadata": {
    "execution": {
     "iopub.execute_input": "2025-10-21T14:32:53.171982Z",
     "iopub.status.busy": "2025-10-21T14:32:53.171932Z",
     "iopub.status.idle": "2025-10-21T14:32:53.173236Z",
     "shell.execute_reply": "2025-10-21T14:32:53.172956Z"
    }
   },
   "outputs": [],
   "source": [
    "# Simple condition update"
   ]
  },
  {
   "cell_type": "markdown",
   "metadata": {},
   "source": [
    "### \\n   a) Give 10% raise to excellent performers:"
   ]
  },
  {
   "cell_type": "code",
   "execution_count": 7,
   "metadata": {
    "execution": {
     "iopub.execute_input": "2025-10-21T14:32:53.174064Z",
     "iopub.status.busy": "2025-10-21T14:32:53.174011Z",
     "iopub.status.idle": "2025-10-21T14:32:53.178734Z",
     "shell.execute_reply": "2025-10-21T14:32:53.178301Z"
    }
   },
   "outputs": [
    {
     "name": "stdout",
     "output_type": "stream",
     "text": [
      "✓ Updated 3 employees\n"
     ]
    },
    {
     "name": "stderr",
     "output_type": "stream",
     "text": [
      "/Users/odosmatthews/Documents/coding/pandalchemy/src/pandalchemy/tracked_dataframe.py:1108: FutureWarning: Setting an item of incompatible dtype is deprecated and will raise an error in a future version of pandas. Value '[88000. 82500. 93500.]' has dtype incompatible with int64, please explicitly cast to a compatible dtype first.\n",
      "  self._data.loc[condition, col] = self._data.loc[condition, col].apply(value)\n"
     ]
    }
   ],
   "source": [
    "condition = employees._data['performance'] == 'excellent'\n",
    "employees.update_where(condition, {\n",
    "    'salary': lambda x: x * 1.10\n",
    "})\n",
    "\n",
    "print(f\"✓ Updated {condition.sum()} employees\")\n",
    "\n",
    "# Multiple field update with dict"
   ]
  },
  {
   "cell_type": "markdown",
   "metadata": {},
   "source": [
    "### \\n   b) Update Sales department info:"
   ]
  },
  {
   "cell_type": "code",
   "execution_count": 8,
   "metadata": {
    "execution": {
     "iopub.execute_input": "2025-10-21T14:32:53.179715Z",
     "iopub.status.busy": "2025-10-21T14:32:53.179661Z",
     "iopub.status.idle": "2025-10-21T14:32:53.189616Z",
     "shell.execute_reply": "2025-10-21T14:32:53.189248Z"
    }
   },
   "outputs": [
    {
     "name": "stdout",
     "output_type": "stream",
     "text": [
      "      ✓ Renamed department for 3 employees\n",
      "\n",
      "   After updates:\n",
      "       name            department  salary performance\n",
      "id                                                   \n",
      "1     Alice           Engineering   88000   excellent\n",
      "2       Bob  Business Development   60000        good\n",
      "3   Charlie           Engineering   82500   excellent\n",
      "4     Diana             Marketing   70000        good\n",
      "5       Eve  Business Development   62000     average\n",
      "6     Frank           Engineering   93500   excellent\n",
      "7     Grace             Marketing   72000        good\n",
      "8     Henry  Business Development   58000     average\n"
     ]
    }
   ],
   "source": [
    "sales_condition = employees._data['department'] == 'Sales'\n",
    "employees.update_where(sales_condition, {\n",
    "    'department': 'Business Development'\n",
    "})\n",
    "\n",
    "print(f\"      ✓ Renamed department for {sales_condition.sum()} employees\")\n",
    "\n",
    "employees.push()\n",
    "print(\"\\n   After updates:\")\n",
    "print(employees.to_pandas()[['name', 'department', 'salary', 'performance']])"
   ]
  },
  {
   "cell_type": "markdown",
   "metadata": {},
   "source": [
    "### 3. Complex Conditions"
   ]
  },
  {
   "cell_type": "code",
   "execution_count": 9,
   "metadata": {
    "execution": {
     "iopub.execute_input": "2025-10-21T14:32:53.190530Z",
     "iopub.status.busy": "2025-10-21T14:32:53.190480Z",
     "iopub.status.idle": "2025-10-21T14:32:53.191844Z",
     "shell.execute_reply": "2025-10-21T14:32:53.191504Z"
    }
   },
   "outputs": [],
   "source": [
    "# Multiple conditions with &, |"
   ]
  },
  {
   "cell_type": "markdown",
   "metadata": {},
   "source": [
    "### a) Bonus for senior excellent performers"
   ]
  },
  {
   "cell_type": "code",
   "execution_count": 10,
   "metadata": {
    "execution": {
     "iopub.execute_input": "2025-10-21T14:32:53.192786Z",
     "iopub.status.busy": "2025-10-21T14:32:53.192708Z",
     "iopub.status.idle": "2025-10-21T14:32:53.203726Z",
     "shell.execute_reply": "2025-10-21T14:32:53.203480Z"
    }
   },
   "outputs": [
    {
     "name": "stdout",
     "output_type": "stream",
     "text": [
      "✓ 2 employees get $5000 bonus\n"
     ]
    }
   ],
   "source": [
    "# First add bonus column with default\n",
    "employees.add_column_with_default('bonus', 0)\n",
    "employees.push()\n",
    "employees.pull()\n",
    "\n",
    "# Now update bonuses\n",
    "senior_excellent = (employees._data['years'] >= 5) & \\\n",
    "                   (employees._data['performance'] == 'excellent')\n",
    "\n",
    "employees.update_where(senior_excellent, {'bonus': 5000})\n",
    "\n",
    "print(f\"✓ {senior_excellent.sum()} employees get $5000 bonus\")\n",
    "\n",
    "# Salary-based condition"
   ]
  },
  {
   "cell_type": "markdown",
   "metadata": {},
   "source": [
    "### \\n   b) Adjust low salaries:"
   ]
  },
  {
   "cell_type": "code",
   "execution_count": 11,
   "metadata": {
    "execution": {
     "iopub.execute_input": "2025-10-21T14:32:53.204854Z",
     "iopub.status.busy": "2025-10-21T14:32:53.204804Z",
     "iopub.status.idle": "2025-10-21T14:32:53.214458Z",
     "shell.execute_reply": "2025-10-21T14:32:53.214053Z"
    }
   },
   "outputs": [
    {
     "name": "stdout",
     "output_type": "stream",
     "text": [
      "✓ Adjusted 3 salaries to minimum $65,000\n",
      "\n",
      "   Current state:\n",
      "       name  salary  years  bonus\n",
      "id                               \n",
      "1     Alice   88000      5   5000\n",
      "2       Bob   65000      3      0\n",
      "3   Charlie   82500      4      0\n",
      "4     Diana   70000      2      0\n",
      "5       Eve   65100      3      0\n",
      "6     Frank   93500      6   5000\n",
      "7     Grace   72000      2      0\n",
      "8     Henry   65000      1      0\n"
     ]
    }
   ],
   "source": [
    "low_salary = employees._data['salary'] < 65000\n",
    "employees.update_where(low_salary, {\n",
    "    'salary': lambda x: max(x * 1.05, 65000)\n",
    "})\n",
    "\n",
    "print(f\"✓ Adjusted {low_salary.sum()} salaries to minimum $65,000\")\n",
    "\n",
    "employees.push()\n",
    "print(\"\\n   Current state:\")\n",
    "print(employees.to_pandas()[['name', 'salary', 'years', 'bonus']])"
   ]
  },
  {
   "cell_type": "markdown",
   "metadata": {},
   "source": [
    "### 4. delete_where() - Conditional Deletes"
   ]
  },
  {
   "cell_type": "code",
   "execution_count": 12,
   "metadata": {
    "execution": {
     "iopub.execute_input": "2025-10-21T14:32:53.215503Z",
     "iopub.status.busy": "2025-10-21T14:32:53.215453Z",
     "iopub.status.idle": "2025-10-21T14:32:53.227737Z",
     "shell.execute_reply": "2025-10-21T14:32:53.227383Z"
    }
   },
   "outputs": [],
   "source": [
    "# Create temp employee data\n",
    "temp_data = pd.DataFrame({\n",
    "    'name': ['Temp1', 'Temp2', 'Temp3'],\n",
    "    'department': ['Engineering', 'Marketing', 'Engineering'],\n",
    "    'salary': [45000, 42000, 48000],\n",
    "    'years': [0.5, 0.3, 0.8],\n",
    "    'performance': ['average', 'average', 'good'],\n",
    "    'bonus': [0, 0, 0]\n",
    "}, index=[20, 21, 22])\n",
    "\n",
    "# Add temp employees\n",
    "for idx, row in temp_data.iterrows():\n",
    "    row_dict = row.to_dict()\n",
    "    row_dict['id'] = idx  # Add the index as id\n",
    "    employees.add_row(row_dict)\n",
    "\n",
    "employees.push()"
   ]
  },
  {
   "cell_type": "markdown",
   "metadata": {},
   "source": [
    "### \\n   a) Added temporary employees:"
   ]
  },
  {
   "cell_type": "code",
   "execution_count": 13,
   "metadata": {
    "execution": {
     "iopub.execute_input": "2025-10-21T14:32:53.229208Z",
     "iopub.status.busy": "2025-10-21T14:32:53.229127Z",
     "iopub.status.idle": "2025-10-21T14:32:53.230885Z",
     "shell.execute_reply": "2025-10-21T14:32:53.230612Z"
    }
   },
   "outputs": [
    {
     "name": "stdout",
     "output_type": "stream",
     "text": [
      "      Total employees: 11\n"
     ]
    }
   ],
   "source": [
    "print(f\"      Total employees: {len(employees._data)}\")\n",
    "\n",
    "# Delete based on condition"
   ]
  },
  {
   "cell_type": "markdown",
   "metadata": {},
   "source": [
    "### \\n   b) Remove employees with < 1 year experience:"
   ]
  },
  {
   "cell_type": "code",
   "execution_count": 14,
   "metadata": {
    "execution": {
     "iopub.execute_input": "2025-10-21T14:32:53.231870Z",
     "iopub.status.busy": "2025-10-21T14:32:53.231821Z",
     "iopub.status.idle": "2025-10-21T14:32:53.240155Z",
     "shell.execute_reply": "2025-10-21T14:32:53.239792Z"
    }
   },
   "outputs": [
    {
     "name": "stdout",
     "output_type": "stream",
     "text": [
      "      ✓ Deleted 3 employees\n",
      "      Remaining employees: 8\n"
     ]
    }
   ],
   "source": [
    "deleted_count = employees.delete_where(employees._data['years'] < 1)\n",
    "\n",
    "print(f\"      ✓ Deleted {deleted_count} employees\")\n",
    "\n",
    "employees.push()\n",
    "print(f\"      Remaining employees: {len(employees._data)}\")"
   ]
  },
  {
   "cell_type": "markdown",
   "metadata": {},
   "source": [
    "### 5. Combining Conditions with Boolean Logic"
   ]
  },
  {
   "cell_type": "code",
   "execution_count": 15,
   "metadata": {
    "execution": {
     "iopub.execute_input": "2025-10-21T14:32:53.241061Z",
     "iopub.status.busy": "2025-10-21T14:32:53.241014Z",
     "iopub.status.idle": "2025-10-21T14:32:53.242396Z",
     "shell.execute_reply": "2025-10-21T14:32:53.242046Z"
    }
   },
   "outputs": [],
   "source": [
    "# AND condition"
   ]
  },
  {
   "cell_type": "markdown",
   "metadata": {},
   "source": [
    "### \\n   a) Update high performers in Engineering:"
   ]
  },
  {
   "cell_type": "code",
   "execution_count": 16,
   "metadata": {
    "execution": {
     "iopub.execute_input": "2025-10-21T14:32:53.243330Z",
     "iopub.status.busy": "2025-10-21T14:32:53.243270Z",
     "iopub.status.idle": "2025-10-21T14:32:53.247451Z",
     "shell.execute_reply": "2025-10-21T14:32:53.247130Z"
    }
   },
   "outputs": [
    {
     "name": "stdout",
     "output_type": "stream",
     "text": [
      "✓ 3 engineers got extra $3000 bonus\n"
     ]
    }
   ],
   "source": [
    "condition_and = (employees._data['department'] == 'Engineering') & \\\n",
    "                (employees._data['performance'] == 'excellent')\n",
    "\n",
    "employees.update_where(condition_and, {\n",
    "    'bonus': lambda x: x + 3000\n",
    "})\n",
    "print(f\"✓ {condition_and.sum()} engineers got extra $3000 bonus\")\n",
    "\n",
    "# OR condition"
   ]
  },
  {
   "cell_type": "markdown",
   "metadata": {},
   "source": [
    "### \\n   b) Flag employees needing review:"
   ]
  },
  {
   "cell_type": "code",
   "execution_count": 17,
   "metadata": {
    "execution": {
     "iopub.execute_input": "2025-10-21T14:32:53.248269Z",
     "iopub.status.busy": "2025-10-21T14:32:53.248223Z",
     "iopub.status.idle": "2025-10-21T14:32:53.251709Z",
     "shell.execute_reply": "2025-10-21T14:32:53.251378Z"
    }
   },
   "outputs": [
    {
     "name": "stdout",
     "output_type": "stream",
     "text": [
      "      ✓ 2 employees flagged for review\n"
     ]
    }
   ],
   "source": [
    "employees._data['needs_review'] = False\n",
    "condition_or = (employees._data['performance'] == 'average') | \\\n",
    "               (employees._data['years'] < 2)\n",
    "\n",
    "employees.update_where(condition_or, {'needs_review': True})\n",
    "print(f\"      ✓ {condition_or.sum()} employees flagged for review\")\n",
    "\n",
    "# NOT condition"
   ]
  },
  {
   "cell_type": "markdown",
   "metadata": {},
   "source": [
    "### \\n   c) Update everyone except Marketing:"
   ]
  },
  {
   "cell_type": "code",
   "execution_count": 18,
   "metadata": {
    "execution": {
     "iopub.execute_input": "2025-10-21T14:32:53.252548Z",
     "iopub.status.busy": "2025-10-21T14:32:53.252499Z",
     "iopub.status.idle": "2025-10-21T14:32:53.261021Z",
     "shell.execute_reply": "2025-10-21T14:32:53.260629Z"
    }
   },
   "outputs": [
    {
     "name": "stdout",
     "output_type": "stream",
     "text": [
      "✓ 6 employees got $1000 raise\n"
     ]
    }
   ],
   "source": [
    "not_marketing = ~(employees._data['department'] == 'Marketing')\n",
    "employees.update_where(not_marketing, {\n",
    "    'salary': lambda x: x + 1000  # $1000 across-the-board raise\n",
    "})\n",
    "print(f\"✓ {not_marketing.sum()} employees got $1000 raise\")\n",
    "\n",
    "employees.push()"
   ]
  },
  {
   "cell_type": "markdown",
   "metadata": {},
   "source": [
    "### 6. Real-World Example: Customer Status Updates"
   ]
  },
  {
   "cell_type": "code",
   "execution_count": 19,
   "metadata": {
    "execution": {
     "iopub.execute_input": "2025-10-21T14:32:53.262026Z",
     "iopub.status.busy": "2025-10-21T14:32:53.261971Z",
     "iopub.status.idle": "2025-10-21T14:32:53.269420Z",
     "shell.execute_reply": "2025-10-21T14:32:53.269088Z"
    }
   },
   "outputs": [
    {
     "name": "stdout",
     "output_type": "stream",
     "text": [
      "\n",
      "   Initial customers:\n",
      "         name  revenue signup_date  status support_tier\n",
      "id                                                     \n",
      "1   Acme Corp   500000  2023-01-15  active     standard\n",
      "2   TechStart   150000  2023-06-20  active     standard\n",
      "3      DataCo   800000  2022-12-01  active     standard\n",
      "4    SmallBiz    50000  2024-01-10   trial        basic\n",
      "5    MegaCorp  1200000  2022-08-15  active     standard\n"
     ]
    }
   ],
   "source": [
    "customers_data = pd.DataFrame({\n",
    "    'name': ['Acme Corp', 'TechStart', 'DataCo', 'SmallBiz', 'MegaCorp'],\n",
    "    'revenue': [500000, 150000, 800000, 50000, 1200000],\n",
    "    'signup_date': ['2023-01-15', '2023-06-20', '2022-12-01', \n",
    "                    '2024-01-10', '2022-08-15'],\n",
    "    'status': ['active', 'active', 'active', 'trial', 'active'],\n",
    "    'support_tier': ['standard', 'standard', 'standard', 'basic', 'standard']\n",
    "}, index=range(1, 6))\n",
    "\n",
    "customers = db.create_table('customers', customers_data, primary_key='id')\n",
    "\n",
    "print(\"\\n   Initial customers:\")\n",
    "print(customers.to_pandas())\n",
    "\n",
    "# Upgrade high-value customers"
   ]
  },
  {
   "cell_type": "markdown",
   "metadata": {},
   "source": [
    "### \\n   a) Upgrade high-revenue customers to premium:"
   ]
  },
  {
   "cell_type": "code",
   "execution_count": 20,
   "metadata": {
    "execution": {
     "iopub.execute_input": "2025-10-21T14:32:53.270328Z",
     "iopub.status.busy": "2025-10-21T14:32:53.270275Z",
     "iopub.status.idle": "2025-10-21T14:32:53.273064Z",
     "shell.execute_reply": "2025-10-21T14:32:53.272761Z"
    }
   },
   "outputs": [
    {
     "name": "stdout",
     "output_type": "stream",
     "text": [
      "      ✓ 2 customers upgraded\n"
     ]
    }
   ],
   "source": [
    "high_value = customers._data['revenue'] > 500000\n",
    "customers.update_where(high_value, {'support_tier': 'premium'})\n",
    "print(f\"      ✓ {high_value.sum()} customers upgraded\")\n",
    "\n",
    "# Convert trials to active"
   ]
  },
  {
   "cell_type": "markdown",
   "metadata": {},
   "source": [
    "### \\n   b) Convert trial to paid after certain revenue:"
   ]
  },
  {
   "cell_type": "code",
   "execution_count": 21,
   "metadata": {
    "execution": {
     "iopub.execute_input": "2025-10-21T14:32:53.274112Z",
     "iopub.status.busy": "2025-10-21T14:32:53.274063Z",
     "iopub.status.idle": "2025-10-21T14:32:53.277015Z",
     "shell.execute_reply": "2025-10-21T14:32:53.276732Z"
    }
   },
   "outputs": [
    {
     "name": "stdout",
     "output_type": "stream",
     "text": [
      "      ✓ 1 trials converted\n"
     ]
    }
   ],
   "source": [
    "trial_conversion = (customers._data['status'] == 'trial') & \\\n",
    "                   (customers._data['revenue'] > 40000)\n",
    "customers.update_where(trial_conversion, {'status': 'active'})\n",
    "print(f\"      ✓ {trial_conversion.sum()} trials converted\")\n",
    "\n",
    "# Remove inactive small accounts"
   ]
  },
  {
   "cell_type": "markdown",
   "metadata": {},
   "source": [
    "### \\n   c) Remove low-value inactive accounts:"
   ]
  },
  {
   "cell_type": "code",
   "execution_count": 22,
   "metadata": {
    "execution": {
     "iopub.execute_input": "2025-10-21T14:32:53.278072Z",
     "iopub.status.busy": "2025-10-21T14:32:53.278015Z",
     "iopub.status.idle": "2025-10-21T14:32:53.285565Z",
     "shell.execute_reply": "2025-10-21T14:32:53.285320Z"
    }
   },
   "outputs": [
    {
     "name": "stdout",
     "output_type": "stream",
     "text": [
      "      ✓ 0 accounts removed\n",
      "\n",
      "   Final customers:\n",
      "         name  revenue signup_date  status support_tier\n",
      "id                                                     \n",
      "1   Acme Corp   500000  2023-01-15  active     standard\n",
      "2   TechStart   150000  2023-06-20  active     standard\n",
      "3      DataCo   800000  2022-12-01  active      premium\n",
      "4    SmallBiz    50000  2024-01-10  active        basic\n",
      "5    MegaCorp  1200000  2022-08-15  active      premium\n"
     ]
    }
   ],
   "source": [
    "to_remove = (customers._data['revenue'] < 100000) & \\\n",
    "            (customers._data['status'] != 'active')\n",
    "removed = customers.delete_where(to_remove)\n",
    "print(f\"      ✓ {removed} accounts removed\")\n",
    "\n",
    "customers.push()\n",
    "print(\"\\n   Final customers:\")\n",
    "print(customers.to_pandas())"
   ]
  },
  {
   "cell_type": "markdown",
   "metadata": {},
   "source": [
    "### 7. Batch Updates with Calculations"
   ]
  },
  {
   "cell_type": "code",
   "execution_count": 23,
   "metadata": {
    "execution": {
     "iopub.execute_input": "2025-10-21T14:32:53.286537Z",
     "iopub.status.busy": "2025-10-21T14:32:53.286489Z",
     "iopub.status.idle": "2025-10-21T14:32:53.295270Z",
     "shell.execute_reply": "2025-10-21T14:32:53.294864Z"
    }
   },
   "outputs": [
    {
     "name": "stdout",
     "output_type": "stream",
     "text": [
      "\n",
      "   Initial products:\n",
      "           name  price category  stock\n",
      "id                                    \n",
      "1        Widget   9.99        A    100\n",
      "2        Gadget  19.99        B     50\n",
      "3     Doohickey  29.99        A     75\n",
      "4   Thingamajig  39.99        C     25\n",
      "5       Whatsit  14.99        B    200\n"
     ]
    }
   ],
   "source": [
    "# Price adjustment example\n",
    "products_data = pd.DataFrame({\n",
    "    'name': ['Widget', 'Gadget', 'Doohickey', 'Thingamajig', 'Whatsit'],\n",
    "    'price': [9.99, 19.99, 29.99, 39.99, 14.99],\n",
    "    'category': ['A', 'B', 'A', 'C', 'B'],\n",
    "    'stock': [100, 50, 75, 25, 200]\n",
    "}, index=range(1, 6))\n",
    "\n",
    "products = db.create_table('products', products_data, primary_key='id')\n",
    "\n",
    "print(\"\\n   Initial products:\")\n",
    "print(products.to_pandas())\n",
    "\n",
    "# Discount low-stock items"
   ]
  },
  {
   "cell_type": "markdown",
   "metadata": {},
   "source": [
    "### \\n   a) 10% discount on low-stock items:"
   ]
  },
  {
   "cell_type": "code",
   "execution_count": 24,
   "metadata": {
    "execution": {
     "iopub.execute_input": "2025-10-21T14:32:53.296335Z",
     "iopub.status.busy": "2025-10-21T14:32:53.296268Z",
     "iopub.status.idle": "2025-10-21T14:32:53.299058Z",
     "shell.execute_reply": "2025-10-21T14:32:53.298723Z"
    }
   },
   "outputs": [],
   "source": [
    "low_stock = products._data['stock'] < 50\n",
    "products.update_where(low_stock, {\n",
    "    'price': lambda x: round(x * 0.9, 2)\n",
    "})\n",
    "\n",
    "# Category-based pricing"
   ]
  },
  {
   "cell_type": "markdown",
   "metadata": {},
   "source": [
    "### \\n   b) Premium pricing for category C:"
   ]
  },
  {
   "cell_type": "code",
   "execution_count": 25,
   "metadata": {
    "execution": {
     "iopub.execute_input": "2025-10-21T14:32:53.299920Z",
     "iopub.status.busy": "2025-10-21T14:32:53.299854Z",
     "iopub.status.idle": "2025-10-21T14:32:53.306570Z",
     "shell.execute_reply": "2025-10-21T14:32:53.306203Z"
    }
   },
   "outputs": [
    {
     "name": "stdout",
     "output_type": "stream",
     "text": [
      "\n",
      "   After pricing updates:\n",
      "           name  price category  stock\n",
      "id                                    \n",
      "1        Widget   9.99        A    100\n",
      "2        Gadget  19.99        B     50\n",
      "3     Doohickey  29.99        A     75\n",
      "4   Thingamajig  41.39        C     25\n",
      "5       Whatsit  14.99        B    200\n"
     ]
    }
   ],
   "source": [
    "cat_c = products._data['category'] == 'C'\n",
    "products.update_where(cat_c, {\n",
    "    'price': lambda x: round(x * 1.15, 2)\n",
    "})\n",
    "\n",
    "products.push()\n",
    "print(\"\\n   After pricing updates:\")\n",
    "print(products.to_pandas())"
   ]
  },
  {
   "cell_type": "markdown",
   "metadata": {},
   "source": [
    "### 8. Performance Tip: Single Update vs Loop"
   ]
  },
  {
   "cell_type": "code",
   "execution_count": 26,
   "metadata": {
    "execution": {
     "iopub.execute_input": "2025-10-21T14:32:53.307451Z",
     "iopub.status.busy": "2025-10-21T14:32:53.307404Z",
     "iopub.status.idle": "2025-10-21T14:32:53.309461Z",
     "shell.execute_reply": "2025-10-21T14:32:53.309124Z"
    }
   },
   "outputs": [
    {
     "name": "stdout",
     "output_type": "stream",
     "text": [
      "\n",
      "   ❌ SLOW - Loop with individual updates:\n",
      "      for idx in df[df['age'] > 65].index:\n",
      "          table.update_row(idx, {'senior': True})\n",
      "\n",
      "   ✓ FAST - Single conditional update:\n",
      "      table.update_where(df['age'] > 65, {'senior': True})\n",
      "\n",
      "   Difference: One SQL UPDATE vs many individual UPDATEs\n",
      "\n",
      "======================================================================\n",
      "Example Complete!\n",
      "Key Takeaways:\n",
      "  • update_where() for bulk conditional updates\n",
      "  • delete_where() for bulk conditional deletes\n",
      "  • Use pandas boolean masks for conditions\n",
      "  • Combine with & (and), | (or), ~ (not)\n",
      "  • Much faster than looping with update_row()\n"
     ]
    }
   ],
   "source": [
    "print(\"\\n   ❌ SLOW - Loop with individual updates:\")\n",
    "print(\"      for idx in df[df['age'] > 65].index:\")\n",
    "print(\"          table.update_row(idx, {'senior': True})\")\n",
    "print()\n",
    "print(\"   ✓ FAST - Single conditional update:\")\n",
    "print(\"      table.update_where(df['age'] > 65, {'senior': True})\")\n",
    "print()\n",
    "print(\"   Difference: One SQL UPDATE vs many individual UPDATEs\")\n",
    "\n",
    "print(\"\\n\" + \"=\" * 70)\n",
    "print(\"Example Complete!\")\n",
    "print(\"Key Takeaways:\")\n",
    "print(\"  • update_where() for bulk conditional updates\")\n",
    "print(\"  • delete_where() for bulk conditional deletes\")\n",
    "print(\"  • Use pandas boolean masks for conditions\")\n",
    "print(\"  • Combine with & (and), | (or), ~ (not)\")\n",
    "print(\"  • Much faster than looping with update_row()\")"
   ]
  }
 ],
 "metadata": {
  "kernelspec": {
   "display_name": "Python 3",
   "language": "python",
   "name": "python3"
  },
  "language_info": {
   "codemirror_mode": {
    "name": "ipython",
    "version": 3
   },
   "file_extension": ".py",
   "mimetype": "text/x-python",
   "name": "python",
   "nbconvert_exporter": "python",
   "pygments_lexer": "ipython3",
   "version": "3.11.13"
  }
 },
 "nbformat": 4,
 "nbformat_minor": 4
}
