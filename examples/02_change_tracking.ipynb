{
 "cells": [
  {
   "cell_type": "markdown",
   "metadata": {},
   "source": [
    "# Automatic Change Tracking\n",
    "\n",
    "This notebook demonstrates how pandalchemy automatically tracks all changes:\n",
    "- Tracking inserts, updates, and deletes\n",
    "- Getting change summaries\n",
    "- Understanding tracked operations\n",
    "- Inspecting what will be executed"
   ]
  },
  {
   "cell_type": "code",
   "execution_count": 1,
   "metadata": {
    "execution": {
     "iopub.execute_input": "2025-10-21T14:32:44.620855Z",
     "iopub.status.busy": "2025-10-21T14:32:44.620716Z",
     "iopub.status.idle": "2025-10-21T14:32:44.982547Z",
     "shell.execute_reply": "2025-10-21T14:32:44.982067Z"
    }
   },
   "outputs": [],
   "source": [
    "import pandas as pd\n",
    "from sqlalchemy import create_engine\n",
    "import pandalchemy as pa"
   ]
  },
  {
   "cell_type": "markdown",
   "metadata": {},
   "source": [
    "## Setup\n",
    "Create a database with an employees table"
   ]
  },
  {
   "cell_type": "code",
   "execution_count": 2,
   "metadata": {
    "execution": {
     "iopub.execute_input": "2025-10-21T14:32:44.983808Z",
     "iopub.status.busy": "2025-10-21T14:32:44.983704Z",
     "iopub.status.idle": "2025-10-21T14:32:44.997708Z",
     "shell.execute_reply": "2025-10-21T14:32:44.997392Z"
    }
   },
   "outputs": [
    {
     "name": "stdout",
     "output_type": "stream",
     "text": [
      "Initial state:\n"
     ]
    },
    {
     "data": {
      "text/html": [
       "<div>\n",
       "<style scoped>\n",
       "    .dataframe tbody tr th:only-of-type {\n",
       "        vertical-align: middle;\n",
       "    }\n",
       "\n",
       "    .dataframe tbody tr th {\n",
       "        vertical-align: top;\n",
       "    }\n",
       "\n",
       "    .dataframe thead th {\n",
       "        text-align: right;\n",
       "    }\n",
       "</style>\n",
       "<table border=\"1\" class=\"dataframe\">\n",
       "  <thead>\n",
       "    <tr style=\"text-align: right;\">\n",
       "      <th></th>\n",
       "      <th>name</th>\n",
       "      <th>department</th>\n",
       "      <th>salary</th>\n",
       "    </tr>\n",
       "    <tr>\n",
       "      <th>id</th>\n",
       "      <th></th>\n",
       "      <th></th>\n",
       "      <th></th>\n",
       "    </tr>\n",
       "  </thead>\n",
       "  <tbody>\n",
       "    <tr>\n",
       "      <th>1</th>\n",
       "      <td>Alice</td>\n",
       "      <td>Engineering</td>\n",
       "      <td>80000</td>\n",
       "    </tr>\n",
       "    <tr>\n",
       "      <th>2</th>\n",
       "      <td>Bob</td>\n",
       "      <td>Sales</td>\n",
       "      <td>60000</td>\n",
       "    </tr>\n",
       "    <tr>\n",
       "      <th>3</th>\n",
       "      <td>Charlie</td>\n",
       "      <td>Engineering</td>\n",
       "      <td>75000</td>\n",
       "    </tr>\n",
       "  </tbody>\n",
       "</table>\n",
       "</div>"
      ],
      "text/plain": [
       "       name   department  salary\n",
       "id                              \n",
       "1     Alice  Engineering   80000\n",
       "2       Bob        Sales   60000\n",
       "3   Charlie  Engineering   75000"
      ]
     },
     "execution_count": 2,
     "metadata": {},
     "output_type": "execute_result"
    }
   ],
   "source": [
    "engine = create_engine('sqlite:///:memory:')\n",
    "db = pa.DataBase(engine)\n",
    "\n",
    "initial_data = pd.DataFrame({\n",
    "    'name': ['Alice', 'Bob', 'Charlie'],\n",
    "    'department': ['Engineering', 'Sales', 'Engineering'],\n",
    "    'salary': [80000, 60000, 75000]\n",
    "}, index=[1, 2, 3])\n",
    "\n",
    "employees = pa.TableDataFrame('employees', initial_data, 'id', engine)\n",
    "employees.push()\n",
    "\n",
    "print(\"Initial state:\")\n",
    "employees.to_pandas()"
   ]
  },
  {
   "cell_type": "markdown",
   "metadata": {},
   "source": [
    "### Check initial state"
   ]
  },
  {
   "cell_type": "code",
   "execution_count": 3,
   "metadata": {
    "execution": {
     "iopub.execute_input": "2025-10-21T14:32:45.013034Z",
     "iopub.status.busy": "2025-10-21T14:32:45.012938Z",
     "iopub.status.idle": "2025-10-21T14:32:45.014686Z",
     "shell.execute_reply": "2025-10-21T14:32:45.014281Z"
    }
   },
   "outputs": [
    {
     "name": "stdout",
     "output_type": "stream",
     "text": [
      "Has changes: False\n"
     ]
    }
   ],
   "source": [
    "print(f\"Has changes: {employees.has_changes()}\")"
   ]
  },
  {
   "cell_type": "markdown",
   "metadata": {},
   "source": [
    "## Making Changes\n",
    "Let's make various types of changes and see how they're tracked"
   ]
  },
  {
   "cell_type": "markdown",
   "metadata": {},
   "source": [
    "### Add new employees (inserts)"
   ]
  },
  {
   "cell_type": "code",
   "execution_count": 4,
   "metadata": {
    "execution": {
     "iopub.execute_input": "2025-10-21T14:32:45.015579Z",
     "iopub.status.busy": "2025-10-21T14:32:45.015522Z",
     "iopub.status.idle": "2025-10-21T14:32:45.019185Z",
     "shell.execute_reply": "2025-10-21T14:32:45.018826Z"
    }
   },
   "outputs": [
    {
     "name": "stdout",
     "output_type": "stream",
     "text": [
      "✓ Added Diana and Eve\n"
     ]
    }
   ],
   "source": [
    "employees.add_row({'id': 4, 'name': 'Diana', 'department': 'Marketing', 'salary': 70000})\n",
    "employees.add_row({'id': 5, 'name': 'Eve', 'department': 'Engineering', 'salary': 85000})\n",
    "print(\"✓ Added Diana and Eve\")"
   ]
  },
  {
   "cell_type": "markdown",
   "metadata": {},
   "source": [
    "### Give raises (updates)"
   ]
  },
  {
   "cell_type": "code",
   "execution_count": 5,
   "metadata": {
    "execution": {
     "iopub.execute_input": "2025-10-21T14:32:45.020186Z",
     "iopub.status.busy": "2025-10-21T14:32:45.020132Z",
     "iopub.status.idle": "2025-10-21T14:32:45.023313Z",
     "shell.execute_reply": "2025-10-21T14:32:45.022993Z"
    }
   },
   "outputs": [
    {
     "name": "stdout",
     "output_type": "stream",
     "text": [
      "✓ Updated Alice and Charlie's salaries\n"
     ]
    }
   ],
   "source": [
    "employees.update_row(1, {'salary': 85000})\n",
    "employees.update_row(3, {'salary': 80000})\n",
    "print(\"✓ Updated Alice and Charlie's salaries\")"
   ]
  },
  {
   "cell_type": "markdown",
   "metadata": {},
   "source": [
    "### Remove employee (delete)"
   ]
  },
  {
   "cell_type": "code",
   "execution_count": 6,
   "metadata": {
    "execution": {
     "iopub.execute_input": "2025-10-21T14:32:45.024276Z",
     "iopub.status.busy": "2025-10-21T14:32:45.024219Z",
     "iopub.status.idle": "2025-10-21T14:32:45.026728Z",
     "shell.execute_reply": "2025-10-21T14:32:45.026353Z"
    }
   },
   "outputs": [
    {
     "name": "stdout",
     "output_type": "stream",
     "text": [
      "✓ Deleted Bob\n"
     ]
    }
   ],
   "source": [
    "employees.delete_row(2)\n",
    "print(\"✓ Deleted Bob\")"
   ]
  },
  {
   "cell_type": "markdown",
   "metadata": {},
   "source": [
    "### Department reorganization (bulk update via pandas)"
   ]
  },
  {
   "cell_type": "code",
   "execution_count": 7,
   "metadata": {
    "execution": {
     "iopub.execute_input": "2025-10-21T14:32:45.027785Z",
     "iopub.status.busy": "2025-10-21T14:32:45.027731Z",
     "iopub.status.idle": "2025-10-21T14:32:45.029614Z",
     "shell.execute_reply": "2025-10-21T14:32:45.029368Z"
    }
   },
   "outputs": [
    {
     "name": "stdout",
     "output_type": "stream",
     "text": [
      "✓ Renamed Engineering to Product department\n"
     ]
    }
   ],
   "source": [
    "employees._data.loc[employees._data['department'] == 'Engineering', 'department'] = 'Product'\n",
    "print(\"✓ Renamed Engineering to Product department\")"
   ]
  },
  {
   "cell_type": "markdown",
   "metadata": {},
   "source": [
    "## Change Summary\n",
    "Get a summary of all tracked changes"
   ]
  },
  {
   "cell_type": "code",
   "execution_count": 8,
   "metadata": {
    "execution": {
     "iopub.execute_input": "2025-10-21T14:32:45.030579Z",
     "iopub.status.busy": "2025-10-21T14:32:45.030527Z",
     "iopub.status.idle": "2025-10-21T14:32:45.032221Z",
     "shell.execute_reply": "2025-10-21T14:32:45.031923Z"
    }
   },
   "outputs": [
    {
     "name": "stdout",
     "output_type": "stream",
     "text": [
      "Has changes: True\n",
      "\n",
      "Change summary:\n",
      "  total_operations: 5\n",
      "  inserts: 2\n",
      "  updates: 2\n",
      "  deletes: 1\n",
      "  has_changes: True\n"
     ]
    }
   ],
   "source": [
    "summary = employees.get_changes_summary()\n",
    "print(f\"Has changes: {employees.has_changes()}\\n\")\n",
    "print(\"Change summary:\")\n",
    "for key, value in summary.items():\n",
    "    if value:  # Only show non-zero values\n",
    "        print(f\"  {key}: {value}\")"
   ]
  },
  {
   "cell_type": "markdown",
   "metadata": {},
   "source": [
    "## Tracked Operations\n",
    "Inspect the detailed tracking information"
   ]
  },
  {
   "cell_type": "code",
   "execution_count": 9,
   "metadata": {
    "execution": {
     "iopub.execute_input": "2025-10-21T14:32:45.033110Z",
     "iopub.status.busy": "2025-10-21T14:32:45.033054Z",
     "iopub.status.idle": "2025-10-21T14:32:45.034768Z",
     "shell.execute_reply": "2025-10-21T14:32:45.034513Z"
    }
   },
   "outputs": [
    {
     "name": "stdout",
     "output_type": "stream",
     "text": [
      "Total operations tracked: 5\n",
      "Has changes: True\n",
      "\n",
      "Row-level changes:\n",
      "  Inserted rows: 2\n",
      "  Updated rows: 2\n",
      "  Deleted rows: 1\n"
     ]
    }
   ],
   "source": [
    "tracker = employees.get_tracker()\n",
    "\n",
    "print(f\"Total operations tracked: {len(tracker.operations)}\")\n",
    "print(f\"Has changes: {employees.has_changes()}\\n\")\n",
    "\n",
    "print(\"Row-level changes:\")\n",
    "print(f\"  Inserted rows: {len(tracker.get_inserts())}\")\n",
    "print(f\"  Updated rows: {len(tracker.get_updates())}\")\n",
    "print(f\"  Deleted rows: {len(tracker.get_deletes())}\")"
   ]
  },
  {
   "cell_type": "markdown",
   "metadata": {},
   "source": [
    "## Preview Before Push\n",
    "See what the data looks like before committing"
   ]
  },
  {
   "cell_type": "code",
   "execution_count": 10,
   "metadata": {
    "execution": {
     "iopub.execute_input": "2025-10-21T14:32:45.035788Z",
     "iopub.status.busy": "2025-10-21T14:32:45.035726Z",
     "iopub.status.idle": "2025-10-21T14:32:45.038212Z",
     "shell.execute_reply": "2025-10-21T14:32:45.037879Z"
    }
   },
   "outputs": [
    {
     "name": "stdout",
     "output_type": "stream",
     "text": [
      "Current state (before push):\n"
     ]
    },
    {
     "data": {
      "text/html": [
       "<div>\n",
       "<style scoped>\n",
       "    .dataframe tbody tr th:only-of-type {\n",
       "        vertical-align: middle;\n",
       "    }\n",
       "\n",
       "    .dataframe tbody tr th {\n",
       "        vertical-align: top;\n",
       "    }\n",
       "\n",
       "    .dataframe thead th {\n",
       "        text-align: right;\n",
       "    }\n",
       "</style>\n",
       "<table border=\"1\" class=\"dataframe\">\n",
       "  <thead>\n",
       "    <tr style=\"text-align: right;\">\n",
       "      <th></th>\n",
       "      <th>name</th>\n",
       "      <th>department</th>\n",
       "      <th>salary</th>\n",
       "    </tr>\n",
       "    <tr>\n",
       "      <th>id</th>\n",
       "      <th></th>\n",
       "      <th></th>\n",
       "      <th></th>\n",
       "    </tr>\n",
       "  </thead>\n",
       "  <tbody>\n",
       "    <tr>\n",
       "      <th>1</th>\n",
       "      <td>Alice</td>\n",
       "      <td>Product</td>\n",
       "      <td>85000</td>\n",
       "    </tr>\n",
       "    <tr>\n",
       "      <th>3</th>\n",
       "      <td>Charlie</td>\n",
       "      <td>Product</td>\n",
       "      <td>80000</td>\n",
       "    </tr>\n",
       "    <tr>\n",
       "      <th>4</th>\n",
       "      <td>Diana</td>\n",
       "      <td>Marketing</td>\n",
       "      <td>70000</td>\n",
       "    </tr>\n",
       "    <tr>\n",
       "      <th>5</th>\n",
       "      <td>Eve</td>\n",
       "      <td>Product</td>\n",
       "      <td>85000</td>\n",
       "    </tr>\n",
       "  </tbody>\n",
       "</table>\n",
       "</div>"
      ],
      "text/plain": [
       "       name department  salary\n",
       "id                            \n",
       "1     Alice    Product   85000\n",
       "3   Charlie    Product   80000\n",
       "4     Diana  Marketing   70000\n",
       "5       Eve    Product   85000"
      ]
     },
     "execution_count": 10,
     "metadata": {},
     "output_type": "execute_result"
    }
   ],
   "source": [
    "print(\"Current state (before push):\")\n",
    "employees.to_pandas()"
   ]
  },
  {
   "cell_type": "markdown",
   "metadata": {},
   "source": [
    "### Statistics"
   ]
  },
  {
   "cell_type": "code",
   "execution_count": 11,
   "metadata": {
    "execution": {
     "iopub.execute_input": "2025-10-21T14:32:45.039089Z",
     "iopub.status.busy": "2025-10-21T14:32:45.039034Z",
     "iopub.status.idle": "2025-10-21T14:32:45.040623Z",
     "shell.execute_reply": "2025-10-21T14:32:45.040348Z"
    }
   },
   "outputs": [
    {
     "name": "stdout",
     "output_type": "stream",
     "text": [
      "Total rows in memory: 4\n",
      "Rows to insert: 2\n",
      "Rows to update: 2\n",
      "Rows to delete: 1\n"
     ]
    }
   ],
   "source": [
    "print(f\"Total rows in memory: {len(employees._data)}\")\n",
    "print(f\"Rows to insert: {summary.get('inserts', 0)}\")\n",
    "print(f\"Rows to update: {summary.get('updates', 0)}\")\n",
    "print(f\"Rows to delete: {summary.get('deletes', 0)}\")"
   ]
  },
  {
   "cell_type": "markdown",
   "metadata": {},
   "source": [
    "## Push Changes\n",
    "Commit all changes to the database in one transaction"
   ]
  },
  {
   "cell_type": "code",
   "execution_count": 12,
   "metadata": {
    "execution": {
     "iopub.execute_input": "2025-10-21T14:32:45.041611Z",
     "iopub.status.busy": "2025-10-21T14:32:45.041542Z",
     "iopub.status.idle": "2025-10-21T14:32:45.051498Z",
     "shell.execute_reply": "2025-10-21T14:32:45.051179Z"
    }
   },
   "outputs": [
    {
     "name": "stdout",
     "output_type": "stream",
     "text": [
      "✓ Changes pushed to database\n",
      "Has changes after push: False\n",
      "\n",
      "Verified state from database:\n"
     ]
    },
    {
     "data": {
      "text/html": [
       "<div>\n",
       "<style scoped>\n",
       "    .dataframe tbody tr th:only-of-type {\n",
       "        vertical-align: middle;\n",
       "    }\n",
       "\n",
       "    .dataframe tbody tr th {\n",
       "        vertical-align: top;\n",
       "    }\n",
       "\n",
       "    .dataframe thead th {\n",
       "        text-align: right;\n",
       "    }\n",
       "</style>\n",
       "<table border=\"1\" class=\"dataframe\">\n",
       "  <thead>\n",
       "    <tr style=\"text-align: right;\">\n",
       "      <th></th>\n",
       "      <th>name</th>\n",
       "      <th>department</th>\n",
       "      <th>salary</th>\n",
       "    </tr>\n",
       "    <tr>\n",
       "      <th>id</th>\n",
       "      <th></th>\n",
       "      <th></th>\n",
       "      <th></th>\n",
       "    </tr>\n",
       "  </thead>\n",
       "  <tbody>\n",
       "    <tr>\n",
       "      <th>1</th>\n",
       "      <td>Alice</td>\n",
       "      <td>Product</td>\n",
       "      <td>85000</td>\n",
       "    </tr>\n",
       "    <tr>\n",
       "      <th>3</th>\n",
       "      <td>Charlie</td>\n",
       "      <td>Product</td>\n",
       "      <td>80000</td>\n",
       "    </tr>\n",
       "    <tr>\n",
       "      <th>4</th>\n",
       "      <td>Diana</td>\n",
       "      <td>Marketing</td>\n",
       "      <td>70000</td>\n",
       "    </tr>\n",
       "    <tr>\n",
       "      <th>5</th>\n",
       "      <td>Eve</td>\n",
       "      <td>Product</td>\n",
       "      <td>85000</td>\n",
       "    </tr>\n",
       "  </tbody>\n",
       "</table>\n",
       "</div>"
      ],
      "text/plain": [
       "       name department  salary\n",
       "id                            \n",
       "1     Alice    Product   85000\n",
       "3   Charlie    Product   80000\n",
       "4     Diana  Marketing   70000\n",
       "5       Eve    Product   85000"
      ]
     },
     "execution_count": 12,
     "metadata": {},
     "output_type": "execute_result"
    }
   ],
   "source": [
    "employees.push()\n",
    "print(\"✓ Changes pushed to database\")\n",
    "print(f\"Has changes after push: {employees.has_changes()}\")\n",
    "\n",
    "# Verify from database\n",
    "employees.pull()\n",
    "print(\"\\nVerified state from database:\")\n",
    "employees.to_pandas()"
   ]
  },
  {
   "cell_type": "markdown",
   "metadata": {},
   "source": [
    "## More Complex Tracking\n",
    "Making multiple changes in sequence"
   ]
  },
  {
   "cell_type": "markdown",
   "metadata": {},
   "source": [
    "### Add another employee"
   ]
  },
  {
   "cell_type": "code",
   "execution_count": 13,
   "metadata": {
    "execution": {
     "iopub.execute_input": "2025-10-21T14:32:45.052474Z",
     "iopub.status.busy": "2025-10-21T14:32:45.052423Z",
     "iopub.status.idle": "2025-10-21T14:32:45.054982Z",
     "shell.execute_reply": "2025-10-21T14:32:45.054626Z"
    }
   },
   "outputs": [
    {
     "name": "stdout",
     "output_type": "stream",
     "text": [
      "✓ Added Frank\n"
     ]
    }
   ],
   "source": [
    "employees.add_row({'id': 6, 'name': 'Frank', 'department': 'Sales', 'salary': 65000})\n",
    "print(\"✓ Added Frank\")"
   ]
  },
  {
   "cell_type": "markdown",
   "metadata": {},
   "source": [
    "### Update multiple employees"
   ]
  },
  {
   "cell_type": "code",
   "execution_count": 14,
   "metadata": {
    "execution": {
     "iopub.execute_input": "2025-10-21T14:32:45.055806Z",
     "iopub.status.busy": "2025-10-21T14:32:45.055757Z",
     "iopub.status.idle": "2025-10-21T14:32:45.058417Z",
     "shell.execute_reply": "2025-10-21T14:32:45.058070Z"
    }
   },
   "outputs": [
    {
     "name": "stdout",
     "output_type": "stream",
     "text": [
      "✓ Gave raises to Product department\n"
     ]
    }
   ],
   "source": [
    "# Give raises to Product department\n",
    "employees.update_where(\n",
    "    employees._data['department'] == 'Product',\n",
    "    {'salary': lambda x: x + 5000}\n",
    ")\n",
    "print(\"✓ Gave raises to Product department\")"
   ]
  },
  {
   "cell_type": "markdown",
   "metadata": {},
   "source": [
    "### Check changes before pushing"
   ]
  },
  {
   "cell_type": "code",
   "execution_count": 15,
   "metadata": {
    "execution": {
     "iopub.execute_input": "2025-10-21T14:32:45.059352Z",
     "iopub.status.busy": "2025-10-21T14:32:45.059295Z",
     "iopub.status.idle": "2025-10-21T14:32:45.061007Z",
     "shell.execute_reply": "2025-10-21T14:32:45.060653Z"
    }
   },
   "outputs": [
    {
     "name": "stdout",
     "output_type": "stream",
     "text": [
      "Change summary:\n",
      "  total_operations: 2\n",
      "  inserts: 1\n",
      "  updates: 3\n",
      "  has_changes: True\n"
     ]
    }
   ],
   "source": [
    "summary2 = employees.get_changes_summary()\n",
    "print(\"Change summary:\")\n",
    "for key, value in summary2.items():\n",
    "    if value:\n",
    "        print(f\"  {key}: {value}\")"
   ]
  },
  {
   "cell_type": "markdown",
   "metadata": {},
   "source": [
    "### Push all changes"
   ]
  },
  {
   "cell_type": "code",
   "execution_count": 16,
   "metadata": {
    "execution": {
     "iopub.execute_input": "2025-10-21T14:32:45.061864Z",
     "iopub.status.busy": "2025-10-21T14:32:45.061801Z",
     "iopub.status.idle": "2025-10-21T14:32:45.068530Z",
     "shell.execute_reply": "2025-10-21T14:32:45.068173Z"
    }
   },
   "outputs": [
    {
     "name": "stdout",
     "output_type": "stream",
     "text": [
      "✓ All changes committed\n"
     ]
    },
    {
     "data": {
      "text/html": [
       "<div>\n",
       "<style scoped>\n",
       "    .dataframe tbody tr th:only-of-type {\n",
       "        vertical-align: middle;\n",
       "    }\n",
       "\n",
       "    .dataframe tbody tr th {\n",
       "        vertical-align: top;\n",
       "    }\n",
       "\n",
       "    .dataframe thead th {\n",
       "        text-align: right;\n",
       "    }\n",
       "</style>\n",
       "<table border=\"1\" class=\"dataframe\">\n",
       "  <thead>\n",
       "    <tr style=\"text-align: right;\">\n",
       "      <th></th>\n",
       "      <th>name</th>\n",
       "      <th>department</th>\n",
       "      <th>salary</th>\n",
       "    </tr>\n",
       "    <tr>\n",
       "      <th>id</th>\n",
       "      <th></th>\n",
       "      <th></th>\n",
       "      <th></th>\n",
       "    </tr>\n",
       "  </thead>\n",
       "  <tbody>\n",
       "    <tr>\n",
       "      <th>1</th>\n",
       "      <td>Alice</td>\n",
       "      <td>Product</td>\n",
       "      <td>90000</td>\n",
       "    </tr>\n",
       "    <tr>\n",
       "      <th>3</th>\n",
       "      <td>Charlie</td>\n",
       "      <td>Product</td>\n",
       "      <td>85000</td>\n",
       "    </tr>\n",
       "    <tr>\n",
       "      <th>4</th>\n",
       "      <td>Diana</td>\n",
       "      <td>Marketing</td>\n",
       "      <td>70000</td>\n",
       "    </tr>\n",
       "    <tr>\n",
       "      <th>5</th>\n",
       "      <td>Eve</td>\n",
       "      <td>Product</td>\n",
       "      <td>90000</td>\n",
       "    </tr>\n",
       "    <tr>\n",
       "      <th>6</th>\n",
       "      <td>Frank</td>\n",
       "      <td>Sales</td>\n",
       "      <td>65000</td>\n",
       "    </tr>\n",
       "  </tbody>\n",
       "</table>\n",
       "</div>"
      ],
      "text/plain": [
       "       name department  salary\n",
       "id                            \n",
       "1     Alice    Product   90000\n",
       "3   Charlie    Product   85000\n",
       "4     Diana  Marketing   70000\n",
       "5       Eve    Product   90000\n",
       "6     Frank      Sales   65000"
      ]
     },
     "execution_count": 16,
     "metadata": {},
     "output_type": "execute_result"
    }
   ],
   "source": [
    "employees.push()\n",
    "print(\"✓ All changes committed\")\n",
    "\n",
    "employees.to_pandas()"
   ]
  },
  {
   "cell_type": "markdown",
   "metadata": {},
   "source": [
    "## Change Tracking Lifecycle"
   ]
  },
  {
   "cell_type": "markdown",
   "metadata": {},
   "source": [
    "### After pull, tracker is reset"
   ]
  },
  {
   "cell_type": "code",
   "execution_count": 17,
   "metadata": {
    "execution": {
     "iopub.execute_input": "2025-10-21T14:32:45.069476Z",
     "iopub.status.busy": "2025-10-21T14:32:45.069404Z",
     "iopub.status.idle": "2025-10-21T14:32:45.072427Z",
     "shell.execute_reply": "2025-10-21T14:32:45.072137Z"
    }
   },
   "outputs": [
    {
     "name": "stdout",
     "output_type": "stream",
     "text": [
      "Has changes after pull: False\n",
      "Change summary: {'total_operations': 0, 'inserts': 0, 'updates': 0, 'deletes': 0, 'columns_added': 0, 'columns_dropped': 0, 'columns_renamed': 0, 'columns_type_changed': 0, 'has_changes': False}\n"
     ]
    }
   ],
   "source": [
    "employees.pull()\n",
    "print(f\"Has changes after pull: {employees.has_changes()}\")\n",
    "print(f\"Change summary: {employees.get_changes_summary()}\")"
   ]
  },
  {
   "cell_type": "markdown",
   "metadata": {},
   "source": [
    "### Make new changes"
   ]
  },
  {
   "cell_type": "code",
   "execution_count": 18,
   "metadata": {
    "execution": {
     "iopub.execute_input": "2025-10-21T14:32:45.073288Z",
     "iopub.status.busy": "2025-10-21T14:32:45.073238Z",
     "iopub.status.idle": "2025-10-21T14:32:45.075893Z",
     "shell.execute_reply": "2025-10-21T14:32:45.075558Z"
    }
   },
   "outputs": [
    {
     "name": "stdout",
     "output_type": "stream",
     "text": [
      "\n",
      "After new change:\n",
      "  Has changes: False\n",
      "  Changes: {'total_operations': 1, 'inserts': 0, 'updates': 0, 'deletes': 0, 'columns_added': 0, 'columns_dropped': 0, 'columns_renamed': 0, 'columns_type_changed': 0, 'has_changes': False}\n"
     ]
    }
   ],
   "source": [
    "employees.update_row(1, {'salary': 90000})\n",
    "print(f\"\\nAfter new change:\")\n",
    "print(f\"  Has changes: {employees.has_changes()}\")\n",
    "print(f\"  Changes: {employees.get_changes_summary()}\")"
   ]
  },
  {
   "cell_type": "markdown",
   "metadata": {},
   "source": [
    "## Working with Change Details"
   ]
  },
  {
   "cell_type": "code",
   "execution_count": 19,
   "metadata": {
    "execution": {
     "iopub.execute_input": "2025-10-21T14:32:45.077122Z",
     "iopub.status.busy": "2025-10-21T14:32:45.077064Z",
     "iopub.status.idle": "2025-10-21T14:32:45.086473Z",
     "shell.execute_reply": "2025-10-21T14:32:45.086106Z"
    }
   },
   "outputs": [
    {
     "name": "stdout",
     "output_type": "stream",
     "text": [
      "Inserted rows: 0\n",
      "Updated rows: 2\n",
      "Deleted rows: 1\n",
      "\n",
      "Updated row IDs: 4, 5\n",
      "Deleted row IDs: 6\n"
     ]
    }
   ],
   "source": [
    "# Make multiple operations\n",
    "employees.update_row(4, {'department': 'Sales'})\n",
    "employees.update_row(5, {'salary': 88000})\n",
    "employees.delete_row(6)\n",
    "\n",
    "tracker = employees.get_tracker()\n",
    "\n",
    "# Show affected IDs\n",
    "update_ids = [rc.primary_key_value for rc in tracker.get_updates()]\n",
    "delete_ids = [rc.primary_key_value for rc in tracker.get_deletes()]\n",
    "\n",
    "print(f\"Inserted rows: {len(tracker.get_inserts())}\")\n",
    "print(f\"Updated rows: {len(tracker.get_updates())}\")\n",
    "print(f\"Deleted rows: {len(tracker.get_deletes())}\")\n",
    "\n",
    "if update_ids:\n",
    "    print(f\"\\nUpdated row IDs: {', '.join(map(str, update_ids))}\")\n",
    "if delete_ids:\n",
    "    print(f\"Deleted row IDs: {', '.join(map(str, delete_ids))}\")\n",
    "\n",
    "employees.push()"
   ]
  },
  {
   "cell_type": "markdown",
   "metadata": {},
   "source": [
    "## Summary\n",
    "\n",
    "**Key Takeaways:**\n",
    "- All DataFrame operations are automatically tracked\n",
    "- Use `get_changes_summary()` to see what will be executed\n",
    "- Use `has_changes()` to check if push is needed\n",
    "- Tracker is reset after `push()` or `pull()`\n",
    "- Access detailed change information via `get_tracker()`\n",
    "- Changes are organized by type: inserts, updates, deletes, schema changes"
   ]
  }
 ],
 "metadata": {
  "kernelspec": {
   "display_name": "Python 3",
   "language": "python",
   "name": "python3"
  },
  "language_info": {
   "codemirror_mode": {
    "name": "ipython",
    "version": 3
   },
   "file_extension": ".py",
   "mimetype": "text/x-python",
   "name": "python",
   "nbconvert_exporter": "python",
   "pygments_lexer": "ipython3",
   "version": "3.11.13"
  }
 },
 "nbformat": 4,
 "nbformat_minor": 4
}
