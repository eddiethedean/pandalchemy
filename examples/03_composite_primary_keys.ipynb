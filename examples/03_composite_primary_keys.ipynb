{
 "cells": [
  {
   "cell_type": "markdown",
   "metadata": {},
   "source": [
    "# Composite Primary Keys\n",
    "\n",
    "This notebook demonstrates working with multi-column primary keys:\n",
    "- Creating tables with composite PKs\n",
    "- Using pandas MultiIndex\n",
    "- CRUD operations with tuple keys\n",
    "- Real-world many-to-many relationships"
   ]
  },
  {
   "cell_type": "code",
   "execution_count": 1,
   "metadata": {
    "execution": {
     "iopub.execute_input": "2025-10-21T14:32:47.305551Z",
     "iopub.status.busy": "2025-10-21T14:32:47.305372Z",
     "iopub.status.idle": "2025-10-21T14:32:47.672744Z",
     "shell.execute_reply": "2025-10-21T14:32:47.672318Z"
    }
   },
   "outputs": [],
   "source": [
    "import pandas as pd\n",
    "from sqlalchemy import create_engine\n",
    "import pandalchemy as pa"
   ]
  },
  {
   "cell_type": "markdown",
   "metadata": {},
   "source": [
    "## Setup"
   ]
  },
  {
   "cell_type": "code",
   "execution_count": 2,
   "metadata": {
    "execution": {
     "iopub.execute_input": "2025-10-21T14:32:47.674026Z",
     "iopub.status.busy": "2025-10-21T14:32:47.673928Z",
     "iopub.status.idle": "2025-10-21T14:32:47.679446Z",
     "shell.execute_reply": "2025-10-21T14:32:47.679018Z"
    }
   },
   "outputs": [],
   "source": [
    "engine = create_engine('sqlite:///:memory:')\n",
    "db = pa.DataBase(engine)"
   ]
  },
  {
   "cell_type": "markdown",
   "metadata": {},
   "source": [
    "## Creating Table with Composite PK\n",
    "A many-to-many relationship table (users ↔ organizations)"
   ]
  },
  {
   "cell_type": "code",
   "execution_count": 3,
   "metadata": {
    "execution": {
     "iopub.execute_input": "2025-10-21T14:32:47.680555Z",
     "iopub.status.busy": "2025-10-21T14:32:47.680492Z",
     "iopub.status.idle": "2025-10-21T14:32:47.685189Z",
     "shell.execute_reply": "2025-10-21T14:32:47.684896Z"
    }
   },
   "outputs": [
    {
     "name": "stdout",
     "output_type": "stream",
     "text": [
      "Original DataFrame:\n"
     ]
    },
    {
     "data": {
      "text/html": [
       "<div>\n",
       "<style scoped>\n",
       "    .dataframe tbody tr th:only-of-type {\n",
       "        vertical-align: middle;\n",
       "    }\n",
       "\n",
       "    .dataframe tbody tr th {\n",
       "        vertical-align: top;\n",
       "    }\n",
       "\n",
       "    .dataframe thead th {\n",
       "        text-align: right;\n",
       "    }\n",
       "</style>\n",
       "<table border=\"1\" class=\"dataframe\">\n",
       "  <thead>\n",
       "    <tr style=\"text-align: right;\">\n",
       "      <th></th>\n",
       "      <th>user_id</th>\n",
       "      <th>org_id</th>\n",
       "      <th>role</th>\n",
       "      <th>joined_date</th>\n",
       "    </tr>\n",
       "  </thead>\n",
       "  <tbody>\n",
       "    <tr>\n",
       "      <th>0</th>\n",
       "      <td>1</td>\n",
       "      <td>org1</td>\n",
       "      <td>admin</td>\n",
       "      <td>2024-01-01</td>\n",
       "    </tr>\n",
       "    <tr>\n",
       "      <th>1</th>\n",
       "      <td>1</td>\n",
       "      <td>org2</td>\n",
       "      <td>member</td>\n",
       "      <td>2024-02-15</td>\n",
       "    </tr>\n",
       "    <tr>\n",
       "      <th>2</th>\n",
       "      <td>2</td>\n",
       "      <td>org1</td>\n",
       "      <td>member</td>\n",
       "      <td>2024-01-10</td>\n",
       "    </tr>\n",
       "    <tr>\n",
       "      <th>3</th>\n",
       "      <td>2</td>\n",
       "      <td>org3</td>\n",
       "      <td>admin</td>\n",
       "      <td>2024-03-01</td>\n",
       "    </tr>\n",
       "    <tr>\n",
       "      <th>4</th>\n",
       "      <td>3</td>\n",
       "      <td>org1</td>\n",
       "      <td>member</td>\n",
       "      <td>2024-01-05</td>\n",
       "    </tr>\n",
       "  </tbody>\n",
       "</table>\n",
       "</div>"
      ],
      "text/plain": [
       "   user_id org_id    role joined_date\n",
       "0        1   org1   admin  2024-01-01\n",
       "1        1   org2  member  2024-02-15\n",
       "2        2   org1  member  2024-01-10\n",
       "3        2   org3   admin  2024-03-01\n",
       "4        3   org1  member  2024-01-05"
      ]
     },
     "execution_count": 3,
     "metadata": {},
     "output_type": "execute_result"
    }
   ],
   "source": [
    "memberships_data = pd.DataFrame({\n",
    "    'user_id': [1, 1, 2, 2, 3],\n",
    "    'org_id': ['org1', 'org2', 'org1', 'org3', 'org1'],\n",
    "    'role': ['admin', 'member', 'member', 'admin', 'member'],\n",
    "    'joined_date': ['2024-01-01', '2024-02-15', '2024-01-10', '2024-03-01', '2024-01-05']\n",
    "})\n",
    "\n",
    "print(\"Original DataFrame:\")\n",
    "memberships_data"
   ]
  },
  {
   "cell_type": "code",
   "execution_count": 4,
   "metadata": {
    "execution": {
     "iopub.execute_input": "2025-10-21T14:32:47.699865Z",
     "iopub.status.busy": "2025-10-21T14:32:47.699780Z",
     "iopub.status.idle": "2025-10-21T14:32:47.709206Z",
     "shell.execute_reply": "2025-10-21T14:32:47.708852Z"
    }
   },
   "outputs": [
    {
     "name": "stdout",
     "output_type": "stream",
     "text": [
      "✓ Table created with composite primary key\n",
      "Index names: ['user_id', 'org_id']\n",
      "Index levels: 2\n"
     ]
    },
    {
     "data": {
      "text/html": [
       "<div>\n",
       "<style scoped>\n",
       "    .dataframe tbody tr th:only-of-type {\n",
       "        vertical-align: middle;\n",
       "    }\n",
       "\n",
       "    .dataframe tbody tr th {\n",
       "        vertical-align: top;\n",
       "    }\n",
       "\n",
       "    .dataframe thead th {\n",
       "        text-align: right;\n",
       "    }\n",
       "</style>\n",
       "<table border=\"1\" class=\"dataframe\">\n",
       "  <thead>\n",
       "    <tr style=\"text-align: right;\">\n",
       "      <th></th>\n",
       "      <th></th>\n",
       "      <th>role</th>\n",
       "      <th>joined_date</th>\n",
       "    </tr>\n",
       "    <tr>\n",
       "      <th>user_id</th>\n",
       "      <th>org_id</th>\n",
       "      <th></th>\n",
       "      <th></th>\n",
       "    </tr>\n",
       "  </thead>\n",
       "  <tbody>\n",
       "    <tr>\n",
       "      <th rowspan=\"2\" valign=\"top\">1</th>\n",
       "      <th>org1</th>\n",
       "      <td>admin</td>\n",
       "      <td>2024-01-01</td>\n",
       "    </tr>\n",
       "    <tr>\n",
       "      <th>org2</th>\n",
       "      <td>member</td>\n",
       "      <td>2024-02-15</td>\n",
       "    </tr>\n",
       "    <tr>\n",
       "      <th rowspan=\"2\" valign=\"top\">2</th>\n",
       "      <th>org1</th>\n",
       "      <td>member</td>\n",
       "      <td>2024-01-10</td>\n",
       "    </tr>\n",
       "    <tr>\n",
       "      <th>org3</th>\n",
       "      <td>admin</td>\n",
       "      <td>2024-03-01</td>\n",
       "    </tr>\n",
       "    <tr>\n",
       "      <th>3</th>\n",
       "      <th>org1</th>\n",
       "      <td>member</td>\n",
       "      <td>2024-01-05</td>\n",
       "    </tr>\n",
       "  </tbody>\n",
       "</table>\n",
       "</div>"
      ],
      "text/plain": [
       "                  role joined_date\n",
       "user_id org_id                    \n",
       "1       org1     admin  2024-01-01\n",
       "        org2    member  2024-02-15\n",
       "2       org1    member  2024-01-10\n",
       "        org3     admin  2024-03-01\n",
       "3       org1    member  2024-01-05"
      ]
     },
     "execution_count": 4,
     "metadata": {},
     "output_type": "execute_result"
    }
   ],
   "source": [
    "# Create table with composite PK\n",
    "memberships = db.create_table('memberships', memberships_data, \n",
    "                               primary_key=['user_id', 'org_id'])\n",
    "\n",
    "print(\"✓ Table created with composite primary key\")\n",
    "print(f\"Index names: {memberships._data.index.names}\")\n",
    "print(f\"Index levels: {memberships._data.index.nlevels}\")\n",
    "\n",
    "memberships.to_pandas()"
   ]
  },
  {
   "cell_type": "markdown",
   "metadata": {},
   "source": [
    "## CRUD with Composite Keys\n",
    "Use tuples to access rows with composite keys"
   ]
  },
  {
   "cell_type": "markdown",
   "metadata": {},
   "source": [
    "### Read with composite key"
   ]
  },
  {
   "cell_type": "code",
   "execution_count": 5,
   "metadata": {
    "execution": {
     "iopub.execute_input": "2025-10-21T14:32:47.710343Z",
     "iopub.status.busy": "2025-10-21T14:32:47.710262Z",
     "iopub.status.idle": "2025-10-21T14:32:47.712460Z",
     "shell.execute_reply": "2025-10-21T14:32:47.712107Z"
    }
   },
   "outputs": [
    {
     "name": "stdout",
     "output_type": "stream",
     "text": [
      "User 1 in org1: {'role': 'admin', 'joined_date': '2024-01-01'}\n"
     ]
    }
   ],
   "source": [
    "# Get row by composite key (tuple)\n",
    "membership = memberships.get_row((1, 'org1'))\n",
    "print(f\"User 1 in org1: {membership}\")"
   ]
  },
  {
   "cell_type": "code",
   "execution_count": 6,
   "metadata": {
    "execution": {
     "iopub.execute_input": "2025-10-21T14:32:47.713377Z",
     "iopub.status.busy": "2025-10-21T14:32:47.713313Z",
     "iopub.status.idle": "2025-10-21T14:32:47.714974Z",
     "shell.execute_reply": "2025-10-21T14:32:47.714655Z"
    }
   },
   "outputs": [
    {
     "name": "stdout",
     "output_type": "stream",
     "text": [
      "(2, 'org1') exists: True\n",
      "(999, 'org999') exists: False\n"
     ]
    }
   ],
   "source": [
    "# Check if membership exists\n",
    "exists = memberships.row_exists((2, 'org1'))\n",
    "not_exists = memberships.row_exists((999, 'org999'))\n",
    "print(f\"(2, 'org1') exists: {exists}\")\n",
    "print(f\"(999, 'org999') exists: {not_exists}\")"
   ]
  },
  {
   "cell_type": "markdown",
   "metadata": {},
   "source": [
    "### Create with composite key"
   ]
  },
  {
   "cell_type": "code",
   "execution_count": 7,
   "metadata": {
    "execution": {
     "iopub.execute_input": "2025-10-21T14:32:47.715898Z",
     "iopub.status.busy": "2025-10-21T14:32:47.715847Z",
     "iopub.status.idle": "2025-10-21T14:32:47.720699Z",
     "shell.execute_reply": "2025-10-21T14:32:47.720329Z"
    }
   },
   "outputs": [
    {
     "name": "stdout",
     "output_type": "stream",
     "text": [
      "✓ Added user 3 to org2\n"
     ]
    }
   ],
   "source": [
    "memberships.add_row({\n",
    "    'user_id': 3,\n",
    "    'org_id': 'org2',\n",
    "    'role': 'member',\n",
    "    'joined_date': '2024-04-01'\n",
    "})\n",
    "print(\"✓ Added user 3 to org2\")"
   ]
  },
  {
   "cell_type": "markdown",
   "metadata": {},
   "source": [
    "### Update with composite key"
   ]
  },
  {
   "cell_type": "code",
   "execution_count": 8,
   "metadata": {
    "execution": {
     "iopub.execute_input": "2025-10-21T14:32:47.721638Z",
     "iopub.status.busy": "2025-10-21T14:32:47.721580Z",
     "iopub.status.idle": "2025-10-21T14:32:47.724411Z",
     "shell.execute_reply": "2025-10-21T14:32:47.724121Z"
    }
   },
   "outputs": [
    {
     "name": "stdout",
     "output_type": "stream",
     "text": [
      "✓ Promoted user 1 in org2 to admin\n"
     ]
    }
   ],
   "source": [
    "memberships.update_row((1, 'org2'), {'role': 'admin'})\n",
    "print(\"✓ Promoted user 1 in org2 to admin\")"
   ]
  },
  {
   "cell_type": "markdown",
   "metadata": {},
   "source": [
    "### Delete with composite key"
   ]
  },
  {
   "cell_type": "code",
   "execution_count": 9,
   "metadata": {
    "execution": {
     "iopub.execute_input": "2025-10-21T14:32:47.725314Z",
     "iopub.status.busy": "2025-10-21T14:32:47.725252Z",
     "iopub.status.idle": "2025-10-21T14:32:47.735480Z",
     "shell.execute_reply": "2025-10-21T14:32:47.735210Z"
    }
   },
   "outputs": [
    {
     "name": "stdout",
     "output_type": "stream",
     "text": [
      "✓ Removed user 2 from org3\n"
     ]
    },
    {
     "data": {
      "text/html": [
       "<div>\n",
       "<style scoped>\n",
       "    .dataframe tbody tr th:only-of-type {\n",
       "        vertical-align: middle;\n",
       "    }\n",
       "\n",
       "    .dataframe tbody tr th {\n",
       "        vertical-align: top;\n",
       "    }\n",
       "\n",
       "    .dataframe thead th {\n",
       "        text-align: right;\n",
       "    }\n",
       "</style>\n",
       "<table border=\"1\" class=\"dataframe\">\n",
       "  <thead>\n",
       "    <tr style=\"text-align: right;\">\n",
       "      <th></th>\n",
       "      <th></th>\n",
       "      <th>role</th>\n",
       "      <th>joined_date</th>\n",
       "    </tr>\n",
       "    <tr>\n",
       "      <th>user_id</th>\n",
       "      <th>org_id</th>\n",
       "      <th></th>\n",
       "      <th></th>\n",
       "    </tr>\n",
       "  </thead>\n",
       "  <tbody>\n",
       "    <tr>\n",
       "      <th rowspan=\"2\" valign=\"top\">1</th>\n",
       "      <th>org1</th>\n",
       "      <td>admin</td>\n",
       "      <td>2024-01-01</td>\n",
       "    </tr>\n",
       "    <tr>\n",
       "      <th>org2</th>\n",
       "      <td>admin</td>\n",
       "      <td>2024-02-15</td>\n",
       "    </tr>\n",
       "    <tr>\n",
       "      <th>2</th>\n",
       "      <th>org1</th>\n",
       "      <td>member</td>\n",
       "      <td>2024-01-10</td>\n",
       "    </tr>\n",
       "    <tr>\n",
       "      <th rowspan=\"2\" valign=\"top\">3</th>\n",
       "      <th>org1</th>\n",
       "      <td>member</td>\n",
       "      <td>2024-01-05</td>\n",
       "    </tr>\n",
       "    <tr>\n",
       "      <th>org2</th>\n",
       "      <td>member</td>\n",
       "      <td>2024-04-01</td>\n",
       "    </tr>\n",
       "  </tbody>\n",
       "</table>\n",
       "</div>"
      ],
      "text/plain": [
       "                  role joined_date\n",
       "user_id org_id                    \n",
       "1       org1     admin  2024-01-01\n",
       "        org2     admin  2024-02-15\n",
       "2       org1    member  2024-01-10\n",
       "3       org1    member  2024-01-05\n",
       "        org2    member  2024-04-01"
      ]
     },
     "execution_count": 9,
     "metadata": {},
     "output_type": "execute_result"
    }
   ],
   "source": [
    "memberships.delete_row((2, 'org3'))\n",
    "print(\"✓ Removed user 2 from org3\")\n",
    "\n",
    "memberships.push()\n",
    "memberships.to_pandas()"
   ]
  },
  {
   "cell_type": "markdown",
   "metadata": {},
   "source": [
    "## Querying with MultiIndex"
   ]
  },
  {
   "cell_type": "markdown",
   "metadata": {},
   "source": [
    "### Get all memberships for a user"
   ]
  },
  {
   "cell_type": "code",
   "execution_count": 10,
   "metadata": {
    "execution": {
     "iopub.execute_input": "2025-10-21T14:32:47.736528Z",
     "iopub.status.busy": "2025-10-21T14:32:47.736467Z",
     "iopub.status.idle": "2025-10-21T14:32:47.739448Z",
     "shell.execute_reply": "2025-10-21T14:32:47.739080Z"
    }
   },
   "outputs": [
    {
     "name": "stdout",
     "output_type": "stream",
     "text": [
      "All orgs for user 1:\n"
     ]
    },
    {
     "data": {
      "text/html": [
       "<div>\n",
       "<style scoped>\n",
       "    .dataframe tbody tr th:only-of-type {\n",
       "        vertical-align: middle;\n",
       "    }\n",
       "\n",
       "    .dataframe tbody tr th {\n",
       "        vertical-align: top;\n",
       "    }\n",
       "\n",
       "    .dataframe thead th {\n",
       "        text-align: right;\n",
       "    }\n",
       "</style>\n",
       "<table border=\"1\" class=\"dataframe\">\n",
       "  <thead>\n",
       "    <tr style=\"text-align: right;\">\n",
       "      <th></th>\n",
       "      <th>role</th>\n",
       "      <th>joined_date</th>\n",
       "    </tr>\n",
       "    <tr>\n",
       "      <th>org_id</th>\n",
       "      <th></th>\n",
       "      <th></th>\n",
       "    </tr>\n",
       "  </thead>\n",
       "  <tbody>\n",
       "    <tr>\n",
       "      <th>org1</th>\n",
       "      <td>admin</td>\n",
       "      <td>2024-01-01</td>\n",
       "    </tr>\n",
       "    <tr>\n",
       "      <th>org2</th>\n",
       "      <td>admin</td>\n",
       "      <td>2024-02-15</td>\n",
       "    </tr>\n",
       "  </tbody>\n",
       "</table>\n",
       "</div>"
      ],
      "text/plain": [
       "         role joined_date\n",
       "org_id                   \n",
       "org1    admin  2024-01-01\n",
       "org2    admin  2024-02-15"
      ]
     },
     "execution_count": 10,
     "metadata": {},
     "output_type": "execute_result"
    }
   ],
   "source": [
    "user_1_orgs = memberships._data.loc[1]\n",
    "print(\"All orgs for user 1:\")\n",
    "user_1_orgs"
   ]
  },
  {
   "cell_type": "markdown",
   "metadata": {},
   "source": [
    "### Get all users in an organization"
   ]
  },
  {
   "cell_type": "code",
   "execution_count": 11,
   "metadata": {
    "execution": {
     "iopub.execute_input": "2025-10-21T14:32:47.740338Z",
     "iopub.status.busy": "2025-10-21T14:32:47.740272Z",
     "iopub.status.idle": "2025-10-21T14:32:47.742810Z",
     "shell.execute_reply": "2025-10-21T14:32:47.742463Z"
    }
   },
   "outputs": [
    {
     "name": "stdout",
     "output_type": "stream",
     "text": [
      "All users in org1:\n"
     ]
    },
    {
     "data": {
      "text/html": [
       "<div>\n",
       "<style scoped>\n",
       "    .dataframe tbody tr th:only-of-type {\n",
       "        vertical-align: middle;\n",
       "    }\n",
       "\n",
       "    .dataframe tbody tr th {\n",
       "        vertical-align: top;\n",
       "    }\n",
       "\n",
       "    .dataframe thead th {\n",
       "        text-align: right;\n",
       "    }\n",
       "</style>\n",
       "<table border=\"1\" class=\"dataframe\">\n",
       "  <thead>\n",
       "    <tr style=\"text-align: right;\">\n",
       "      <th></th>\n",
       "      <th>role</th>\n",
       "      <th>joined_date</th>\n",
       "    </tr>\n",
       "    <tr>\n",
       "      <th>user_id</th>\n",
       "      <th></th>\n",
       "      <th></th>\n",
       "    </tr>\n",
       "  </thead>\n",
       "  <tbody>\n",
       "    <tr>\n",
       "      <th>1</th>\n",
       "      <td>admin</td>\n",
       "      <td>2024-01-01</td>\n",
       "    </tr>\n",
       "    <tr>\n",
       "      <th>2</th>\n",
       "      <td>member</td>\n",
       "      <td>2024-01-10</td>\n",
       "    </tr>\n",
       "    <tr>\n",
       "      <th>3</th>\n",
       "      <td>member</td>\n",
       "      <td>2024-01-05</td>\n",
       "    </tr>\n",
       "  </tbody>\n",
       "</table>\n",
       "</div>"
      ],
      "text/plain": [
       "           role joined_date\n",
       "user_id                    \n",
       "1         admin  2024-01-01\n",
       "2        member  2024-01-10\n",
       "3        member  2024-01-05"
      ]
     },
     "execution_count": 11,
     "metadata": {},
     "output_type": "execute_result"
    }
   ],
   "source": [
    "org1_users = memberships._data.xs('org1', level='org_id')\n",
    "print(\"All users in org1:\")\n",
    "org1_users"
   ]
  },
  {
   "cell_type": "markdown",
   "metadata": {},
   "source": [
    "### Filter by role"
   ]
  },
  {
   "cell_type": "code",
   "execution_count": 12,
   "metadata": {
    "execution": {
     "iopub.execute_input": "2025-10-21T14:32:47.743999Z",
     "iopub.status.busy": "2025-10-21T14:32:47.743919Z",
     "iopub.status.idle": "2025-10-21T14:32:47.747134Z",
     "shell.execute_reply": "2025-10-21T14:32:47.746828Z"
    }
   },
   "outputs": [
    {
     "name": "stdout",
     "output_type": "stream",
     "text": [
      "All admin memberships:\n"
     ]
    },
    {
     "data": {
      "text/html": [
       "<div>\n",
       "<style scoped>\n",
       "    .dataframe tbody tr th:only-of-type {\n",
       "        vertical-align: middle;\n",
       "    }\n",
       "\n",
       "    .dataframe tbody tr th {\n",
       "        vertical-align: top;\n",
       "    }\n",
       "\n",
       "    .dataframe thead th {\n",
       "        text-align: right;\n",
       "    }\n",
       "</style>\n",
       "<table border=\"1\" class=\"dataframe\">\n",
       "  <thead>\n",
       "    <tr style=\"text-align: right;\">\n",
       "      <th></th>\n",
       "      <th></th>\n",
       "      <th>role</th>\n",
       "      <th>joined_date</th>\n",
       "    </tr>\n",
       "    <tr>\n",
       "      <th>user_id</th>\n",
       "      <th>org_id</th>\n",
       "      <th></th>\n",
       "      <th></th>\n",
       "    </tr>\n",
       "  </thead>\n",
       "  <tbody>\n",
       "    <tr>\n",
       "      <th rowspan=\"2\" valign=\"top\">1</th>\n",
       "      <th>org1</th>\n",
       "      <td>admin</td>\n",
       "      <td>2024-01-01</td>\n",
       "    </tr>\n",
       "    <tr>\n",
       "      <th>org2</th>\n",
       "      <td>admin</td>\n",
       "      <td>2024-02-15</td>\n",
       "    </tr>\n",
       "  </tbody>\n",
       "</table>\n",
       "</div>"
      ],
      "text/plain": [
       "                 role joined_date\n",
       "user_id org_id                   \n",
       "1       org1    admin  2024-01-01\n",
       "        org2    admin  2024-02-15"
      ]
     },
     "execution_count": 12,
     "metadata": {},
     "output_type": "execute_result"
    }
   ],
   "source": [
    "admins = memberships._data[memberships._data['role'] == 'admin']\n",
    "print(\"All admin memberships:\")\n",
    "admins"
   ]
  },
  {
   "cell_type": "markdown",
   "metadata": {},
   "source": [
    "## Real-World Example: Student Enrollments"
   ]
  },
  {
   "cell_type": "code",
   "execution_count": 13,
   "metadata": {
    "execution": {
     "iopub.execute_input": "2025-10-21T14:32:47.748097Z",
     "iopub.status.busy": "2025-10-21T14:32:47.748046Z",
     "iopub.status.idle": "2025-10-21T14:32:47.755597Z",
     "shell.execute_reply": "2025-10-21T14:32:47.755292Z"
    }
   },
   "outputs": [
    {
     "name": "stdout",
     "output_type": "stream",
     "text": [
      "✓ Created enrollments table:\n"
     ]
    },
    {
     "data": {
      "text/html": [
       "<div>\n",
       "<style scoped>\n",
       "    .dataframe tbody tr th:only-of-type {\n",
       "        vertical-align: middle;\n",
       "    }\n",
       "\n",
       "    .dataframe tbody tr th {\n",
       "        vertical-align: top;\n",
       "    }\n",
       "\n",
       "    .dataframe thead th {\n",
       "        text-align: right;\n",
       "    }\n",
       "</style>\n",
       "<table border=\"1\" class=\"dataframe\">\n",
       "  <thead>\n",
       "    <tr style=\"text-align: right;\">\n",
       "      <th></th>\n",
       "      <th></th>\n",
       "      <th>grade</th>\n",
       "      <th>semester</th>\n",
       "    </tr>\n",
       "    <tr>\n",
       "      <th>student_id</th>\n",
       "      <th>course_id</th>\n",
       "      <th></th>\n",
       "      <th></th>\n",
       "    </tr>\n",
       "  </thead>\n",
       "  <tbody>\n",
       "    <tr>\n",
       "      <th rowspan=\"2\" valign=\"top\">101</th>\n",
       "      <th>CS101</th>\n",
       "      <td>A</td>\n",
       "      <td>Fall2024</td>\n",
       "    </tr>\n",
       "    <tr>\n",
       "      <th>MATH200</th>\n",
       "      <td>B+</td>\n",
       "      <td>Fall2024</td>\n",
       "    </tr>\n",
       "    <tr>\n",
       "      <th rowspan=\"2\" valign=\"top\">102</th>\n",
       "      <th>CS101</th>\n",
       "      <td>A-</td>\n",
       "      <td>Fall2024</td>\n",
       "    </tr>\n",
       "    <tr>\n",
       "      <th>ENG150</th>\n",
       "      <td>B</td>\n",
       "      <td>Fall2024</td>\n",
       "    </tr>\n",
       "    <tr>\n",
       "      <th rowspan=\"2\" valign=\"top\">103</th>\n",
       "      <th>MATH200</th>\n",
       "      <td>A</td>\n",
       "      <td>Fall2024</td>\n",
       "    </tr>\n",
       "    <tr>\n",
       "      <th>CS101</th>\n",
       "      <td>A</td>\n",
       "      <td>Fall2024</td>\n",
       "    </tr>\n",
       "  </tbody>\n",
       "</table>\n",
       "</div>"
      ],
      "text/plain": [
       "                     grade  semester\n",
       "student_id course_id                \n",
       "101        CS101         A  Fall2024\n",
       "           MATH200      B+  Fall2024\n",
       "102        CS101        A-  Fall2024\n",
       "           ENG150        B  Fall2024\n",
       "103        MATH200       A  Fall2024\n",
       "           CS101         A  Fall2024"
      ]
     },
     "execution_count": 13,
     "metadata": {},
     "output_type": "execute_result"
    }
   ],
   "source": [
    "enrollments_data = pd.DataFrame({\n",
    "    'student_id': [101, 101, 102, 102, 103, 103],\n",
    "    'course_id': ['CS101', 'MATH200', 'CS101', 'ENG150', 'MATH200', 'CS101'],\n",
    "    'grade': ['A', 'B+', 'A-', 'B', 'A', 'A'],\n",
    "    'semester': ['Fall2024', 'Fall2024', 'Fall2024', 'Fall2024', 'Fall2024', 'Fall2024']\n",
    "})\n",
    "\n",
    "enrollments = db.create_table('enrollments', enrollments_data,\n",
    "                               primary_key=['student_id', 'course_id'])\n",
    "\n",
    "print(\"✓ Created enrollments table:\")\n",
    "enrollments.to_pandas()"
   ]
  },
  {
   "cell_type": "markdown",
   "metadata": {},
   "source": [
    "### Student transcript (all courses for a student)"
   ]
  },
  {
   "cell_type": "code",
   "execution_count": 14,
   "metadata": {
    "execution": {
     "iopub.execute_input": "2025-10-21T14:32:47.756507Z",
     "iopub.status.busy": "2025-10-21T14:32:47.756451Z",
     "iopub.status.idle": "2025-10-21T14:32:47.759094Z",
     "shell.execute_reply": "2025-10-21T14:32:47.758746Z"
    }
   },
   "outputs": [
    {
     "name": "stdout",
     "output_type": "stream",
     "text": [
      "Student 101 transcript:\n"
     ]
    },
    {
     "data": {
      "text/html": [
       "<div>\n",
       "<style scoped>\n",
       "    .dataframe tbody tr th:only-of-type {\n",
       "        vertical-align: middle;\n",
       "    }\n",
       "\n",
       "    .dataframe tbody tr th {\n",
       "        vertical-align: top;\n",
       "    }\n",
       "\n",
       "    .dataframe thead th {\n",
       "        text-align: right;\n",
       "    }\n",
       "</style>\n",
       "<table border=\"1\" class=\"dataframe\">\n",
       "  <thead>\n",
       "    <tr style=\"text-align: right;\">\n",
       "      <th></th>\n",
       "      <th>grade</th>\n",
       "      <th>semester</th>\n",
       "    </tr>\n",
       "    <tr>\n",
       "      <th>course_id</th>\n",
       "      <th></th>\n",
       "      <th></th>\n",
       "    </tr>\n",
       "  </thead>\n",
       "  <tbody>\n",
       "    <tr>\n",
       "      <th>CS101</th>\n",
       "      <td>A</td>\n",
       "      <td>Fall2024</td>\n",
       "    </tr>\n",
       "    <tr>\n",
       "      <th>MATH200</th>\n",
       "      <td>B+</td>\n",
       "      <td>Fall2024</td>\n",
       "    </tr>\n",
       "  </tbody>\n",
       "</table>\n",
       "</div>"
      ],
      "text/plain": [
       "          grade  semester\n",
       "course_id                \n",
       "CS101         A  Fall2024\n",
       "MATH200      B+  Fall2024"
      ]
     },
     "execution_count": 14,
     "metadata": {},
     "output_type": "execute_result"
    }
   ],
   "source": [
    "transcript = enrollments._data.loc[101]\n",
    "print(\"Student 101 transcript:\")\n",
    "transcript[['grade', 'semester']]"
   ]
  },
  {
   "cell_type": "markdown",
   "metadata": {},
   "source": [
    "### Course roster (all students in a course)"
   ]
  },
  {
   "cell_type": "code",
   "execution_count": 15,
   "metadata": {
    "execution": {
     "iopub.execute_input": "2025-10-21T14:32:47.760268Z",
     "iopub.status.busy": "2025-10-21T14:32:47.760192Z",
     "iopub.status.idle": "2025-10-21T14:32:47.763398Z",
     "shell.execute_reply": "2025-10-21T14:32:47.763097Z"
    }
   },
   "outputs": [
    {
     "name": "stdout",
     "output_type": "stream",
     "text": [
      "CS101 roster:\n"
     ]
    },
    {
     "data": {
      "text/html": [
       "<div>\n",
       "<style scoped>\n",
       "    .dataframe tbody tr th:only-of-type {\n",
       "        vertical-align: middle;\n",
       "    }\n",
       "\n",
       "    .dataframe tbody tr th {\n",
       "        vertical-align: top;\n",
       "    }\n",
       "\n",
       "    .dataframe thead th {\n",
       "        text-align: right;\n",
       "    }\n",
       "</style>\n",
       "<table border=\"1\" class=\"dataframe\">\n",
       "  <thead>\n",
       "    <tr style=\"text-align: right;\">\n",
       "      <th></th>\n",
       "      <th>grade</th>\n",
       "      <th>semester</th>\n",
       "    </tr>\n",
       "    <tr>\n",
       "      <th>student_id</th>\n",
       "      <th></th>\n",
       "      <th></th>\n",
       "    </tr>\n",
       "  </thead>\n",
       "  <tbody>\n",
       "    <tr>\n",
       "      <th>101</th>\n",
       "      <td>A</td>\n",
       "      <td>Fall2024</td>\n",
       "    </tr>\n",
       "    <tr>\n",
       "      <th>102</th>\n",
       "      <td>A-</td>\n",
       "      <td>Fall2024</td>\n",
       "    </tr>\n",
       "    <tr>\n",
       "      <th>103</th>\n",
       "      <td>A</td>\n",
       "      <td>Fall2024</td>\n",
       "    </tr>\n",
       "  </tbody>\n",
       "</table>\n",
       "</div>"
      ],
      "text/plain": [
       "           grade  semester\n",
       "student_id                \n",
       "101            A  Fall2024\n",
       "102           A-  Fall2024\n",
       "103            A  Fall2024"
      ]
     },
     "execution_count": 15,
     "metadata": {},
     "output_type": "execute_result"
    }
   ],
   "source": [
    "roster = enrollments._data.xs('CS101', level='course_id')\n",
    "print(\"CS101 roster:\")\n",
    "roster[['grade', 'semester']]"
   ]
  },
  {
   "cell_type": "markdown",
   "metadata": {},
   "source": [
    "### Update a grade"
   ]
  },
  {
   "cell_type": "code",
   "execution_count": 16,
   "metadata": {
    "execution": {
     "iopub.execute_input": "2025-10-21T14:32:47.764409Z",
     "iopub.status.busy": "2025-10-21T14:32:47.764357Z",
     "iopub.status.idle": "2025-10-21T14:32:47.772410Z",
     "shell.execute_reply": "2025-10-21T14:32:47.772114Z"
    }
   },
   "outputs": [
    {
     "name": "stdout",
     "output_type": "stream",
     "text": [
      "✓ Grade updated to A\n"
     ]
    },
    {
     "data": {
      "text/html": [
       "<div>\n",
       "<style scoped>\n",
       "    .dataframe tbody tr th:only-of-type {\n",
       "        vertical-align: middle;\n",
       "    }\n",
       "\n",
       "    .dataframe tbody tr th {\n",
       "        vertical-align: top;\n",
       "    }\n",
       "\n",
       "    .dataframe thead th {\n",
       "        text-align: right;\n",
       "    }\n",
       "</style>\n",
       "<table border=\"1\" class=\"dataframe\">\n",
       "  <thead>\n",
       "    <tr style=\"text-align: right;\">\n",
       "      <th></th>\n",
       "      <th></th>\n",
       "      <th>grade</th>\n",
       "      <th>semester</th>\n",
       "    </tr>\n",
       "    <tr>\n",
       "      <th>student_id</th>\n",
       "      <th>course_id</th>\n",
       "      <th></th>\n",
       "      <th></th>\n",
       "    </tr>\n",
       "  </thead>\n",
       "  <tbody>\n",
       "    <tr>\n",
       "      <th rowspan=\"2\" valign=\"top\">101</th>\n",
       "      <th>CS101</th>\n",
       "      <td>A</td>\n",
       "      <td>Fall2024</td>\n",
       "    </tr>\n",
       "    <tr>\n",
       "      <th>MATH200</th>\n",
       "      <td>B+</td>\n",
       "      <td>Fall2024</td>\n",
       "    </tr>\n",
       "    <tr>\n",
       "      <th rowspan=\"2\" valign=\"top\">102</th>\n",
       "      <th>CS101</th>\n",
       "      <td>A</td>\n",
       "      <td>Fall2024</td>\n",
       "    </tr>\n",
       "    <tr>\n",
       "      <th>ENG150</th>\n",
       "      <td>B</td>\n",
       "      <td>Fall2024</td>\n",
       "    </tr>\n",
       "    <tr>\n",
       "      <th rowspan=\"2\" valign=\"top\">103</th>\n",
       "      <th>MATH200</th>\n",
       "      <td>A</td>\n",
       "      <td>Fall2024</td>\n",
       "    </tr>\n",
       "    <tr>\n",
       "      <th>CS101</th>\n",
       "      <td>A</td>\n",
       "      <td>Fall2024</td>\n",
       "    </tr>\n",
       "  </tbody>\n",
       "</table>\n",
       "</div>"
      ],
      "text/plain": [
       "                     grade  semester\n",
       "student_id course_id                \n",
       "101        CS101         A  Fall2024\n",
       "           MATH200      B+  Fall2024\n",
       "102        CS101         A  Fall2024\n",
       "           ENG150        B  Fall2024\n",
       "103        MATH200       A  Fall2024\n",
       "           CS101         A  Fall2024"
      ]
     },
     "execution_count": 16,
     "metadata": {},
     "output_type": "execute_result"
    }
   ],
   "source": [
    "enrollments.update_row((102, 'CS101'), {'grade': 'A'})\n",
    "enrollments.push()\n",
    "print(\"✓ Grade updated to A\")\n",
    "\n",
    "enrollments.to_pandas()"
   ]
  },
  {
   "cell_type": "markdown",
   "metadata": {},
   "source": [
    "## Three-Column Composite Keys\n",
    "Time-series data with server, metric, and timestamp"
   ]
  },
  {
   "cell_type": "code",
   "execution_count": 17,
   "metadata": {
    "execution": {
     "iopub.execute_input": "2025-10-21T14:32:47.773331Z",
     "iopub.status.busy": "2025-10-21T14:32:47.773268Z",
     "iopub.status.idle": "2025-10-21T14:32:47.783946Z",
     "shell.execute_reply": "2025-10-21T14:32:47.783596Z"
    }
   },
   "outputs": [
    {
     "name": "stdout",
     "output_type": "stream",
     "text": [
      "✓ Created metrics table with 3-column PK:\n"
     ]
    },
    {
     "data": {
      "text/html": [
       "<div>\n",
       "<style scoped>\n",
       "    .dataframe tbody tr th:only-of-type {\n",
       "        vertical-align: middle;\n",
       "    }\n",
       "\n",
       "    .dataframe tbody tr th {\n",
       "        vertical-align: top;\n",
       "    }\n",
       "\n",
       "    .dataframe thead th {\n",
       "        text-align: right;\n",
       "    }\n",
       "</style>\n",
       "<table border=\"1\" class=\"dataframe\">\n",
       "  <thead>\n",
       "    <tr style=\"text-align: right;\">\n",
       "      <th></th>\n",
       "      <th></th>\n",
       "      <th></th>\n",
       "      <th>value</th>\n",
       "    </tr>\n",
       "    <tr>\n",
       "      <th>server_id</th>\n",
       "      <th>metric_name</th>\n",
       "      <th>timestamp</th>\n",
       "      <th></th>\n",
       "    </tr>\n",
       "  </thead>\n",
       "  <tbody>\n",
       "    <tr>\n",
       "      <th rowspan=\"2\" valign=\"top\">srv1</th>\n",
       "      <th>cpu</th>\n",
       "      <th>2024-01-01 10:00</th>\n",
       "      <td>45.2</td>\n",
       "    </tr>\n",
       "    <tr>\n",
       "      <th>memory</th>\n",
       "      <th>2024-01-01 10:00</th>\n",
       "      <td>62.1</td>\n",
       "    </tr>\n",
       "    <tr>\n",
       "      <th rowspan=\"2\" valign=\"top\">srv2</th>\n",
       "      <th>cpu</th>\n",
       "      <th>2024-01-01 10:00</th>\n",
       "      <td>78.3</td>\n",
       "    </tr>\n",
       "    <tr>\n",
       "      <th>memory</th>\n",
       "      <th>2024-01-01 10:00</th>\n",
       "      <td>45.8</td>\n",
       "    </tr>\n",
       "    <tr>\n",
       "      <th>srv1</th>\n",
       "      <th>cpu</th>\n",
       "      <th>2024-01-01 10:05</th>\n",
       "      <td>48.1</td>\n",
       "    </tr>\n",
       "    <tr>\n",
       "      <th>srv2</th>\n",
       "      <th>memory</th>\n",
       "      <th>2024-01-01 10:05</th>\n",
       "      <td>67.2</td>\n",
       "    </tr>\n",
       "  </tbody>\n",
       "</table>\n",
       "</div>"
      ],
      "text/plain": [
       "                                        value\n",
       "server_id metric_name timestamp              \n",
       "srv1      cpu         2024-01-01 10:00   45.2\n",
       "          memory      2024-01-01 10:00   62.1\n",
       "srv2      cpu         2024-01-01 10:00   78.3\n",
       "          memory      2024-01-01 10:00   45.8\n",
       "srv1      cpu         2024-01-01 10:05   48.1\n",
       "srv2      memory      2024-01-01 10:05   67.2"
      ]
     },
     "execution_count": 17,
     "metadata": {},
     "output_type": "execute_result"
    }
   ],
   "source": [
    "metrics_data = pd.DataFrame({\n",
    "    'server_id': ['srv1', 'srv1', 'srv2', 'srv2', 'srv1', 'srv2'],\n",
    "    'metric_name': ['cpu', 'memory', 'cpu', 'memory', 'cpu', 'memory'],\n",
    "    'timestamp': ['2024-01-01 10:00', '2024-01-01 10:00', \n",
    "                  '2024-01-01 10:00', '2024-01-01 10:00',\n",
    "                  '2024-01-01 10:05', '2024-01-01 10:05'],\n",
    "    'value': [45.2, 62.1, 78.3, 45.8, 48.1, 67.2]\n",
    "})\n",
    "\n",
    "metrics = db.create_table('metrics', metrics_data,\n",
    "                           primary_key=['server_id', 'metric_name', 'timestamp'])\n",
    "\n",
    "print(\"✓ Created metrics table with 3-column PK:\")\n",
    "metrics.to_pandas()"
   ]
  },
  {
   "cell_type": "code",
   "execution_count": 18,
   "metadata": {
    "execution": {
     "iopub.execute_input": "2025-10-21T14:32:47.784899Z",
     "iopub.status.busy": "2025-10-21T14:32:47.784830Z",
     "iopub.status.idle": "2025-10-21T14:32:47.786440Z",
     "shell.execute_reply": "2025-10-21T14:32:47.786173Z"
    }
   },
   "outputs": [
    {
     "name": "stdout",
     "output_type": "stream",
     "text": [
      "srv1 CPU at 10:00: 45.2\n"
     ]
    }
   ],
   "source": [
    "# Access with 3-tuple\n",
    "cpu_metric = metrics.get_row(('srv1', 'cpu', '2024-01-01 10:00'))\n",
    "print(f\"srv1 CPU at 10:00: {cpu_metric['value']}\")"
   ]
  },
  {
   "cell_type": "code",
   "execution_count": 19,
   "metadata": {
    "execution": {
     "iopub.execute_input": "2025-10-21T14:32:47.787314Z",
     "iopub.status.busy": "2025-10-21T14:32:47.787266Z",
     "iopub.status.idle": "2025-10-21T14:32:47.795644Z",
     "shell.execute_reply": "2025-10-21T14:32:47.795228Z"
    }
   },
   "outputs": [
    {
     "data": {
      "text/html": [
       "<div>\n",
       "<style scoped>\n",
       "    .dataframe tbody tr th:only-of-type {\n",
       "        vertical-align: middle;\n",
       "    }\n",
       "\n",
       "    .dataframe tbody tr th {\n",
       "        vertical-align: top;\n",
       "    }\n",
       "\n",
       "    .dataframe thead th {\n",
       "        text-align: right;\n",
       "    }\n",
       "</style>\n",
       "<table border=\"1\" class=\"dataframe\">\n",
       "  <thead>\n",
       "    <tr style=\"text-align: right;\">\n",
       "      <th></th>\n",
       "      <th></th>\n",
       "      <th></th>\n",
       "      <th>value</th>\n",
       "    </tr>\n",
       "    <tr>\n",
       "      <th>server_id</th>\n",
       "      <th>metric_name</th>\n",
       "      <th>timestamp</th>\n",
       "      <th></th>\n",
       "    </tr>\n",
       "  </thead>\n",
       "  <tbody>\n",
       "    <tr>\n",
       "      <th rowspan=\"2\" valign=\"top\">srv1</th>\n",
       "      <th>cpu</th>\n",
       "      <th>2024-01-01 10:00</th>\n",
       "      <td>45.2</td>\n",
       "    </tr>\n",
       "    <tr>\n",
       "      <th>memory</th>\n",
       "      <th>2024-01-01 10:00</th>\n",
       "      <td>62.1</td>\n",
       "    </tr>\n",
       "    <tr>\n",
       "      <th rowspan=\"2\" valign=\"top\">srv2</th>\n",
       "      <th>cpu</th>\n",
       "      <th>2024-01-01 10:00</th>\n",
       "      <td>78.3</td>\n",
       "    </tr>\n",
       "    <tr>\n",
       "      <th>memory</th>\n",
       "      <th>2024-01-01 10:00</th>\n",
       "      <td>45.8</td>\n",
       "    </tr>\n",
       "    <tr>\n",
       "      <th>srv1</th>\n",
       "      <th>cpu</th>\n",
       "      <th>2024-01-01 10:05</th>\n",
       "      <td>48.1</td>\n",
       "    </tr>\n",
       "    <tr>\n",
       "      <th>srv2</th>\n",
       "      <th>memory</th>\n",
       "      <th>2024-01-01 10:05</th>\n",
       "      <td>67.2</td>\n",
       "    </tr>\n",
       "    <tr>\n",
       "      <th>srv1</th>\n",
       "      <th>disk</th>\n",
       "      <th>2024-01-01 10:00</th>\n",
       "      <td>82.5</td>\n",
       "    </tr>\n",
       "  </tbody>\n",
       "</table>\n",
       "</div>"
      ],
      "text/plain": [
       "                                        value\n",
       "server_id metric_name timestamp              \n",
       "srv1      cpu         2024-01-01 10:00   45.2\n",
       "          memory      2024-01-01 10:00   62.1\n",
       "srv2      cpu         2024-01-01 10:00   78.3\n",
       "          memory      2024-01-01 10:00   45.8\n",
       "srv1      cpu         2024-01-01 10:05   48.1\n",
       "srv2      memory      2024-01-01 10:05   67.2\n",
       "srv1      disk        2024-01-01 10:00   82.5"
      ]
     },
     "execution_count": 19,
     "metadata": {},
     "output_type": "execute_result"
    }
   ],
   "source": [
    "# Add new metric\n",
    "metrics.add_row({\n",
    "    'server_id': 'srv1',\n",
    "    'metric_name': 'disk',\n",
    "    'timestamp': '2024-01-01 10:00',\n",
    "    'value': 82.5\n",
    "})\n",
    "metrics.push()\n",
    "\n",
    "metrics.to_pandas()"
   ]
  },
  {
   "cell_type": "markdown",
   "metadata": {},
   "source": [
    "## Bulk Operations with Composite Keys"
   ]
  },
  {
   "cell_type": "code",
   "execution_count": 20,
   "metadata": {
    "execution": {
     "iopub.execute_input": "2025-10-21T14:32:47.796633Z",
     "iopub.status.busy": "2025-10-21T14:32:47.796580Z",
     "iopub.status.idle": "2025-10-21T14:32:47.807566Z",
     "shell.execute_reply": "2025-10-21T14:32:47.807178Z"
    }
   },
   "outputs": [
    {
     "name": "stdout",
     "output_type": "stream",
     "text": [
      "✓ Added 3 memberships\n",
      "Total memberships: 8\n"
     ]
    },
    {
     "data": {
      "text/html": [
       "<div>\n",
       "<style scoped>\n",
       "    .dataframe tbody tr th:only-of-type {\n",
       "        vertical-align: middle;\n",
       "    }\n",
       "\n",
       "    .dataframe tbody tr th {\n",
       "        vertical-align: top;\n",
       "    }\n",
       "\n",
       "    .dataframe thead th {\n",
       "        text-align: right;\n",
       "    }\n",
       "</style>\n",
       "<table border=\"1\" class=\"dataframe\">\n",
       "  <thead>\n",
       "    <tr style=\"text-align: right;\">\n",
       "      <th></th>\n",
       "      <th></th>\n",
       "      <th>role</th>\n",
       "      <th>joined_date</th>\n",
       "    </tr>\n",
       "    <tr>\n",
       "      <th>user_id</th>\n",
       "      <th>org_id</th>\n",
       "      <th></th>\n",
       "      <th></th>\n",
       "    </tr>\n",
       "  </thead>\n",
       "  <tbody>\n",
       "    <tr>\n",
       "      <th rowspan=\"2\" valign=\"top\">1</th>\n",
       "      <th>org1</th>\n",
       "      <td>admin</td>\n",
       "      <td>2024-01-01</td>\n",
       "    </tr>\n",
       "    <tr>\n",
       "      <th>org2</th>\n",
       "      <td>admin</td>\n",
       "      <td>2024-02-15</td>\n",
       "    </tr>\n",
       "    <tr>\n",
       "      <th>2</th>\n",
       "      <th>org1</th>\n",
       "      <td>member</td>\n",
       "      <td>2024-01-10</td>\n",
       "    </tr>\n",
       "    <tr>\n",
       "      <th rowspan=\"2\" valign=\"top\">3</th>\n",
       "      <th>org1</th>\n",
       "      <td>member</td>\n",
       "      <td>2024-01-05</td>\n",
       "    </tr>\n",
       "    <tr>\n",
       "      <th>org2</th>\n",
       "      <td>member</td>\n",
       "      <td>2024-04-01</td>\n",
       "    </tr>\n",
       "    <tr>\n",
       "      <th>4</th>\n",
       "      <th>org1</th>\n",
       "      <td>member</td>\n",
       "      <td>2024-05-01</td>\n",
       "    </tr>\n",
       "    <tr>\n",
       "      <th>5</th>\n",
       "      <th>org1</th>\n",
       "      <td>member</td>\n",
       "      <td>2024-06-01</td>\n",
       "    </tr>\n",
       "    <tr>\n",
       "      <th>4</th>\n",
       "      <th>org2</th>\n",
       "      <td>admin</td>\n",
       "      <td>2024-05-15</td>\n",
       "    </tr>\n",
       "  </tbody>\n",
       "</table>\n",
       "</div>"
      ],
      "text/plain": [
       "                  role joined_date\n",
       "user_id org_id                    \n",
       "1       org1     admin  2024-01-01\n",
       "        org2     admin  2024-02-15\n",
       "2       org1    member  2024-01-10\n",
       "3       org1    member  2024-01-05\n",
       "        org2    member  2024-04-01\n",
       "4       org1    member  2024-05-01\n",
       "5       org1    member  2024-06-01\n",
       "4       org2     admin  2024-05-15"
      ]
     },
     "execution_count": 20,
     "metadata": {},
     "output_type": "execute_result"
    }
   ],
   "source": [
    "new_memberships = [\n",
    "    {'user_id': 4, 'org_id': 'org1', 'role': 'member', 'joined_date': '2024-05-01'},\n",
    "    {'user_id': 4, 'org_id': 'org2', 'role': 'admin', 'joined_date': '2024-05-15'},\n",
    "    {'user_id': 5, 'org_id': 'org1', 'role': 'member', 'joined_date': '2024-06-01'},\n",
    "]\n",
    "\n",
    "for membership in new_memberships:\n",
    "    memberships.add_row(membership)\n",
    "\n",
    "memberships.push()\n",
    "print(f\"✓ Added {len(new_memberships)} memberships\")\n",
    "print(f\"Total memberships: {len(memberships._data)}\")\n",
    "\n",
    "memberships.to_pandas()"
   ]
  },
  {
   "cell_type": "markdown",
   "metadata": {},
   "source": [
    "## Conditional Operations with Composite Keys"
   ]
  },
  {
   "cell_type": "code",
   "execution_count": 21,
   "metadata": {
    "execution": {
     "iopub.execute_input": "2025-10-21T14:32:47.808634Z",
     "iopub.status.busy": "2025-10-21T14:32:47.808555Z",
     "iopub.status.idle": "2025-10-21T14:32:47.812761Z",
     "shell.execute_reply": "2025-10-21T14:32:47.812453Z"
    }
   },
   "outputs": [
    {
     "name": "stdout",
     "output_type": "stream",
     "text": [
      "✓ Promoted all members in org1 to contributors\n"
     ]
    }
   ],
   "source": [
    "# Update all members in org1 to contributors\n",
    "memberships.update_where(\n",
    "    (memberships._data.index.get_level_values('org_id') == 'org1') & \n",
    "    (memberships._data['role'] == 'member'),\n",
    "    {'role': 'contributor'}\n",
    ")\n",
    "\n",
    "print(\"✓ Promoted all members in org1 to contributors\")"
   ]
  },
  {
   "cell_type": "code",
   "execution_count": 22,
   "metadata": {
    "execution": {
     "iopub.execute_input": "2025-10-21T14:32:47.813625Z",
     "iopub.status.busy": "2025-10-21T14:32:47.813573Z",
     "iopub.status.idle": "2025-10-21T14:32:47.822293Z",
     "shell.execute_reply": "2025-10-21T14:32:47.821879Z"
    }
   },
   "outputs": [
    {
     "name": "stdout",
     "output_type": "stream",
     "text": [
      "✓ Deleted 3 old memberships\n"
     ]
    },
    {
     "data": {
      "text/html": [
       "<div>\n",
       "<style scoped>\n",
       "    .dataframe tbody tr th:only-of-type {\n",
       "        vertical-align: middle;\n",
       "    }\n",
       "\n",
       "    .dataframe tbody tr th {\n",
       "        vertical-align: top;\n",
       "    }\n",
       "\n",
       "    .dataframe thead th {\n",
       "        text-align: right;\n",
       "    }\n",
       "</style>\n",
       "<table border=\"1\" class=\"dataframe\">\n",
       "  <thead>\n",
       "    <tr style=\"text-align: right;\">\n",
       "      <th></th>\n",
       "      <th></th>\n",
       "      <th>role</th>\n",
       "      <th>joined_date</th>\n",
       "    </tr>\n",
       "    <tr>\n",
       "      <th>user_id</th>\n",
       "      <th>org_id</th>\n",
       "      <th></th>\n",
       "      <th></th>\n",
       "    </tr>\n",
       "  </thead>\n",
       "  <tbody>\n",
       "    <tr>\n",
       "      <th>1</th>\n",
       "      <th>org2</th>\n",
       "      <td>admin</td>\n",
       "      <td>2024-02-15</td>\n",
       "    </tr>\n",
       "    <tr>\n",
       "      <th>3</th>\n",
       "      <th>org2</th>\n",
       "      <td>member</td>\n",
       "      <td>2024-04-01</td>\n",
       "    </tr>\n",
       "    <tr>\n",
       "      <th>4</th>\n",
       "      <th>org1</th>\n",
       "      <td>contributor</td>\n",
       "      <td>2024-05-01</td>\n",
       "    </tr>\n",
       "    <tr>\n",
       "      <th>5</th>\n",
       "      <th>org1</th>\n",
       "      <td>contributor</td>\n",
       "      <td>2024-06-01</td>\n",
       "    </tr>\n",
       "    <tr>\n",
       "      <th>4</th>\n",
       "      <th>org2</th>\n",
       "      <td>admin</td>\n",
       "      <td>2024-05-15</td>\n",
       "    </tr>\n",
       "  </tbody>\n",
       "</table>\n",
       "</div>"
      ],
      "text/plain": [
       "                       role joined_date\n",
       "user_id org_id                         \n",
       "1       org2          admin  2024-02-15\n",
       "3       org2         member  2024-04-01\n",
       "4       org1    contributor  2024-05-01\n",
       "5       org1    contributor  2024-06-01\n",
       "4       org2          admin  2024-05-15"
      ]
     },
     "execution_count": 22,
     "metadata": {},
     "output_type": "execute_result"
    }
   ],
   "source": [
    "# Delete old memberships\n",
    "old_count = memberships.delete_where(\n",
    "    memberships._data['joined_date'] < '2024-02-01'\n",
    ")\n",
    "print(f\"✓ Deleted {old_count} old memberships\")\n",
    "\n",
    "memberships.push()\n",
    "memberships.to_pandas()"
   ]
  },
  {
   "cell_type": "markdown",
   "metadata": {},
   "source": [
    "## Summary\n",
    "\n",
    "**Key Takeaways:**\n",
    "- Composite PKs use pandas MultiIndex\n",
    "- Access rows with tuples: `(key1, key2)` or `(key1, key2, key3)`\n",
    "- Use `.loc[key1]` for single level access\n",
    "- Use `.xs(value, level='name')` for cross-sections\n",
    "- Perfect for many-to-many relationships\n",
    "- All CRUD operations work with tuple keys\n",
    "- Conditional operations work with composite keys"
   ]
  }
 ],
 "metadata": {
  "kernelspec": {
   "display_name": "Python 3",
   "language": "python",
   "name": "python3"
  },
  "language_info": {
   "codemirror_mode": {
    "name": "ipython",
    "version": 3
   },
   "file_extension": ".py",
   "mimetype": "text/x-python",
   "name": "python",
   "nbconvert_exporter": "python",
   "pygments_lexer": "ipython3",
   "version": "3.11.13"
  }
 },
 "nbformat": 4,
 "nbformat_minor": 4
}
