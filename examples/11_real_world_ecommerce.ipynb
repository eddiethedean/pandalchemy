{
 "cells": [
  {
   "cell_type": "markdown",
   "metadata": {},
   "source": [
    "# E-Commerce System\n",
    "\n",
    "This notebook demonstrates a complete e-commerce workflow with multi-table transactions"
   ]
  },
  {
   "cell_type": "code",
   "execution_count": 1,
   "metadata": {
    "execution": {
     "iopub.execute_input": "2025-10-21T14:33:09.308433Z",
     "iopub.status.busy": "2025-10-21T14:33:09.308278Z",
     "iopub.status.idle": "2025-10-21T14:33:09.677063Z",
     "shell.execute_reply": "2025-10-21T14:33:09.676627Z"
    }
   },
   "outputs": [],
   "source": [
    "import pandas as pd\n",
    "from datetime import datetime\n",
    "from sqlalchemy import create_engine\n",
    "import pandalchemy as pa"
   ]
  },
  {
   "cell_type": "markdown",
   "metadata": {},
   "source": [
    "## Setup Database"
   ]
  },
  {
   "cell_type": "code",
   "execution_count": 2,
   "metadata": {
    "execution": {
     "iopub.execute_input": "2025-10-21T14:33:09.678527Z",
     "iopub.status.busy": "2025-10-21T14:33:09.678380Z",
     "iopub.status.idle": "2025-10-21T14:33:09.684105Z",
     "shell.execute_reply": "2025-10-21T14:33:09.683644Z"
    }
   },
   "outputs": [],
   "source": [
    "engine = create_engine('sqlite:///:memory:')\n",
    "db = pa.DataBase(engine)"
   ]
  },
  {
   "cell_type": "markdown",
   "metadata": {},
   "source": [
    "### Create Products Table"
   ]
  },
  {
   "cell_type": "code",
   "execution_count": 3,
   "metadata": {
    "execution": {
     "iopub.execute_input": "2025-10-21T14:33:09.685054Z",
     "iopub.status.busy": "2025-10-21T14:33:09.684992Z",
     "iopub.status.idle": "2025-10-21T14:33:09.696519Z",
     "shell.execute_reply": "2025-10-21T14:33:09.696137Z"
    }
   },
   "outputs": [
    {
     "name": "stdout",
     "output_type": "stream",
     "text": [
      "✓ Created products table\n"
     ]
    },
    {
     "data": {
      "text/html": [
       "<div>\n",
       "<style scoped>\n",
       "    .dataframe tbody tr th:only-of-type {\n",
       "        vertical-align: middle;\n",
       "    }\n",
       "\n",
       "    .dataframe tbody tr th {\n",
       "        vertical-align: top;\n",
       "    }\n",
       "\n",
       "    .dataframe thead th {\n",
       "        text-align: right;\n",
       "    }\n",
       "</style>\n",
       "<table border=\"1\" class=\"dataframe\">\n",
       "  <thead>\n",
       "    <tr style=\"text-align: right;\">\n",
       "      <th></th>\n",
       "      <th>name</th>\n",
       "      <th>category</th>\n",
       "      <th>price</th>\n",
       "      <th>stock</th>\n",
       "    </tr>\n",
       "    <tr>\n",
       "      <th>product_id</th>\n",
       "      <th></th>\n",
       "      <th></th>\n",
       "      <th></th>\n",
       "      <th></th>\n",
       "    </tr>\n",
       "  </thead>\n",
       "  <tbody>\n",
       "    <tr>\n",
       "      <th>1</th>\n",
       "      <td>Laptop</td>\n",
       "      <td>Computer</td>\n",
       "      <td>999.99</td>\n",
       "      <td>50</td>\n",
       "    </tr>\n",
       "    <tr>\n",
       "      <th>2</th>\n",
       "      <td>Mouse</td>\n",
       "      <td>Accessory</td>\n",
       "      <td>29.99</td>\n",
       "      <td>200</td>\n",
       "    </tr>\n",
       "    <tr>\n",
       "      <th>3</th>\n",
       "      <td>Keyboard</td>\n",
       "      <td>Accessory</td>\n",
       "      <td>79.99</td>\n",
       "      <td>150</td>\n",
       "    </tr>\n",
       "    <tr>\n",
       "      <th>4</th>\n",
       "      <td>Monitor</td>\n",
       "      <td>Display</td>\n",
       "      <td>299.99</td>\n",
       "      <td>75</td>\n",
       "    </tr>\n",
       "    <tr>\n",
       "      <th>5</th>\n",
       "      <td>Webcam</td>\n",
       "      <td>Accessory</td>\n",
       "      <td>89.99</td>\n",
       "      <td>100</td>\n",
       "    </tr>\n",
       "  </tbody>\n",
       "</table>\n",
       "</div>"
      ],
      "text/plain": [
       "                name   category   price  stock\n",
       "product_id                                    \n",
       "1             Laptop   Computer  999.99     50\n",
       "2              Mouse  Accessory   29.99    200\n",
       "3           Keyboard  Accessory   79.99    150\n",
       "4            Monitor    Display  299.99     75\n",
       "5             Webcam  Accessory   89.99    100"
      ]
     },
     "execution_count": 3,
     "metadata": {},
     "output_type": "execute_result"
    }
   ],
   "source": [
    "products_data = pd.DataFrame({\n",
    "    'product_id': [1, 2, 3, 4, 5],\n",
    "    'name': ['Laptop', 'Mouse', 'Keyboard', 'Monitor', 'Webcam'],\n",
    "    'category': ['Computer', 'Accessory', 'Accessory', 'Display', 'Accessory'],\n",
    "    'price': [999.99, 29.99, 79.99, 299.99, 89.99],\n",
    "    'stock': [50, 200, 150, 75, 100]\n",
    "})\n",
    "\n",
    "products = pa.TableDataFrame('products', products_data, 'product_id', engine)\n",
    "products.push()\n",
    "db.db['products'] = products\n",
    "\n",
    "print(\"✓ Created products table\")\n",
    "products.to_pandas()"
   ]
  },
  {
   "cell_type": "markdown",
   "metadata": {},
   "source": [
    "### Create Customers Table"
   ]
  },
  {
   "cell_type": "code",
   "execution_count": 4,
   "metadata": {
    "execution": {
     "iopub.execute_input": "2025-10-21T14:33:09.711694Z",
     "iopub.status.busy": "2025-10-21T14:33:09.711573Z",
     "iopub.status.idle": "2025-10-21T14:33:09.718042Z",
     "shell.execute_reply": "2025-10-21T14:33:09.717680Z"
    }
   },
   "outputs": [
    {
     "name": "stdout",
     "output_type": "stream",
     "text": [
      "✓ Created customers table\n"
     ]
    }
   ],
   "source": [
    "customers_data = pd.DataFrame({\n",
    "    'customer_id': [101, 102, 103],\n",
    "    'name': ['Alice Johnson', 'Bob Smith', 'Charlie Brown'],\n",
    "    'email': ['alice@email.com', 'bob@email.com', 'charlie@email.com'],\n",
    "    'total_spent': [0.0, 0.0, 0.0]\n",
    "})\n",
    "\n",
    "customers = pa.TableDataFrame('customers', customers_data, 'customer_id', engine)\n",
    "customers.push()\n",
    "db.db['customers'] = customers\n",
    "\n",
    "print(\"✓ Created customers table\")"
   ]
  },
  {
   "cell_type": "markdown",
   "metadata": {},
   "source": [
    "## Browse Product Catalog"
   ]
  },
  {
   "cell_type": "code",
   "execution_count": 5,
   "metadata": {
    "execution": {
     "iopub.execute_input": "2025-10-21T14:33:09.718980Z",
     "iopub.status.busy": "2025-10-21T14:33:09.718925Z",
     "iopub.status.idle": "2025-10-21T14:33:09.721930Z",
     "shell.execute_reply": "2025-10-21T14:33:09.721613Z"
    }
   },
   "outputs": [
    {
     "name": "stdout",
     "output_type": "stream",
     "text": [
      "Available products:\n"
     ]
    },
    {
     "data": {
      "text/html": [
       "<div>\n",
       "<style scoped>\n",
       "    .dataframe tbody tr th:only-of-type {\n",
       "        vertical-align: middle;\n",
       "    }\n",
       "\n",
       "    .dataframe tbody tr th {\n",
       "        vertical-align: top;\n",
       "    }\n",
       "\n",
       "    .dataframe thead th {\n",
       "        text-align: right;\n",
       "    }\n",
       "</style>\n",
       "<table border=\"1\" class=\"dataframe\">\n",
       "  <thead>\n",
       "    <tr style=\"text-align: right;\">\n",
       "      <th></th>\n",
       "      <th>name</th>\n",
       "      <th>category</th>\n",
       "      <th>price</th>\n",
       "      <th>stock</th>\n",
       "    </tr>\n",
       "    <tr>\n",
       "      <th>product_id</th>\n",
       "      <th></th>\n",
       "      <th></th>\n",
       "      <th></th>\n",
       "      <th></th>\n",
       "    </tr>\n",
       "  </thead>\n",
       "  <tbody>\n",
       "    <tr>\n",
       "      <th>1</th>\n",
       "      <td>Laptop</td>\n",
       "      <td>Computer</td>\n",
       "      <td>999.99</td>\n",
       "      <td>50</td>\n",
       "    </tr>\n",
       "    <tr>\n",
       "      <th>2</th>\n",
       "      <td>Mouse</td>\n",
       "      <td>Accessory</td>\n",
       "      <td>29.99</td>\n",
       "      <td>200</td>\n",
       "    </tr>\n",
       "    <tr>\n",
       "      <th>3</th>\n",
       "      <td>Keyboard</td>\n",
       "      <td>Accessory</td>\n",
       "      <td>79.99</td>\n",
       "      <td>150</td>\n",
       "    </tr>\n",
       "    <tr>\n",
       "      <th>4</th>\n",
       "      <td>Monitor</td>\n",
       "      <td>Display</td>\n",
       "      <td>299.99</td>\n",
       "      <td>75</td>\n",
       "    </tr>\n",
       "    <tr>\n",
       "      <th>5</th>\n",
       "      <td>Webcam</td>\n",
       "      <td>Accessory</td>\n",
       "      <td>89.99</td>\n",
       "      <td>100</td>\n",
       "    </tr>\n",
       "  </tbody>\n",
       "</table>\n",
       "</div>"
      ],
      "text/plain": [
       "                name   category   price  stock\n",
       "product_id                                    \n",
       "1             Laptop   Computer  999.99     50\n",
       "2              Mouse  Accessory   29.99    200\n",
       "3           Keyboard  Accessory   79.99    150\n",
       "4            Monitor    Display  299.99     75\n",
       "5             Webcam  Accessory   89.99    100"
      ]
     },
     "execution_count": 5,
     "metadata": {},
     "output_type": "execute_result"
    }
   ],
   "source": [
    "print(\"Available products:\")\n",
    "db['products'].to_pandas()[['name', 'category', 'price', 'stock']]"
   ]
  },
  {
   "cell_type": "markdown",
   "metadata": {},
   "source": [
    "## Process New Order"
   ]
  },
  {
   "cell_type": "code",
   "execution_count": 6,
   "metadata": {
    "execution": {
     "iopub.execute_input": "2025-10-21T14:33:09.722871Z",
     "iopub.status.busy": "2025-10-21T14:33:09.722819Z",
     "iopub.status.idle": "2025-10-21T14:33:09.725237Z",
     "shell.execute_reply": "2025-10-21T14:33:09.724860Z"
    }
   },
   "outputs": [
    {
     "name": "stdout",
     "output_type": "stream",
     "text": [
      "Customer 101 shopping cart:\n",
      "  Laptop x1 @ $999.99 = $999.99\n",
      "  Mouse x2 @ $29.99 = $59.98\n",
      "  Keyboard x1 @ $79.99 = $79.99\n",
      "\n",
      "Order total: $1139.96\n"
     ]
    }
   ],
   "source": [
    "customer_id = 101\n",
    "cart = [\n",
    "    {'product_id': 1, 'quantity': 1},  # Laptop\n",
    "    {'product_id': 2, 'quantity': 2},  # Mouse x2\n",
    "    {'product_id': 3, 'quantity': 1},  # Keyboard\n",
    "]\n",
    "\n",
    "print(f\"Customer {customer_id} shopping cart:\")\n",
    "order_total = 0\n",
    "for item in cart:\n",
    "    product = db['products'].get_row(item['product_id'])\n",
    "    item_total = product['price'] * item['quantity']\n",
    "    order_total += item_total\n",
    "    print(f\"  {product['name']} x{item['quantity']} @ ${product['price']:.2f} = ${item_total:.2f}\")\n",
    "\n",
    "print(f\"\\nOrder total: ${order_total:.2f}\")"
   ]
  },
  {
   "cell_type": "markdown",
   "metadata": {},
   "source": [
    "### Update inventory"
   ]
  },
  {
   "cell_type": "code",
   "execution_count": 7,
   "metadata": {
    "execution": {
     "iopub.execute_input": "2025-10-21T14:33:09.726214Z",
     "iopub.status.busy": "2025-10-21T14:33:09.726141Z",
     "iopub.status.idle": "2025-10-21T14:33:09.732057Z",
     "shell.execute_reply": "2025-10-21T14:33:09.731719Z"
    }
   },
   "outputs": [
    {
     "name": "stdout",
     "output_type": "stream",
     "text": [
      "✓ Updated Laptop: stock 50 → 49\n",
      "✓ Updated Mouse: stock 200 → 198\n",
      "✓ Updated Keyboard: stock 150 → 149\n"
     ]
    }
   ],
   "source": [
    "for item in cart:\n",
    "    product_id = item['product_id']\n",
    "    quantity = item['quantity']\n",
    "    \n",
    "    product = db['products'].get_row(product_id)\n",
    "    new_stock = product['stock'] - quantity\n",
    "    \n",
    "    db['products'].update_row(product_id, {'stock': new_stock})\n",
    "    \n",
    "    print(f\"✓ Updated {product['name']}: stock {product['stock']} → {new_stock}\")"
   ]
  },
  {
   "cell_type": "markdown",
   "metadata": {},
   "source": [
    "### Update customer total"
   ]
  },
  {
   "cell_type": "code",
   "execution_count": 8,
   "metadata": {
    "execution": {
     "iopub.execute_input": "2025-10-21T14:33:09.732919Z",
     "iopub.status.busy": "2025-10-21T14:33:09.732851Z",
     "iopub.status.idle": "2025-10-21T14:33:09.735362Z",
     "shell.execute_reply": "2025-10-21T14:33:09.735009Z"
    }
   },
   "outputs": [
    {
     "name": "stdout",
     "output_type": "stream",
     "text": [
      "✓ Customer total: $0.00 → $1139.96\n"
     ]
    }
   ],
   "source": [
    "customer = db['customers'].get_row(customer_id)\n",
    "new_total = customer['total_spent'] + order_total\n",
    "\n",
    "db['customers'].update_row(customer_id, {\n",
    "    'total_spent': new_total\n",
    "})\n",
    "\n",
    "print(f\"✓ Customer total: ${customer['total_spent']:.2f} → ${new_total:.2f}\")"
   ]
  },
  {
   "cell_type": "markdown",
   "metadata": {},
   "source": [
    "### Commit all changes in one transaction"
   ]
  },
  {
   "cell_type": "code",
   "execution_count": 9,
   "metadata": {
    "execution": {
     "iopub.execute_input": "2025-10-21T14:33:09.736173Z",
     "iopub.status.busy": "2025-10-21T14:33:09.736124Z",
     "iopub.status.idle": "2025-10-21T14:33:09.745131Z",
     "shell.execute_reply": "2025-10-21T14:33:09.744837Z"
    }
   },
   "outputs": [
    {
     "name": "stdout",
     "output_type": "stream",
     "text": [
      "✓ Order processed successfully (all tables updated atomically)\n"
     ]
    }
   ],
   "source": [
    "db.push()\n",
    "print(\"✓ Order processed successfully (all tables updated atomically)\")"
   ]
  },
  {
   "cell_type": "markdown",
   "metadata": {},
   "source": [
    "## View Updated State"
   ]
  },
  {
   "cell_type": "code",
   "execution_count": 10,
   "metadata": {
    "execution": {
     "iopub.execute_input": "2025-10-21T14:33:09.746311Z",
     "iopub.status.busy": "2025-10-21T14:33:09.746247Z",
     "iopub.status.idle": "2025-10-21T14:33:09.752222Z",
     "shell.execute_reply": "2025-10-21T14:33:09.751870Z"
    }
   },
   "outputs": [
    {
     "name": "stdout",
     "output_type": "stream",
     "text": [
      "Updated inventory:\n"
     ]
    },
    {
     "data": {
      "text/html": [
       "<div>\n",
       "<style scoped>\n",
       "    .dataframe tbody tr th:only-of-type {\n",
       "        vertical-align: middle;\n",
       "    }\n",
       "\n",
       "    .dataframe tbody tr th {\n",
       "        vertical-align: top;\n",
       "    }\n",
       "\n",
       "    .dataframe thead th {\n",
       "        text-align: right;\n",
       "    }\n",
       "</style>\n",
       "<table border=\"1\" class=\"dataframe\">\n",
       "  <thead>\n",
       "    <tr style=\"text-align: right;\">\n",
       "      <th></th>\n",
       "      <th>name</th>\n",
       "      <th>stock</th>\n",
       "    </tr>\n",
       "    <tr>\n",
       "      <th>product_id</th>\n",
       "      <th></th>\n",
       "      <th></th>\n",
       "    </tr>\n",
       "  </thead>\n",
       "  <tbody>\n",
       "    <tr>\n",
       "      <th>1</th>\n",
       "      <td>Laptop</td>\n",
       "      <td>49</td>\n",
       "    </tr>\n",
       "    <tr>\n",
       "      <th>2</th>\n",
       "      <td>Mouse</td>\n",
       "      <td>198</td>\n",
       "    </tr>\n",
       "    <tr>\n",
       "      <th>3</th>\n",
       "      <td>Keyboard</td>\n",
       "      <td>149</td>\n",
       "    </tr>\n",
       "    <tr>\n",
       "      <th>4</th>\n",
       "      <td>Monitor</td>\n",
       "      <td>75</td>\n",
       "    </tr>\n",
       "    <tr>\n",
       "      <th>5</th>\n",
       "      <td>Webcam</td>\n",
       "      <td>100</td>\n",
       "    </tr>\n",
       "  </tbody>\n",
       "</table>\n",
       "</div>"
      ],
      "text/plain": [
       "                name  stock\n",
       "product_id                 \n",
       "1             Laptop     49\n",
       "2              Mouse    198\n",
       "3           Keyboard    149\n",
       "4            Monitor     75\n",
       "5             Webcam    100"
      ]
     },
     "execution_count": 10,
     "metadata": {},
     "output_type": "execute_result"
    }
   ],
   "source": [
    "db.pull()\n",
    "\n",
    "print(\"Updated inventory:\")\n",
    "db['products'].to_pandas()[['name', 'stock']]"
   ]
  },
  {
   "cell_type": "code",
   "execution_count": 11,
   "metadata": {
    "execution": {
     "iopub.execute_input": "2025-10-21T14:33:09.753069Z",
     "iopub.status.busy": "2025-10-21T14:33:09.753015Z",
     "iopub.status.idle": "2025-10-21T14:33:09.755709Z",
     "shell.execute_reply": "2025-10-21T14:33:09.755411Z"
    }
   },
   "outputs": [
    {
     "name": "stdout",
     "output_type": "stream",
     "text": [
      "Customer analytics:\n"
     ]
    },
    {
     "data": {
      "text/html": [
       "<div>\n",
       "<style scoped>\n",
       "    .dataframe tbody tr th:only-of-type {\n",
       "        vertical-align: middle;\n",
       "    }\n",
       "\n",
       "    .dataframe tbody tr th {\n",
       "        vertical-align: top;\n",
       "    }\n",
       "\n",
       "    .dataframe thead th {\n",
       "        text-align: right;\n",
       "    }\n",
       "</style>\n",
       "<table border=\"1\" class=\"dataframe\">\n",
       "  <thead>\n",
       "    <tr style=\"text-align: right;\">\n",
       "      <th></th>\n",
       "      <th>name</th>\n",
       "      <th>total_spent</th>\n",
       "    </tr>\n",
       "    <tr>\n",
       "      <th>customer_id</th>\n",
       "      <th></th>\n",
       "      <th></th>\n",
       "    </tr>\n",
       "  </thead>\n",
       "  <tbody>\n",
       "    <tr>\n",
       "      <th>101</th>\n",
       "      <td>Alice Johnson</td>\n",
       "      <td>1139.96</td>\n",
       "    </tr>\n",
       "    <tr>\n",
       "      <th>102</th>\n",
       "      <td>Bob Smith</td>\n",
       "      <td>0.00</td>\n",
       "    </tr>\n",
       "    <tr>\n",
       "      <th>103</th>\n",
       "      <td>Charlie Brown</td>\n",
       "      <td>0.00</td>\n",
       "    </tr>\n",
       "  </tbody>\n",
       "</table>\n",
       "</div>"
      ],
      "text/plain": [
       "                      name  total_spent\n",
       "customer_id                            \n",
       "101          Alice Johnson      1139.96\n",
       "102              Bob Smith         0.00\n",
       "103          Charlie Brown         0.00"
      ]
     },
     "execution_count": 11,
     "metadata": {},
     "output_type": "execute_result"
    }
   ],
   "source": [
    "print(\"Customer analytics:\")\n",
    "db['customers'].to_pandas()[['name', 'total_spent']].sort_values('total_spent', ascending=False)"
   ]
  },
  {
   "cell_type": "markdown",
   "metadata": {},
   "source": [
    "## Summary\n",
    "\n",
    "**Key Takeaways:**\n",
    "- Multi-table transactions with `db.push()`\n",
    "- All changes committed atomically (all-or-nothing)\n",
    "- Inventory management with stock tracking\n",
    "- Customer analytics and lifetime value\n",
    "- Real-world business logic implementation"
   ]
  }
 ],
 "metadata": {
  "kernelspec": {
   "display_name": "Python 3",
   "language": "python",
   "name": "python3"
  },
  "language_info": {
   "codemirror_mode": {
    "name": "ipython",
    "version": 3
   },
   "file_extension": ".py",
   "mimetype": "text/x-python",
   "name": "python",
   "nbconvert_exporter": "python",
   "pygments_lexer": "ipython3",
   "version": "3.11.13"
  }
 },
 "nbformat": 4,
 "nbformat_minor": 4
}
