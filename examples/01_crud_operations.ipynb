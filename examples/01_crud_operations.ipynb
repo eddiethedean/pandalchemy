{
 "cells": [
  {
   "cell_type": "markdown",
   "metadata": {},
   "source": [
    "# CRUD Operations\n",
    "\n",
    "This notebook demonstrates all CRUD operations in pandalchemy:\n",
    "- **C**reate: add_row, bulk_insert\n",
    "- **R**ead: get_row, row_exists\n",
    "- **U**pdate: update_row, upsert_row\n",
    "- **D**elete: delete_row"
   ]
  },
  {
   "cell_type": "code",
   "execution_count": 1,
   "metadata": {
    "execution": {
     "iopub.execute_input": "2025-10-21T14:32:41.725149Z",
     "iopub.status.busy": "2025-10-21T14:32:41.725049Z",
     "iopub.status.idle": "2025-10-21T14:32:42.294070Z",
     "shell.execute_reply": "2025-10-21T14:32:42.293648Z"
    }
   },
   "outputs": [],
   "source": [
    "import pandas as pd\n",
    "from sqlalchemy import create_engine\n",
    "import pandalchemy as pa"
   ]
  },
  {
   "cell_type": "markdown",
   "metadata": {},
   "source": [
    "## Setup\n",
    "Create a database and initial table with auto-increment"
   ]
  },
  {
   "cell_type": "code",
   "execution_count": 2,
   "metadata": {
    "execution": {
     "iopub.execute_input": "2025-10-21T14:32:42.295329Z",
     "iopub.status.busy": "2025-10-21T14:32:42.295213Z",
     "iopub.status.idle": "2025-10-21T14:32:42.315468Z",
     "shell.execute_reply": "2025-10-21T14:32:42.315067Z"
    }
   },
   "outputs": [
    {
     "data": {
      "text/html": [
       "<div>\n",
       "<style scoped>\n",
       "    .dataframe tbody tr th:only-of-type {\n",
       "        vertical-align: middle;\n",
       "    }\n",
       "\n",
       "    .dataframe tbody tr th {\n",
       "        vertical-align: top;\n",
       "    }\n",
       "\n",
       "    .dataframe thead th {\n",
       "        text-align: right;\n",
       "    }\n",
       "</style>\n",
       "<table border=\"1\" class=\"dataframe\">\n",
       "  <thead>\n",
       "    <tr style=\"text-align: right;\">\n",
       "      <th></th>\n",
       "      <th>name</th>\n",
       "      <th>email</th>\n",
       "      <th>age</th>\n",
       "    </tr>\n",
       "    <tr>\n",
       "      <th>id</th>\n",
       "      <th></th>\n",
       "      <th></th>\n",
       "      <th></th>\n",
       "    </tr>\n",
       "  </thead>\n",
       "  <tbody>\n",
       "    <tr>\n",
       "      <th>1</th>\n",
       "      <td>Alice</td>\n",
       "      <td>alice@example.com</td>\n",
       "      <td>25</td>\n",
       "    </tr>\n",
       "    <tr>\n",
       "      <th>2</th>\n",
       "      <td>Bob</td>\n",
       "      <td>bob@example.com</td>\n",
       "      <td>30</td>\n",
       "    </tr>\n",
       "  </tbody>\n",
       "</table>\n",
       "</div>"
      ],
      "text/plain": [
       "     name              email  age\n",
       "id                               \n",
       "1   Alice  alice@example.com   25\n",
       "2     Bob    bob@example.com   30"
      ]
     },
     "execution_count": 2,
     "metadata": {},
     "output_type": "execute_result"
    }
   ],
   "source": [
    "engine = create_engine('sqlite:///:memory:')\n",
    "db = pa.DataBase(engine)\n",
    "\n",
    "# Create initial table\n",
    "initial_data = pd.DataFrame({\n",
    "    'name': ['Alice', 'Bob'],\n",
    "    'email': ['alice@example.com', 'bob@example.com'],\n",
    "    'age': [25, 30]\n",
    "}, index=[1, 2])\n",
    "\n",
    "users = pa.TableDataFrame('users', initial_data, 'id', engine, auto_increment=True)\n",
    "users.push()\n",
    "\n",
    "users.to_pandas()"
   ]
  },
  {
   "cell_type": "markdown",
   "metadata": {},
   "source": [
    "## 1. CREATE Operations"
   ]
  },
  {
   "cell_type": "markdown",
   "metadata": {},
   "source": [
    "### Add single row with auto-increment"
   ]
  },
  {
   "cell_type": "code",
   "execution_count": 3,
   "metadata": {
    "execution": {
     "iopub.execute_input": "2025-10-21T14:32:42.331535Z",
     "iopub.status.busy": "2025-10-21T14:32:42.331439Z",
     "iopub.status.idle": "2025-10-21T14:32:42.336842Z",
     "shell.execute_reply": "2025-10-21T14:32:42.336480Z"
    }
   },
   "outputs": [
    {
     "name": "stdout",
     "output_type": "stream",
     "text": [
      "✓ Added Charlie (ID will be auto-generated)\n"
     ]
    }
   ],
   "source": [
    "users.add_row({'name': 'Charlie', 'email': 'charlie@example.com', 'age': 35}, auto_increment=True)\n",
    "print(\"✓ Added Charlie (ID will be auto-generated)\")"
   ]
  },
  {
   "cell_type": "markdown",
   "metadata": {},
   "source": [
    "### Bulk insert multiple rows"
   ]
  },
  {
   "cell_type": "code",
   "execution_count": 4,
   "metadata": {
    "execution": {
     "iopub.execute_input": "2025-10-21T14:32:42.337772Z",
     "iopub.status.busy": "2025-10-21T14:32:42.337713Z",
     "iopub.status.idle": "2025-10-21T14:32:42.347088Z",
     "shell.execute_reply": "2025-10-21T14:32:42.346704Z"
    }
   },
   "outputs": [
    {
     "name": "stdout",
     "output_type": "stream",
     "text": [
      "✓ Added 3 users\n",
      "Total users: 6\n"
     ]
    },
    {
     "data": {
      "text/html": [
       "<div>\n",
       "<style scoped>\n",
       "    .dataframe tbody tr th:only-of-type {\n",
       "        vertical-align: middle;\n",
       "    }\n",
       "\n",
       "    .dataframe tbody tr th {\n",
       "        vertical-align: top;\n",
       "    }\n",
       "\n",
       "    .dataframe thead th {\n",
       "        text-align: right;\n",
       "    }\n",
       "</style>\n",
       "<table border=\"1\" class=\"dataframe\">\n",
       "  <thead>\n",
       "    <tr style=\"text-align: right;\">\n",
       "      <th></th>\n",
       "      <th>name</th>\n",
       "      <th>email</th>\n",
       "      <th>age</th>\n",
       "    </tr>\n",
       "    <tr>\n",
       "      <th>id</th>\n",
       "      <th></th>\n",
       "      <th></th>\n",
       "      <th></th>\n",
       "    </tr>\n",
       "  </thead>\n",
       "  <tbody>\n",
       "    <tr>\n",
       "      <th>1</th>\n",
       "      <td>Alice</td>\n",
       "      <td>alice@example.com</td>\n",
       "      <td>25</td>\n",
       "    </tr>\n",
       "    <tr>\n",
       "      <th>2</th>\n",
       "      <td>Bob</td>\n",
       "      <td>bob@example.com</td>\n",
       "      <td>30</td>\n",
       "    </tr>\n",
       "    <tr>\n",
       "      <th>3</th>\n",
       "      <td>Charlie</td>\n",
       "      <td>charlie@example.com</td>\n",
       "      <td>35</td>\n",
       "    </tr>\n",
       "    <tr>\n",
       "      <th>4</th>\n",
       "      <td>Diana</td>\n",
       "      <td>diana@example.com</td>\n",
       "      <td>28</td>\n",
       "    </tr>\n",
       "    <tr>\n",
       "      <th>5</th>\n",
       "      <td>Eve</td>\n",
       "      <td>eve@example.com</td>\n",
       "      <td>32</td>\n",
       "    </tr>\n",
       "    <tr>\n",
       "      <th>6</th>\n",
       "      <td>Frank</td>\n",
       "      <td>frank@example.com</td>\n",
       "      <td>45</td>\n",
       "    </tr>\n",
       "  </tbody>\n",
       "</table>\n",
       "</div>"
      ],
      "text/plain": [
       "       name                email  age\n",
       "id                                   \n",
       "1     Alice    alice@example.com   25\n",
       "2       Bob      bob@example.com   30\n",
       "3   Charlie  charlie@example.com   35\n",
       "4     Diana    diana@example.com   28\n",
       "5       Eve      eve@example.com   32\n",
       "6     Frank    frank@example.com   45"
      ]
     },
     "execution_count": 4,
     "metadata": {},
     "output_type": "execute_result"
    }
   ],
   "source": [
    "new_users = [\n",
    "    {'name': 'Diana', 'email': 'diana@example.com', 'age': 28},\n",
    "    {'name': 'Eve', 'email': 'eve@example.com', 'age': 32},\n",
    "    {'name': 'Frank', 'email': 'frank@example.com', 'age': 45}\n",
    "]\n",
    "\n",
    "for user in new_users:\n",
    "    users.add_row(user, auto_increment=True)\n",
    "\n",
    "users.push()\n",
    "print(f\"✓ Added {len(new_users)} users\")\n",
    "print(f\"Total users: {len(users._data)}\")\n",
    "\n",
    "users.to_pandas()"
   ]
  },
  {
   "cell_type": "markdown",
   "metadata": {},
   "source": [
    "## 2. READ Operations"
   ]
  },
  {
   "cell_type": "markdown",
   "metadata": {},
   "source": [
    "### Get row by primary key"
   ]
  },
  {
   "cell_type": "code",
   "execution_count": 5,
   "metadata": {
    "execution": {
     "iopub.execute_input": "2025-10-21T14:32:42.348231Z",
     "iopub.status.busy": "2025-10-21T14:32:42.348150Z",
     "iopub.status.idle": "2025-10-21T14:32:42.350198Z",
     "shell.execute_reply": "2025-10-21T14:32:42.349860Z"
    }
   },
   "outputs": [
    {
     "data": {
      "text/plain": [
       "{'name': 'Alice', 'email': 'alice@example.com', 'age': 25}"
      ]
     },
     "execution_count": 5,
     "metadata": {},
     "output_type": "execute_result"
    }
   ],
   "source": [
    "users.get_row(1)"
   ]
  },
  {
   "cell_type": "markdown",
   "metadata": {},
   "source": [
    "### Check if row exists"
   ]
  },
  {
   "cell_type": "code",
   "execution_count": 6,
   "metadata": {
    "execution": {
     "iopub.execute_input": "2025-10-21T14:32:42.351159Z",
     "iopub.status.busy": "2025-10-21T14:32:42.351103Z",
     "iopub.status.idle": "2025-10-21T14:32:42.352768Z",
     "shell.execute_reply": "2025-10-21T14:32:42.352435Z"
    }
   },
   "outputs": [
    {
     "name": "stdout",
     "output_type": "stream",
     "text": [
      "User 1 exists: True\n",
      "User 999 exists: False\n"
     ]
    }
   ],
   "source": [
    "print(f\"User 1 exists: {users.row_exists(1)}\")\n",
    "print(f\"User 999 exists: {users.row_exists(999)}\")"
   ]
  },
  {
   "cell_type": "markdown",
   "metadata": {},
   "source": [
    "### Get all data"
   ]
  },
  {
   "cell_type": "code",
   "execution_count": 7,
   "metadata": {
    "execution": {
     "iopub.execute_input": "2025-10-21T14:32:42.353649Z",
     "iopub.status.busy": "2025-10-21T14:32:42.353599Z",
     "iopub.status.idle": "2025-10-21T14:32:42.356291Z",
     "shell.execute_reply": "2025-10-21T14:32:42.355990Z"
    }
   },
   "outputs": [
    {
     "name": "stdout",
     "output_type": "stream",
     "text": [
      "Total rows: 6, Columns: ['name', 'email', 'age']\n"
     ]
    },
    {
     "data": {
      "text/html": [
       "<div>\n",
       "<style scoped>\n",
       "    .dataframe tbody tr th:only-of-type {\n",
       "        vertical-align: middle;\n",
       "    }\n",
       "\n",
       "    .dataframe tbody tr th {\n",
       "        vertical-align: top;\n",
       "    }\n",
       "\n",
       "    .dataframe thead th {\n",
       "        text-align: right;\n",
       "    }\n",
       "</style>\n",
       "<table border=\"1\" class=\"dataframe\">\n",
       "  <thead>\n",
       "    <tr style=\"text-align: right;\">\n",
       "      <th></th>\n",
       "      <th>name</th>\n",
       "      <th>email</th>\n",
       "      <th>age</th>\n",
       "    </tr>\n",
       "    <tr>\n",
       "      <th>id</th>\n",
       "      <th></th>\n",
       "      <th></th>\n",
       "      <th></th>\n",
       "    </tr>\n",
       "  </thead>\n",
       "  <tbody>\n",
       "    <tr>\n",
       "      <th>1</th>\n",
       "      <td>Alice</td>\n",
       "      <td>alice@example.com</td>\n",
       "      <td>25</td>\n",
       "    </tr>\n",
       "    <tr>\n",
       "      <th>2</th>\n",
       "      <td>Bob</td>\n",
       "      <td>bob@example.com</td>\n",
       "      <td>30</td>\n",
       "    </tr>\n",
       "    <tr>\n",
       "      <th>3</th>\n",
       "      <td>Charlie</td>\n",
       "      <td>charlie@example.com</td>\n",
       "      <td>35</td>\n",
       "    </tr>\n",
       "    <tr>\n",
       "      <th>4</th>\n",
       "      <td>Diana</td>\n",
       "      <td>diana@example.com</td>\n",
       "      <td>28</td>\n",
       "    </tr>\n",
       "    <tr>\n",
       "      <th>5</th>\n",
       "      <td>Eve</td>\n",
       "      <td>eve@example.com</td>\n",
       "      <td>32</td>\n",
       "    </tr>\n",
       "    <tr>\n",
       "      <th>6</th>\n",
       "      <td>Frank</td>\n",
       "      <td>frank@example.com</td>\n",
       "      <td>45</td>\n",
       "    </tr>\n",
       "  </tbody>\n",
       "</table>\n",
       "</div>"
      ],
      "text/plain": [
       "       name                email  age\n",
       "id                                   \n",
       "1     Alice    alice@example.com   25\n",
       "2       Bob      bob@example.com   30\n",
       "3   Charlie  charlie@example.com   35\n",
       "4     Diana    diana@example.com   28\n",
       "5       Eve      eve@example.com   32\n",
       "6     Frank    frank@example.com   45"
      ]
     },
     "execution_count": 7,
     "metadata": {},
     "output_type": "execute_result"
    }
   ],
   "source": [
    "df = users.to_pandas()\n",
    "print(f\"Total rows: {len(df)}, Columns: {list(df.columns)}\")\n",
    "df"
   ]
  },
  {
   "cell_type": "markdown",
   "metadata": {},
   "source": [
    "### Filter data using pandas"
   ]
  },
  {
   "cell_type": "code",
   "execution_count": 8,
   "metadata": {
    "execution": {
     "iopub.execute_input": "2025-10-21T14:32:42.357241Z",
     "iopub.status.busy": "2025-10-21T14:32:42.357171Z",
     "iopub.status.idle": "2025-10-21T14:32:42.360476Z",
     "shell.execute_reply": "2025-10-21T14:32:42.360172Z"
    }
   },
   "outputs": [
    {
     "name": "stdout",
     "output_type": "stream",
     "text": [
      "Users over 30: 3\n"
     ]
    },
    {
     "data": {
      "text/html": [
       "<div>\n",
       "<style scoped>\n",
       "    .dataframe tbody tr th:only-of-type {\n",
       "        vertical-align: middle;\n",
       "    }\n",
       "\n",
       "    .dataframe tbody tr th {\n",
       "        vertical-align: top;\n",
       "    }\n",
       "\n",
       "    .dataframe thead th {\n",
       "        text-align: right;\n",
       "    }\n",
       "</style>\n",
       "<table border=\"1\" class=\"dataframe\">\n",
       "  <thead>\n",
       "    <tr style=\"text-align: right;\">\n",
       "      <th></th>\n",
       "      <th>name</th>\n",
       "      <th>age</th>\n",
       "    </tr>\n",
       "    <tr>\n",
       "      <th>id</th>\n",
       "      <th></th>\n",
       "      <th></th>\n",
       "    </tr>\n",
       "  </thead>\n",
       "  <tbody>\n",
       "    <tr>\n",
       "      <th>3</th>\n",
       "      <td>Charlie</td>\n",
       "      <td>35</td>\n",
       "    </tr>\n",
       "    <tr>\n",
       "      <th>5</th>\n",
       "      <td>Eve</td>\n",
       "      <td>32</td>\n",
       "    </tr>\n",
       "    <tr>\n",
       "      <th>6</th>\n",
       "      <td>Frank</td>\n",
       "      <td>45</td>\n",
       "    </tr>\n",
       "  </tbody>\n",
       "</table>\n",
       "</div>"
      ],
      "text/plain": [
       "       name  age\n",
       "id              \n",
       "3   Charlie   35\n",
       "5       Eve   32\n",
       "6     Frank   45"
      ]
     },
     "execution_count": 8,
     "metadata": {},
     "output_type": "execute_result"
    }
   ],
   "source": [
    "seniors = users._data[users._data['age'] > 30]\n",
    "print(f\"Users over 30: {len(seniors)}\")\n",
    "seniors[['name', 'age']]"
   ]
  },
  {
   "cell_type": "markdown",
   "metadata": {},
   "source": [
    "## 3. UPDATE Operations"
   ]
  },
  {
   "cell_type": "markdown",
   "metadata": {},
   "source": [
    "### Update single field"
   ]
  },
  {
   "cell_type": "code",
   "execution_count": 9,
   "metadata": {
    "execution": {
     "iopub.execute_input": "2025-10-21T14:32:42.361766Z",
     "iopub.status.busy": "2025-10-21T14:32:42.361684Z",
     "iopub.status.idle": "2025-10-21T14:32:42.364463Z",
     "shell.execute_reply": "2025-10-21T14:32:42.364147Z"
    }
   },
   "outputs": [
    {
     "name": "stdout",
     "output_type": "stream",
     "text": [
      "✓ Updated Alice's age to 26\n"
     ]
    }
   ],
   "source": [
    "users.update_row(1, {'age': 26})\n",
    "print(\"✓ Updated Alice's age to 26\")"
   ]
  },
  {
   "cell_type": "markdown",
   "metadata": {},
   "source": [
    "### Update multiple fields"
   ]
  },
  {
   "cell_type": "code",
   "execution_count": 10,
   "metadata": {
    "execution": {
     "iopub.execute_input": "2025-10-21T14:32:42.365451Z",
     "iopub.status.busy": "2025-10-21T14:32:42.365386Z",
     "iopub.status.idle": "2025-10-21T14:32:42.368195Z",
     "shell.execute_reply": "2025-10-21T14:32:42.367864Z"
    }
   },
   "outputs": [
    {
     "name": "stdout",
     "output_type": "stream",
     "text": [
      "✓ Updated Bob's email and age\n"
     ]
    }
   ],
   "source": [
    "users.update_row(2, {'email': 'robert@example.com', 'age': 31})\n",
    "print(\"✓ Updated Bob's email and age\")"
   ]
  },
  {
   "cell_type": "markdown",
   "metadata": {},
   "source": [
    "### Upsert operation (update or insert)"
   ]
  },
  {
   "cell_type": "code",
   "execution_count": 11,
   "metadata": {
    "execution": {
     "iopub.execute_input": "2025-10-21T14:32:42.369122Z",
     "iopub.status.busy": "2025-10-21T14:32:42.369049Z",
     "iopub.status.idle": "2025-10-21T14:32:42.379832Z",
     "shell.execute_reply": "2025-10-21T14:32:42.379518Z"
    }
   },
   "outputs": [
    {
     "name": "stdout",
     "output_type": "stream",
     "text": [
      "✓ Upserted user 2 (updated existing)\n",
      "✓ Upserted user 100 (created new)\n"
     ]
    },
    {
     "data": {
      "text/html": [
       "<div>\n",
       "<style scoped>\n",
       "    .dataframe tbody tr th:only-of-type {\n",
       "        vertical-align: middle;\n",
       "    }\n",
       "\n",
       "    .dataframe tbody tr th {\n",
       "        vertical-align: top;\n",
       "    }\n",
       "\n",
       "    .dataframe thead th {\n",
       "        text-align: right;\n",
       "    }\n",
       "</style>\n",
       "<table border=\"1\" class=\"dataframe\">\n",
       "  <thead>\n",
       "    <tr style=\"text-align: right;\">\n",
       "      <th></th>\n",
       "      <th>name</th>\n",
       "      <th>email</th>\n",
       "      <th>age</th>\n",
       "    </tr>\n",
       "    <tr>\n",
       "      <th>id</th>\n",
       "      <th></th>\n",
       "      <th></th>\n",
       "      <th></th>\n",
       "    </tr>\n",
       "  </thead>\n",
       "  <tbody>\n",
       "    <tr>\n",
       "      <th>1</th>\n",
       "      <td>Alice</td>\n",
       "      <td>alice@example.com</td>\n",
       "      <td>26</td>\n",
       "    </tr>\n",
       "    <tr>\n",
       "      <th>2</th>\n",
       "      <td>Robert</td>\n",
       "      <td>robert@example.com</td>\n",
       "      <td>31</td>\n",
       "    </tr>\n",
       "    <tr>\n",
       "      <th>3</th>\n",
       "      <td>Charlie</td>\n",
       "      <td>charlie@example.com</td>\n",
       "      <td>35</td>\n",
       "    </tr>\n",
       "    <tr>\n",
       "      <th>4</th>\n",
       "      <td>Diana</td>\n",
       "      <td>diana@example.com</td>\n",
       "      <td>28</td>\n",
       "    </tr>\n",
       "    <tr>\n",
       "      <th>5</th>\n",
       "      <td>Eve</td>\n",
       "      <td>eve@example.com</td>\n",
       "      <td>32</td>\n",
       "    </tr>\n",
       "    <tr>\n",
       "      <th>6</th>\n",
       "      <td>Frank</td>\n",
       "      <td>frank@example.com</td>\n",
       "      <td>45</td>\n",
       "    </tr>\n",
       "    <tr>\n",
       "      <th>100</th>\n",
       "      <td>Grace</td>\n",
       "      <td>grace@example.com</td>\n",
       "      <td>29</td>\n",
       "    </tr>\n",
       "  </tbody>\n",
       "</table>\n",
       "</div>"
      ],
      "text/plain": [
       "        name                email  age\n",
       "id                                    \n",
       "1      Alice    alice@example.com   26\n",
       "2     Robert   robert@example.com   31\n",
       "3    Charlie  charlie@example.com   35\n",
       "4      Diana    diana@example.com   28\n",
       "5        Eve      eve@example.com   32\n",
       "6      Frank    frank@example.com   45\n",
       "100    Grace    grace@example.com   29"
      ]
     },
     "execution_count": 11,
     "metadata": {},
     "output_type": "execute_result"
    }
   ],
   "source": [
    "# Update existing\n",
    "users.upsert_row({'id': 2, 'name': 'Robert', 'email': 'robert@example.com', 'age': 31})\n",
    "print(\"✓ Upserted user 2 (updated existing)\")\n",
    "\n",
    "# Insert new\n",
    "users.upsert_row({'id': 100, 'name': 'Grace', 'email': 'grace@example.com', 'age': 29})\n",
    "print(\"✓ Upserted user 100 (created new)\")\n",
    "\n",
    "users.push()\n",
    "users.to_pandas()"
   ]
  },
  {
   "cell_type": "markdown",
   "metadata": {},
   "source": [
    "## 4. DELETE Operations"
   ]
  },
  {
   "cell_type": "markdown",
   "metadata": {},
   "source": [
    "### Delete rows"
   ]
  },
  {
   "cell_type": "code",
   "execution_count": 12,
   "metadata": {
    "execution": {
     "iopub.execute_input": "2025-10-21T14:32:42.380960Z",
     "iopub.status.busy": "2025-10-21T14:32:42.380895Z",
     "iopub.status.idle": "2025-10-21T14:32:42.389602Z",
     "shell.execute_reply": "2025-10-21T14:32:42.389241Z"
    }
   },
   "outputs": [
    {
     "name": "stdout",
     "output_type": "stream",
     "text": [
      "✓ Remaining users: 4\n"
     ]
    },
    {
     "data": {
      "text/html": [
       "<div>\n",
       "<style scoped>\n",
       "    .dataframe tbody tr th:only-of-type {\n",
       "        vertical-align: middle;\n",
       "    }\n",
       "\n",
       "    .dataframe tbody tr th {\n",
       "        vertical-align: top;\n",
       "    }\n",
       "\n",
       "    .dataframe thead th {\n",
       "        text-align: right;\n",
       "    }\n",
       "</style>\n",
       "<table border=\"1\" class=\"dataframe\">\n",
       "  <thead>\n",
       "    <tr style=\"text-align: right;\">\n",
       "      <th></th>\n",
       "      <th>name</th>\n",
       "      <th>email</th>\n",
       "      <th>age</th>\n",
       "    </tr>\n",
       "    <tr>\n",
       "      <th>id</th>\n",
       "      <th></th>\n",
       "      <th></th>\n",
       "      <th></th>\n",
       "    </tr>\n",
       "  </thead>\n",
       "  <tbody>\n",
       "    <tr>\n",
       "      <th>1</th>\n",
       "      <td>Alice</td>\n",
       "      <td>alice@example.com</td>\n",
       "      <td>26</td>\n",
       "    </tr>\n",
       "    <tr>\n",
       "      <th>2</th>\n",
       "      <td>Robert</td>\n",
       "      <td>robert@example.com</td>\n",
       "      <td>31</td>\n",
       "    </tr>\n",
       "    <tr>\n",
       "      <th>3</th>\n",
       "      <td>Charlie</td>\n",
       "      <td>charlie@example.com</td>\n",
       "      <td>35</td>\n",
       "    </tr>\n",
       "    <tr>\n",
       "      <th>4</th>\n",
       "      <td>Diana</td>\n",
       "      <td>diana@example.com</td>\n",
       "      <td>28</td>\n",
       "    </tr>\n",
       "  </tbody>\n",
       "</table>\n",
       "</div>"
      ],
      "text/plain": [
       "       name                email  age\n",
       "id                                   \n",
       "1     Alice    alice@example.com   26\n",
       "2    Robert   robert@example.com   31\n",
       "3   Charlie  charlie@example.com   35\n",
       "4     Diana    diana@example.com   28"
      ]
     },
     "execution_count": 12,
     "metadata": {},
     "output_type": "execute_result"
    }
   ],
   "source": [
    "users.delete_row(100)\n",
    "users.delete_row(5)\n",
    "users.delete_row(6)\n",
    "\n",
    "users.push()\n",
    "print(f\"✓ Remaining users: {len(users._data)}\")\n",
    "users.to_pandas()"
   ]
  },
  {
   "cell_type": "markdown",
   "metadata": {},
   "source": [
    "## 5. Pandas Integration\n",
    "All pandas operations work seamlessly with pandalchemy"
   ]
  },
  {
   "cell_type": "code",
   "execution_count": 13,
   "metadata": {
    "execution": {
     "iopub.execute_input": "2025-10-21T14:32:42.390526Z",
     "iopub.status.busy": "2025-10-21T14:32:42.390459Z",
     "iopub.status.idle": "2025-10-21T14:32:42.397306Z",
     "shell.execute_reply": "2025-10-21T14:32:42.396946Z"
    }
   },
   "outputs": [
    {
     "data": {
      "text/html": [
       "<div>\n",
       "<style scoped>\n",
       "    .dataframe tbody tr th:only-of-type {\n",
       "        vertical-align: middle;\n",
       "    }\n",
       "\n",
       "    .dataframe tbody tr th {\n",
       "        vertical-align: top;\n",
       "    }\n",
       "\n",
       "    .dataframe thead th {\n",
       "        text-align: right;\n",
       "    }\n",
       "</style>\n",
       "<table border=\"1\" class=\"dataframe\">\n",
       "  <thead>\n",
       "    <tr style=\"text-align: right;\">\n",
       "      <th></th>\n",
       "      <th>name</th>\n",
       "      <th>email</th>\n",
       "      <th>age</th>\n",
       "    </tr>\n",
       "    <tr>\n",
       "      <th>id</th>\n",
       "      <th></th>\n",
       "      <th></th>\n",
       "      <th></th>\n",
       "    </tr>\n",
       "  </thead>\n",
       "  <tbody>\n",
       "    <tr>\n",
       "      <th>1</th>\n",
       "      <td>Alice</td>\n",
       "      <td>alice.updated@example.com</td>\n",
       "      <td>26</td>\n",
       "    </tr>\n",
       "    <tr>\n",
       "      <th>2</th>\n",
       "      <td>Robert</td>\n",
       "      <td>robert@example.com</td>\n",
       "      <td>32</td>\n",
       "    </tr>\n",
       "    <tr>\n",
       "      <th>3</th>\n",
       "      <td>Charlie</td>\n",
       "      <td>charlie@example.com</td>\n",
       "      <td>35</td>\n",
       "    </tr>\n",
       "    <tr>\n",
       "      <th>4</th>\n",
       "      <td>Diana</td>\n",
       "      <td>diana@example.com</td>\n",
       "      <td>28</td>\n",
       "    </tr>\n",
       "  </tbody>\n",
       "</table>\n",
       "</div>"
      ],
      "text/plain": [
       "       name                      email  age\n",
       "id                                         \n",
       "1     Alice  alice.updated@example.com   26\n",
       "2    Robert         robert@example.com   32\n",
       "3   Charlie        charlie@example.com   35\n",
       "4     Diana          diana@example.com   28"
      ]
     },
     "execution_count": 13,
     "metadata": {},
     "output_type": "execute_result"
    }
   ],
   "source": [
    "# Update via pandas .loc and .at\n",
    "users._data.loc[1, 'email'] = 'alice.updated@example.com'\n",
    "users._data.at[2, 'age'] = 32\n",
    "\n",
    "# Add column via pandas\n",
    "users._data['verified'] = [True, False, True, False]\n",
    "\n",
    "users.push()\n",
    "users.to_pandas()"
   ]
  },
  {
   "cell_type": "markdown",
   "metadata": {},
   "source": [
    "## 6. Error Handling"
   ]
  },
  {
   "cell_type": "code",
   "execution_count": 14,
   "metadata": {
    "execution": {
     "iopub.execute_input": "2025-10-21T14:32:42.398256Z",
     "iopub.status.busy": "2025-10-21T14:32:42.398205Z",
     "iopub.status.idle": "2025-10-21T14:32:42.400066Z",
     "shell.execute_reply": "2025-10-21T14:32:42.399803Z"
    }
   },
   "outputs": [
    {
     "name": "stdout",
     "output_type": "stream",
     "text": [
      "✓ Correctly raised: ValueError\n",
      "✓ Correctly prevented: Primary keys are immutable\n"
     ]
    }
   ],
   "source": [
    "# Try to update non-existent row\n",
    "try:\n",
    "    users.update_row(999, {'age': 100})\n",
    "except Exception as e:\n",
    "    print(f\"✓ Correctly raised: {type(e).__name__}\")\n",
    "\n",
    "# Try to update primary key (immutable)\n",
    "from pandalchemy.exceptions import DataValidationError\n",
    "try:\n",
    "    users.update_row(1, {'id': 999})\n",
    "except DataValidationError:\n",
    "    print(\"✓ Correctly prevented: Primary keys are immutable\")"
   ]
  },
  {
   "cell_type": "markdown",
   "metadata": {},
   "source": [
    "## Summary\n",
    "\n",
    "**Key Takeaways:**\n",
    "- `add_row()` with `auto_increment=True` for automatic IDs\n",
    "- `get_row()` and `row_exists()` for reading data\n",
    "- `update_row()` for updates, `upsert_row()` for update-or-insert\n",
    "- `delete_row()` for deletions\n",
    "- All pandas DataFrame operations work and are automatically tracked\n",
    "- Primary keys are immutable (stored as DataFrame index)"
   ]
  }
 ],
 "metadata": {
  "kernelspec": {
   "display_name": "Python 3",
   "language": "python",
   "name": "python3"
  },
  "language_info": {
   "codemirror_mode": {
    "name": "ipython",
    "version": 3
   },
   "file_extension": ".py",
   "mimetype": "text/x-python",
   "name": "python",
   "nbconvert_exporter": "python",
   "pygments_lexer": "ipython3",
   "version": "3.11.13"
  }
 },
 "nbformat": 4,
 "nbformat_minor": 4
}
