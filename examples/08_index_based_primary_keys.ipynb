{
 "cells": [
  {
   "cell_type": "markdown",
   "metadata": {},
   "source": [
    "# 08_index_based_primary_keys\n",
    "\n",
    "Index-Based Primary Keys\n",
    "\n",
    "This example demonstrates the new index-based primary key feature:\n",
    "- Using DataFrame index as primary key\n",
    "- Automatic index naming\n",
    "- Validation and error handling\n",
    "- Mixing with column-based PKs"
   ]
  },
  {
   "cell_type": "code",
   "execution_count": 1,
   "metadata": {
    "execution": {
     "iopub.execute_input": "2025-10-21T14:33:01.011262Z",
     "iopub.status.busy": "2025-10-21T14:33:01.011021Z",
     "iopub.status.idle": "2025-10-21T14:33:01.383374Z",
     "shell.execute_reply": "2025-10-21T14:33:01.382912Z"
    }
   },
   "outputs": [],
   "source": [
    "import pandas as pd\n",
    "from sqlalchemy import create_engine\n",
    "import pandalchemy as pa"
   ]
  },
  {
   "cell_type": "code",
   "execution_count": 2,
   "metadata": {
    "execution": {
     "iopub.execute_input": "2025-10-21T14:33:01.384749Z",
     "iopub.status.busy": "2025-10-21T14:33:01.384649Z",
     "iopub.status.idle": "2025-10-21T14:33:01.389629Z",
     "shell.execute_reply": "2025-10-21T14:33:01.389275Z"
    }
   },
   "outputs": [],
   "source": [
    "# Setup\n",
    "engine = create_engine('sqlite:///:memory:')\n",
    "db = pa.DataBase(engine)"
   ]
  },
  {
   "cell_type": "code",
   "execution_count": 3,
   "metadata": {
    "execution": {
     "iopub.execute_input": "2025-10-21T14:33:01.390621Z",
     "iopub.status.busy": "2025-10-21T14:33:01.390568Z",
     "iopub.status.idle": "2025-10-21T14:33:01.392121Z",
     "shell.execute_reply": "2025-10-21T14:33:01.391772Z"
    }
   },
   "outputs": [
    {
     "name": "stdout",
     "output_type": "stream",
     "text": [
      "Index-Based Primary Keys Example\n"
     ]
    }
   ],
   "source": [
    "print(\"Index-Based Primary Keys Example\")"
   ]
  },
  {
   "cell_type": "markdown",
   "metadata": {},
   "source": [
    "### 1. Basic Index-Based Primary Key"
   ]
  },
  {
   "cell_type": "code",
   "execution_count": 4,
   "metadata": {
    "execution": {
     "iopub.execute_input": "2025-10-21T14:33:01.407440Z",
     "iopub.status.busy": "2025-10-21T14:33:01.407349Z",
     "iopub.status.idle": "2025-10-21T14:33:01.417032Z",
     "shell.execute_reply": "2025-10-21T14:33:01.416667Z"
    }
   },
   "outputs": [
    {
     "name": "stdout",
     "output_type": "stream",
     "text": [
      "\n",
      "   DataFrame before:\n",
      "   Index name: None\n",
      "      name  age city\n",
      "1    Alice   25  NYC\n",
      "2      Bob   30   SF\n",
      "3  Charlie   35   LA\n",
      "\n",
      "   After creating TableDataFrame:\n",
      "   Index name: id\n",
      "   ✓ Index automatically named 'id'\n",
      "       name  age city\n",
      "id                   \n",
      "1     Alice   25  NYC\n",
      "2       Bob   30   SF\n",
      "3   Charlie   35   LA\n",
      "\n",
      "   ✓ Table created in database\n"
     ]
    }
   ],
   "source": [
    "# Create DataFrame with unnamed index\n",
    "df = pd.DataFrame({\n",
    "    'name': ['Alice', 'Bob', 'Charlie'],\n",
    "    'age': [25, 30, 35],\n",
    "    'city': ['NYC', 'SF', 'LA']\n",
    "}, index=[1, 2, 3])  # Index has values but no name\n",
    "\n",
    "print(\"\\n   DataFrame before:\")\n",
    "print(f\"   Index name: {df.index.name}\")\n",
    "print(df)\n",
    "\n",
    "# Create table - index will be named 'id' and used as PK\n",
    "users = pa.TableDataFrame('users', df, 'id', engine)\n",
    "\n",
    "print(\"\\n   After creating TableDataFrame:\")\n",
    "print(f\"   Index name: {users._data.index.name}\")\n",
    "print(f\"   ✓ Index automatically named 'id'\")\n",
    "print(users.to_pandas())\n",
    "\n",
    "users.push()\n",
    "print(\"\\n   ✓ Table created in database\")"
   ]
  },
  {
   "cell_type": "markdown",
   "metadata": {},
   "source": [
    "### 2. Index vs Column-Based PKs"
   ]
  },
  {
   "cell_type": "code",
   "execution_count": 5,
   "metadata": {
    "execution": {
     "iopub.execute_input": "2025-10-21T14:33:01.418041Z",
     "iopub.status.busy": "2025-10-21T14:33:01.417979Z",
     "iopub.status.idle": "2025-10-21T14:33:01.419353Z",
     "shell.execute_reply": "2025-10-21T14:33:01.419092Z"
    }
   },
   "outputs": [],
   "source": [
    "# Index-based (no 'id' column)"
   ]
  },
  {
   "cell_type": "markdown",
   "metadata": {},
   "source": [
    "### \\n   a) Index-based PK:"
   ]
  },
  {
   "cell_type": "code",
   "execution_count": 6,
   "metadata": {
    "execution": {
     "iopub.execute_input": "2025-10-21T14:33:01.420428Z",
     "iopub.status.busy": "2025-10-21T14:33:01.420374Z",
     "iopub.status.idle": "2025-10-21T14:33:01.422340Z",
     "shell.execute_reply": "2025-10-21T14:33:01.422006Z"
    }
   },
   "outputs": [
    {
     "name": "stdout",
     "output_type": "stream",
     "text": [
      "      Index name: product_id\n",
      "      Columns: ['product', 'price']\n",
      "      ✓ 'product_id' is the index, not a column\n"
     ]
    }
   ],
   "source": [
    "df_index = pd.DataFrame({\n",
    "    'product': ['Widget', 'Gadget'],\n",
    "    'price': [9.99, 19.99]\n",
    "}, index=[100, 101])\n",
    "\n",
    "products = pa.TableDataFrame('products', df_index, 'product_id', engine)\n",
    "print(f\"      Index name: {products._data.index.name}\")\n",
    "print(f\"      Columns: {list(products._data.columns)}\")\n",
    "print(\"      ✓ 'product_id' is the index, not a column\")\n",
    "\n",
    "# Column-based (has 'id' column)"
   ]
  },
  {
   "cell_type": "markdown",
   "metadata": {},
   "source": [
    "### \\n   b) Column-based PK:"
   ]
  },
  {
   "cell_type": "code",
   "execution_count": 7,
   "metadata": {
    "execution": {
     "iopub.execute_input": "2025-10-21T14:33:01.423296Z",
     "iopub.status.busy": "2025-10-21T14:33:01.423243Z",
     "iopub.status.idle": "2025-10-21T14:33:01.431679Z",
     "shell.execute_reply": "2025-10-21T14:33:01.431281Z"
    }
   },
   "outputs": [
    {
     "name": "stdout",
     "output_type": "stream",
     "text": [
      "      Index name: id\n",
      "      Columns: ['category', 'description']\n",
      "      ✓ 'id' was a column, moved to index\n"
     ]
    }
   ],
   "source": [
    "df_column = pd.DataFrame({\n",
    "    'id': [1, 2],\n",
    "    'category': ['Electronics', 'Books'],\n",
    "    'description': ['Tech items', 'Reading material']\n",
    "})\n",
    "\n",
    "categories = pa.TableDataFrame('categories', df_column, 'id', engine)\n",
    "print(f\"      Index name: {categories._data.index.name}\")\n",
    "print(f\"      Columns: {list(categories._data.columns)}\")\n",
    "print(\"      ✓ 'id' was a column, moved to index\")\n",
    "\n",
    "products.push()\n",
    "categories.push()"
   ]
  },
  {
   "cell_type": "markdown",
   "metadata": {},
   "source": [
    "### 3. Auto-Increment with Index-Based PK"
   ]
  },
  {
   "cell_type": "code",
   "execution_count": 8,
   "metadata": {
    "execution": {
     "iopub.execute_input": "2025-10-21T14:33:01.432659Z",
     "iopub.status.busy": "2025-10-21T14:33:01.432602Z",
     "iopub.status.idle": "2025-10-21T14:33:01.441355Z",
     "shell.execute_reply": "2025-10-21T14:33:01.441012Z"
    }
   },
   "outputs": [
    {
     "name": "stdout",
     "output_type": "stream",
     "text": [
      "\n",
      "   Created with index-based PK + auto-increment:\n",
      "   Index name: post_id\n",
      "               title    content\n",
      "post_id                        \n",
      "1         First Post  Content 1\n",
      "2        Second Post  Content 2\n",
      "\n",
      "   Adding post without ID:\n",
      "   ✓ New post ID: 3\n",
      "               title            content\n",
      "post_id                                \n",
      "1         First Post          Content 1\n",
      "2        Second Post          Content 2\n",
      "3         Third Post  Auto-generated ID\n"
     ]
    }
   ],
   "source": [
    "# Create table with index-based PK and auto-increment\n",
    "posts_df = pd.DataFrame({\n",
    "    'title': ['First Post', 'Second Post'],\n",
    "    'content': ['Content 1', 'Content 2']\n",
    "}, index=[1, 2])\n",
    "\n",
    "posts = pa.TableDataFrame('posts', posts_df, 'post_id', engine, \n",
    "                           auto_increment=True)\n",
    "posts.push()\n",
    "\n",
    "print(\"\\n   Created with index-based PK + auto-increment:\")\n",
    "print(f\"   Index name: {posts._data.index.name}\")\n",
    "print(posts.to_pandas())\n",
    "\n",
    "# Add without specifying ID\n",
    "print(\"\\n   Adding post without ID:\")\n",
    "posts.add_row({\n",
    "    'title': 'Third Post',\n",
    "    'content': 'Auto-generated ID'\n",
    "}, auto_increment=True)\n",
    "\n",
    "posts.push()\n",
    "print(f\"   ✓ New post ID: {posts._data.index.max()}\")\n",
    "print(posts.to_pandas())"
   ]
  },
  {
   "cell_type": "markdown",
   "metadata": {},
   "source": [
    "### 4. Named vs Unnamed Index"
   ]
  },
  {
   "cell_type": "code",
   "execution_count": 9,
   "metadata": {
    "execution": {
     "iopub.execute_input": "2025-10-21T14:33:01.442487Z",
     "iopub.status.busy": "2025-10-21T14:33:01.442421Z",
     "iopub.status.idle": "2025-10-21T14:33:01.443856Z",
     "shell.execute_reply": "2025-10-21T14:33:01.443550Z"
    }
   },
   "outputs": [],
   "source": [
    "# Unnamed index"
   ]
  },
  {
   "cell_type": "markdown",
   "metadata": {},
   "source": [
    "### \\n   a) Unnamed index:"
   ]
  },
  {
   "cell_type": "code",
   "execution_count": 10,
   "metadata": {
    "execution": {
     "iopub.execute_input": "2025-10-21T14:33:01.444762Z",
     "iopub.status.busy": "2025-10-21T14:33:01.444708Z",
     "iopub.status.idle": "2025-10-21T14:33:01.446660Z",
     "shell.execute_reply": "2025-10-21T14:33:01.446347Z"
    }
   },
   "outputs": [
    {
     "name": "stdout",
     "output_type": "stream",
     "text": [
      "      Index name before: None\n",
      "      Index name after: id\n",
      "      ✓ Index automatically named 'id'\n"
     ]
    }
   ],
   "source": [
    "df1 = pd.DataFrame({'value': [10, 20]}, index=[1, 2])\n",
    "print(f\"      Index name before: {df1.index.name}\")\n",
    "\n",
    "t1 = pa.TableDataFrame('test1', df1, 'id', engine)\n",
    "print(f\"      Index name after: {t1._data.index.name}\")\n",
    "print(\"      ✓ Index automatically named 'id'\")\n",
    "\n",
    "# Already named index (matching)"
   ]
  },
  {
   "cell_type": "markdown",
   "metadata": {},
   "source": [
    "### \\n   b) Index already named correctly:"
   ]
  },
  {
   "cell_type": "code",
   "execution_count": 11,
   "metadata": {
    "execution": {
     "iopub.execute_input": "2025-10-21T14:33:01.447626Z",
     "iopub.status.busy": "2025-10-21T14:33:01.447574Z",
     "iopub.status.idle": "2025-10-21T14:33:01.449304Z",
     "shell.execute_reply": "2025-10-21T14:33:01.449051Z"
    }
   },
   "outputs": [
    {
     "name": "stdout",
     "output_type": "stream",
     "text": [
      "      Index name before: id\n",
      "      Index name after: id\n",
      "      ✓ Index name preserved\n"
     ]
    }
   ],
   "source": [
    "df2 = pd.DataFrame({'value': [30, 40]}, index=pd.Index([1, 2], name='id'))\n",
    "print(f\"      Index name before: {df2.index.name}\")\n",
    "\n",
    "t2 = pa.TableDataFrame('test2', df2, 'id', engine)\n",
    "print(f\"      Index name after: {t2._data.index.name}\")\n",
    "print(\"      ✓ Index name preserved\")"
   ]
  },
  {
   "cell_type": "markdown",
   "metadata": {},
   "source": [
    "### 5. Error Handling: Index Name Mismatch"
   ]
  },
  {
   "cell_type": "code",
   "execution_count": 12,
   "metadata": {
    "execution": {
     "iopub.execute_input": "2025-10-21T14:33:01.450272Z",
     "iopub.status.busy": "2025-10-21T14:33:01.450206Z",
     "iopub.status.idle": "2025-10-21T14:33:01.451573Z",
     "shell.execute_reply": "2025-10-21T14:33:01.451230Z"
    }
   },
   "outputs": [],
   "source": [
    "# Index has different name than primary_key parameter"
   ]
  },
  {
   "cell_type": "markdown",
   "metadata": {},
   "source": [
    "### \\n   a) Index name doesn't match primary_key:"
   ]
  },
  {
   "cell_type": "code",
   "execution_count": 13,
   "metadata": {
    "execution": {
     "iopub.execute_input": "2025-10-21T14:33:01.452496Z",
     "iopub.status.busy": "2025-10-21T14:33:01.452449Z",
     "iopub.status.idle": "2025-10-21T14:33:01.454279Z",
     "shell.execute_reply": "2025-10-21T14:33:01.453927Z"
    }
   },
   "outputs": [
    {
     "name": "stdout",
     "output_type": "stream",
     "text": [
      "      ✓ Correctly raised ValueError\n",
      "      Message: Primary key mismatch: index is named 'user_id' but primary_key paramet...\n"
     ]
    }
   ],
   "source": [
    "df_mismatch = pd.DataFrame({'value': [50, 60]})\n",
    "df_mismatch.index.name = 'user_id'\n",
    "\n",
    "try:\n",
    "    t3 = pa.TableDataFrame('test3', df_mismatch, 'id', engine)\n",
    "    print(\"      ❌ Should have raised ValueError\")\n",
    "except ValueError as e:\n",
    "    print(f\"      ✓ Correctly raised ValueError\")\n",
    "    print(f\"      Message: {str(e)[:70]}...\")"
   ]
  },
  {
   "cell_type": "markdown",
   "metadata": {},
   "source": [
    "### 6. Error Handling: Ambiguous Primary Key"
   ]
  },
  {
   "cell_type": "code",
   "execution_count": 14,
   "metadata": {
    "execution": {
     "iopub.execute_input": "2025-10-21T14:33:01.455092Z",
     "iopub.status.busy": "2025-10-21T14:33:01.455044Z",
     "iopub.status.idle": "2025-10-21T14:33:01.456817Z",
     "shell.execute_reply": "2025-10-21T14:33:01.456490Z"
    }
   },
   "outputs": [
    {
     "name": "stdout",
     "output_type": "stream",
     "text": [
      "\n",
      "   PK name exists in both column and index:\n",
      "      ✓ Correctly raised ValueError\n",
      "      Message: Ambiguous primary key 'id': exists as both a column and index name. Pl...\n"
     ]
    }
   ],
   "source": [
    "# PK exists as both column and index name\n",
    "print(\"\\n   PK name exists in both column and index:\")\n",
    "df_ambiguous = pd.DataFrame({\n",
    "    'id': [1, 2, 3],\n",
    "    'value': [100, 200, 300]\n",
    "})\n",
    "df_ambiguous.index.name = 'id'  # Now 'id' is both!\n",
    "\n",
    "try:\n",
    "    t4 = pa.TableDataFrame('test4', df_ambiguous, 'id', engine)\n",
    "    print(\"      ❌ Should have raised ValueError\")\n",
    "except ValueError as e:\n",
    "    print(f\"      ✓ Correctly raised ValueError\")\n",
    "    print(f\"      Message: {str(e)[:70]}...\")"
   ]
  },
  {
   "cell_type": "markdown",
   "metadata": {},
   "source": [
    "### 7. Real-World Example: Time Series Data"
   ]
  },
  {
   "cell_type": "code",
   "execution_count": 15,
   "metadata": {
    "execution": {
     "iopub.execute_input": "2025-10-21T14:33:01.457715Z",
     "iopub.status.busy": "2025-10-21T14:33:01.457649Z",
     "iopub.status.idle": "2025-10-21T14:33:01.467829Z",
     "shell.execute_reply": "2025-10-21T14:33:01.467509Z"
    }
   },
   "outputs": [
    {
     "name": "stdout",
     "output_type": "stream",
     "text": [
      "\n",
      "   Time series DataFrame:\n",
      "   Index type: DatetimeIndex\n",
      "   Index name: None\n",
      "            temperature  humidity\n",
      "2024-01-01           72        65\n",
      "2024-01-02           75        68\n",
      "2024-01-03           73        70\n",
      "2024-01-04           71        67\n",
      "2024-01-05           74        66\n",
      "\n",
      "   ✓ Created weather table\n",
      "   Index name: date\n",
      "            temperature  humidity\n",
      "date                             \n",
      "2024-01-01           72        65\n",
      "2024-01-02           75        68\n",
      "2024-01-03           73        70\n",
      "2024-01-04           71        67\n",
      "2024-01-05           74        66\n"
     ]
    }
   ],
   "source": [
    "# Create time series with timestamp as index\n",
    "dates = pd.date_range('2024-01-01', periods=5, freq='D')\n",
    "ts_df = pd.DataFrame({\n",
    "    'temperature': [72, 75, 73, 71, 74],\n",
    "    'humidity': [65, 68, 70, 67, 66]\n",
    "}, index=dates)\n",
    "\n",
    "print(\"\\n   Time series DataFrame:\")\n",
    "print(f\"   Index type: {type(ts_df.index).__name__}\")\n",
    "print(f\"   Index name: {ts_df.index.name}\")\n",
    "print(ts_df)\n",
    "\n",
    "# Need to convert DatetimeIndex to something SQL-friendly\n",
    "ts_df_sql = ts_df.copy()\n",
    "ts_df_sql.index = ts_df_sql.index.astype(str)\n",
    "\n",
    "weather = pa.TableDataFrame('weather', ts_df_sql, 'date', engine)\n",
    "weather.push()\n",
    "\n",
    "print(f\"\\n   ✓ Created weather table\")\n",
    "print(f\"   Index name: {weather._data.index.name}\")\n",
    "print(weather.to_pandas())"
   ]
  },
  {
   "cell_type": "markdown",
   "metadata": {},
   "source": [
    "### 8. Composite Keys with Index"
   ]
  },
  {
   "cell_type": "code",
   "execution_count": 16,
   "metadata": {
    "execution": {
     "iopub.execute_input": "2025-10-21T14:33:01.468820Z",
     "iopub.status.busy": "2025-10-21T14:33:01.468766Z",
     "iopub.status.idle": "2025-10-21T14:33:01.476239Z",
     "shell.execute_reply": "2025-10-21T14:33:01.475903Z"
    }
   },
   "outputs": [
    {
     "name": "stdout",
     "output_type": "stream",
     "text": [
      "\n",
      "   MultiIndex DataFrame:\n",
      "   Index names: [None, None]\n",
      "                value timestamp\n",
      "Server1 CPU      45.2     10:00\n",
      "        Memory   62.1     10:00\n",
      "Server2 CPU      78.3     10:00\n",
      "        Memory   45.8     10:00\n",
      "\n",
      "   ✓ Created with composite PK\n",
      "   Index names: ['server_id', 'metric_name']\n",
      "                       value timestamp\n",
      "server_id metric_name                 \n",
      "Server1   CPU           45.2     10:00\n",
      "          Memory        62.1     10:00\n",
      "Server2   CPU           78.3     10:00\n",
      "          Memory        45.8     10:00\n"
     ]
    }
   ],
   "source": [
    "# Create MultiIndex DataFrame\n",
    "arrays = [\n",
    "    ['Server1', 'Server1', 'Server2', 'Server2'],\n",
    "    ['CPU', 'Memory', 'CPU', 'Memory']\n",
    "]\n",
    "multi_index = pd.MultiIndex.from_arrays(arrays)\n",
    "\n",
    "metrics_df = pd.DataFrame({\n",
    "    'value': [45.2, 62.1, 78.3, 45.8],\n",
    "    'timestamp': ['10:00', '10:00', '10:00', '10:00']\n",
    "}, index=multi_index)\n",
    "\n",
    "print(\"\\n   MultiIndex DataFrame:\")\n",
    "print(f\"   Index names: {metrics_df.index.names}\")\n",
    "print(metrics_df)\n",
    "\n",
    "# Name the MultiIndex levels\n",
    "metrics = pa.TableDataFrame('metrics', metrics_df, \n",
    "                              ['server_id', 'metric_name'], engine)\n",
    "\n",
    "print(f\"\\n   ✓ Created with composite PK\")\n",
    "print(f\"   Index names: {metrics._data.index.names}\")\n",
    "print(metrics.to_pandas())\n",
    "\n",
    "metrics.push()"
   ]
  },
  {
   "cell_type": "markdown",
   "metadata": {},
   "source": [
    "### 9. Migration Pattern: Column to Index"
   ]
  },
  {
   "cell_type": "code",
   "execution_count": 17,
   "metadata": {
    "execution": {
     "iopub.execute_input": "2025-10-21T14:33:01.477420Z",
     "iopub.status.busy": "2025-10-21T14:33:01.477354Z",
     "iopub.status.idle": "2025-10-21T14:33:01.478877Z",
     "shell.execute_reply": "2025-10-21T14:33:01.478530Z"
    }
   },
   "outputs": [],
   "source": [
    "# Start with column-based"
   ]
  },
  {
   "cell_type": "markdown",
   "metadata": {},
   "source": [
    "### \\n   a) Original (column-based):"
   ]
  },
  {
   "cell_type": "code",
   "execution_count": 18,
   "metadata": {
    "execution": {
     "iopub.execute_input": "2025-10-21T14:33:01.479739Z",
     "iopub.status.busy": "2025-10-21T14:33:01.479688Z",
     "iopub.status.idle": "2025-10-21T14:33:01.481843Z",
     "shell.execute_reply": "2025-10-21T14:33:01.481451Z"
    }
   },
   "outputs": [
    {
     "name": "stdout",
     "output_type": "stream",
     "text": [
      "   employee_id     name department\n",
      "0          100    Alice        Eng\n",
      "1          101      Bob      Sales\n",
      "2          102  Charlie        Eng\n"
     ]
    }
   ],
   "source": [
    "old_df = pd.DataFrame({\n",
    "    'employee_id': [100, 101, 102],\n",
    "    'name': ['Alice', 'Bob', 'Charlie'],\n",
    "    'department': ['Eng', 'Sales', 'Eng']\n",
    "})\n",
    "print(old_df)\n",
    "\n",
    "# Convert to index-based"
   ]
  },
  {
   "cell_type": "markdown",
   "metadata": {},
   "source": [
    "### \\n   b) Converted (index-based):"
   ]
  },
  {
   "cell_type": "code",
   "execution_count": 19,
   "metadata": {
    "execution": {
     "iopub.execute_input": "2025-10-21T14:33:01.482752Z",
     "iopub.status.busy": "2025-10-21T14:33:01.482701Z",
     "iopub.status.idle": "2025-10-21T14:33:01.488582Z",
     "shell.execute_reply": "2025-10-21T14:33:01.488295Z"
    }
   },
   "outputs": [
    {
     "name": "stdout",
     "output_type": "stream",
     "text": [
      "   Index name: employee_id\n",
      "                name department\n",
      "employee_id                    \n",
      "100            Alice        Eng\n",
      "101              Bob      Sales\n",
      "102          Charlie        Eng\n",
      "\n",
      "   ✓ Now employee_id is the index\n",
      "                name department\n",
      "employee_id                    \n",
      "100            Alice        Eng\n",
      "101              Bob      Sales\n",
      "102          Charlie        Eng\n"
     ]
    }
   ],
   "source": [
    "new_df = old_df.set_index('employee_id')\n",
    "print(f\"   Index name: {new_df.index.name}\")\n",
    "print(new_df)\n",
    "\n",
    "employees = pa.TableDataFrame('employees', new_df, 'employee_id', engine)\n",
    "employees.push()\n",
    "\n",
    "print(\"\\n   ✓ Now employee_id is the index\")\n",
    "print(employees.to_pandas())"
   ]
  },
  {
   "cell_type": "markdown",
   "metadata": {},
   "source": [
    "### 10. Best Practices"
   ]
  },
  {
   "cell_type": "code",
   "execution_count": 20,
   "metadata": {
    "execution": {
     "iopub.execute_input": "2025-10-21T14:33:01.489592Z",
     "iopub.status.busy": "2025-10-21T14:33:01.489539Z",
     "iopub.status.idle": "2025-10-21T14:33:01.491772Z",
     "shell.execute_reply": "2025-10-21T14:33:01.491438Z"
    }
   },
   "outputs": [
    {
     "name": "stdout",
     "output_type": "stream",
     "text": [
      "\n",
      "   ✓ Use index-based PKs when:\n",
      "      • Data naturally has a unique identifier\n",
      "      • You want to leverage pandas indexing features\n",
      "      • Working with time series (date/time index)\n",
      "      • Migrating from pure pandas code\n",
      "\n",
      "   ✓ Use column-based PKs when:\n",
      "      • PK is just another attribute\n",
      "      • You need PK in computations\n",
      "      • Interfacing with legacy code\n",
      "\n",
      "   ✓ Remember:\n",
      "      • Unnamed index → named with primary_key parameter\n",
      "      • Named index → must match primary_key or be unnamed\n",
      "      • Can't have PK in both index and columns\n",
      "\n",
      "======================================================================\n",
      "Example Complete!\n",
      "Key Takeaways:\n",
      "  • DataFrame index can be used as primary key\n",
      "  • Unnamed indexes are automatically named\n",
      "  • Index names must match primary_key parameter\n",
      "  • Prevents ambiguity (PK can't be both column and index)\n",
      "  • Works with auto-increment and composite keys\n"
     ]
    }
   ],
   "source": [
    "print(\"\\n   ✓ Use index-based PKs when:\")\n",
    "print(\"      • Data naturally has a unique identifier\")\n",
    "print(\"      • You want to leverage pandas indexing features\")\n",
    "print(\"      • Working with time series (date/time index)\")\n",
    "print(\"      • Migrating from pure pandas code\")\n",
    "\n",
    "print(\"\\n   ✓ Use column-based PKs when:\")\n",
    "print(\"      • PK is just another attribute\")\n",
    "print(\"      • You need PK in computations\")\n",
    "print(\"      • Interfacing with legacy code\")\n",
    "\n",
    "print(\"\\n   ✓ Remember:\")\n",
    "print(\"      • Unnamed index → named with primary_key parameter\")\n",
    "print(\"      • Named index → must match primary_key or be unnamed\")\n",
    "print(\"      • Can't have PK in both index and columns\")\n",
    "\n",
    "print(\"\\n\" + \"=\" * 70)\n",
    "print(\"Example Complete!\")\n",
    "print(\"Key Takeaways:\")\n",
    "print(\"  • DataFrame index can be used as primary key\")\n",
    "print(\"  • Unnamed indexes are automatically named\")\n",
    "print(\"  • Index names must match primary_key parameter\")\n",
    "print(\"  • Prevents ambiguity (PK can't be both column and index)\")\n",
    "print(\"  • Works with auto-increment and composite keys\")"
   ]
  }
 ],
 "metadata": {
  "kernelspec": {
   "display_name": "Python 3",
   "language": "python",
   "name": "python3"
  },
  "language_info": {
   "codemirror_mode": {
    "name": "ipython",
    "version": 3
   },
   "file_extension": ".py",
   "mimetype": "text/x-python",
   "name": "python",
   "nbconvert_exporter": "python",
   "pygments_lexer": "ipython3",
   "version": "3.11.13"
  }
 },
 "nbformat": 4,
 "nbformat_minor": 4
}
